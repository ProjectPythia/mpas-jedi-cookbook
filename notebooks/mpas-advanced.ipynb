{
 "cells": [
  {
   "cell_type": "markdown",
   "id": "d42403d2-1f38-40d8-8a16-bce3c99b59f8",
   "metadata": {},
   "source": [
    "# Advanced MPAS Analysis & Visualization with UXarray"
   ]
  },
  {
   "cell_type": "markdown",
   "id": "c4291d90-50a8-48b4-a763-7ece16499cdb",
   "metadata": {},
   "source": [
    "<img src=\"path or URL to some visual here\"\n",
    "     width=\"30%\"\n",
    "     alt=\"MPAS advanced visual\"\n",
    "     align=\"right\"\n",
    "/>\n",
    "\n",
    "### In this section, you'll learn:\n",
    "\n",
    "* Utilizing the UXarray package to perform advanced analysis over MPAS data, such as cross-sections and zonal averages, etc.\n",
    "* Using Matplotlib and hvPlot to visualize analysis.\n",
    "\n",
    "### Related Documentation\n",
    "\n",
    "* [URL title](URL)\n",
    "\n",
    "### Prerequisites\n",
    "\n",
    "| Concepts | Importance | Notes |\n",
    "| --- | --- | --- |\n",
    "| [UXarray](https://uxarray--1321.org.readthedocs.build/en/1321/index.html#) | Necessary  | |\n",
    "| [SciPy](https://scipy.org/) | Helpful  | |\n",
    "| [HoloViews](https://holoviews.org/) | Helpful | |\n",
    "\n",
    "\n",
    "**Time to learn**: 30 minutes?\n",
    "\n",
    "-----"
   ]
  },
  {
   "cell_type": "markdown",
   "id": "45ab765a-e1ea-4fe3-ab57-5c51179d6e7b",
   "metadata": {},
   "source": [
    "## Import packages\n"
   ]
  },
  {
   "cell_type": "code",
   "execution_count": null,
   "id": "e5786447-ca78-45ed-be6e-fc43fcce58b3",
   "metadata": {},
   "outputs": [],
   "source": [
    "%%time \n",
    "\n",
    "# autoload external python modules if they changed\n",
    "%load_ext autoreload\n",
    "%autoreload 2\n",
    "\n",
    "# add ../funcs to the current path\n",
    "import sys, os\n",
    "sys.path.append(os.path.join(os.getcwd(), \"..\")) \n",
    "\n",
    "import warnings\n",
    "import math\n",
    "\n",
    "import cartopy.crs as ccrs\n",
    "import geoviews as gv\n",
    "import geoviews.feature as gf\n",
    "import matplotlib.pyplot as plt\n",
    "\n",
    "import s3fs\n",
    "\n",
    "import geopandas as gp\n",
    "import numpy as np\n",
    "import uxarray as ux\n",
    "import xarray as xr"
   ]
  },
  {
   "cell_type": "markdown",
   "id": "440680ba-dacf-4617-b0c5-beea08f78198",
   "metadata": {},
   "source": [
    "**UXarray and hvPlot**\n",
    "\n",
    "`hvPlot` is a high-level API built on `HoloViews` that provides interactive plots. It is integrated with `UXarray` with a `.hvplot()` similar to `.plot()` in `Pandas` library, but will produce more interactive figures. Import the relevant packages if you want to use the `hvplot` API."
   ]
  },
  {
   "cell_type": "code",
   "execution_count": null,
   "id": "a422173e-4e89-48d9-83fe-1fc5bc2740c2",
   "metadata": {},
   "outputs": [],
   "source": [
    "%%time \n",
    "import holoviews as hv\n",
    "import hvplot.xarray\n",
    "from holoviews import opts\n",
    "# hv.extension(\"bokeh\")"
   ]
  },
  {
   "cell_type": "markdown",
   "id": "5e00234e-3984-47b5-9968-5485f9a94e38",
   "metadata": {},
   "source": [
    "## Configure visualization tools"
   ]
  },
  {
   "cell_type": "code",
   "execution_count": null,
   "id": "b654be71-a194-4c61-8e47-ae78bcef07cb",
   "metadata": {},
   "outputs": [],
   "source": [
    "# common border lines\n",
    "coast_lines = gf.coastline(projection=ccrs.PlateCarree(), line_width=1, scale=\"50m\")\n",
    "state_lines = gf.states(projection=ccrs.PlateCarree(), line_width=1, line_color='gray', scale=\"50m\")"
   ]
  },
  {
   "cell_type": "markdown",
   "id": "d6c3ecd6-d4ac-4c09-89fe-a28f59b990ef",
   "metadata": {},
   "source": [
    ":::{hint}\n",
    "\n",
    "We use the unstructured-grid analysis data hosted by the Jetstream2 S3 bucket repository using UXaray. The data is executed by [MPAS](https://mpas-dev.github.io/) over the CONUS (contiguous United States) with a resolution of 12 kilometres, which is stored in the NetCDF format. \n",
    "\n",
    "For more information about the `UXarray` and unstructured grid, please go to [Working with unstructured grids with UXarray](https://uxarray.readthedocs.io/en/v2023.08.0/examples/001-working-with-unstructured-grids.html).\n",
    "\n",
    ":::"
   ]
  },
  {
   "cell_type": "markdown",
   "id": "7e23a731-9e24-4f4d-b0d2-e792105d384b",
   "metadata": {},
   "source": [
    "## Retrieve/load  MPAS/JEDI data\n",
    "\n",
    "\n",
    "The example MPAS/JEDI data are stored at [jetstream2](https://par.nsf.gov/biblio/10296117-jetstream2-accelerating-cloud-computing-via-jetstream). We need to retreive those data first.   \n",
    "There are two ways to retrieve MPAS data:\n",
    "- 1. Download all example data from JetStream2 to local and them load them locally. This approach allows downloading the data once per machine and reuse it in notebooks.\n",
    "- 2. Stream the JetStream2 S3 objects on demand. In this case, each notebook (including restarting a notebook) will retrieve the required data separately as needed."
   ]
  },
  {
   "cell_type": "code",
   "execution_count": null,
   "id": "ec8a6829-ab19-4b0d-ba6f-8b188623bd2a",
   "metadata": {},
   "outputs": [],
   "source": [
    "# choose the data_load_method, check the above cell for details. Default to method 2; use 1 if running this on your own machine\n",
    "data_load_method = 2  # 1 or 2"
   ]
  },
  {
   "cell_type": "markdown",
   "id": "b34771bc-e222-4f8a-802c-a6ffab3330b9",
   "metadata": {},
   "source": [
    "### Method 1: Download all example data once and reuse it in mulptile notebooks"
   ]
  },
  {
   "cell_type": "code",
   "execution_count": null,
   "id": "d2f02501-f052-4e06-b6f3-ee0be46294d8",
   "metadata": {},
   "outputs": [],
   "source": [
    "%%time\n",
    "local_dir=\"/tmp\"\n",
    "\n",
    "if data_load_method == 1 and not os.path.exists(local_dir + \"/conus12km/bkg/mpasout.2024-05-06_01.00.00.nc\"):\n",
    "    jetstream_url = 'https://js2.jetstream-cloud.org:8001/'\n",
    "    fs = s3fs.S3FileSystem(anon=True, asynchronous=False,client_kwargs=dict(endpoint_url=jetstream_url))\n",
    "    conus12_path = 's3://pythia/mpas/conus12km'\n",
    "    fs.get(conus12_path, local_dir, recursive=True)\n",
    "    print(\"Data downloading completed\")\n",
    "else:\n",
    "    print(\"Skip..., either data is available in local or data_load_method is NOT 1\")"
   ]
  },
  {
   "cell_type": "code",
   "execution_count": null,
   "id": "c22fb535-88dc-4580-94de-2bfe4d31f7c0",
   "metadata": {},
   "outputs": [],
   "source": [
    "# Set file path\n",
    "if data_load_method == 1:\n",
    "    grid_file = local_dir + \"/conus12km/conus12km.invariant.nc_L60_GFS\"\n",
    "    ana_file = local_dir + \"/conus12km/bkg/mpasout.2024-05-06_01.00.00.nc\"\n",
    "    bkg_file = local_dir + \"/conus12km/ana/mpasout.2024-05-06_01.00.00.nc\"\n",
    "    # jdiag_file = local_dir + \"/conus12km/jdiag_aircar_t133.nc\"  #q133.nc or uv233.nc"
   ]
  },
  {
   "cell_type": "markdown",
   "id": "be9d2ab4-536d-49fb-9abb-868892f2d7bf",
   "metadata": {},
   "source": [
    "### Method 2: Stream the JetStream2 S3 objects on demand"
   ]
  },
  {
   "cell_type": "code",
   "execution_count": null,
   "id": "98004f21-d612-4f5e-843e-19da707708a1",
   "metadata": {},
   "outputs": [],
   "source": [
    "%%time\n",
    "if data_load_method == 2:\n",
    "    jetstream_url = 'https://js2.jetstream-cloud.org:8001/'\n",
    "    fs = s3fs.S3FileSystem(anon=True, asynchronous=False,client_kwargs=dict(endpoint_url=jetstream_url))\n",
    "    conus12_path = 's3://pythia/mpas/conus12km'\n",
    "    \n",
    "    grid_url=f\"{conus12_path}/conus12km.invariant.nc_L60_GFS\"\n",
    "    bkg_url=f\"{conus12_path}/bkg/mpasout.2024-05-06_01.00.00.nc\"\n",
    "    ana_url=f\"{conus12_path}/ana/mpasout.2024-05-06_01.00.00.nc\"\n",
    "    # jdiag_url=f\"{conus12_path}/jdiag_aircar_t133.nc\"\n",
    "    \n",
    "    grid_file = fs.open(grid_url)\n",
    "    ana_file = fs.open(ana_url)\n",
    "    bkg_file = fs.open(bkg_url)\n",
    "    # jdiag_file = fs.open(jdiag_url)\n",
    "else:\n",
    "    print(\"Skip..., data_load_method is NOT 2\")"
   ]
  },
  {
   "cell_type": "markdown",
   "id": "6ba64259-b1a0-466d-b370-164b900e28da",
   "metadata": {},
   "source": [
    ":::{warning}\n",
    "Depending on the network conditions, loading the data can take a few minutes.\n",
    ":::"
   ]
  },
  {
   "cell_type": "markdown",
   "id": "b9a5b871-21de-40e7-b111-1856a44c7e37",
   "metadata": {},
   "source": [
    "### Loading the data into UXarray datasets\n",
    "\n",
    "We use the UXarray data structures for working with the data. This package supports data defined over unstructured grid and provides utilities for modifying and visualizing it. The available fucntionality are discussed in [`UxDataset` documentation](https://uxarray.readthedocs.io/en/latest/generated/uxarray.UxDataset.html#uxarray.UxDataset).    \n",
    "For more information about the `UXarray` and unstructured grid, please go to [Working with unstructured grids with UXarray](https://uxarray.readthedocs.io/en/v2023.08.0/examples/001-working-with-unstructured-grids.html)."
   ]
  },
  {
   "cell_type": "code",
   "execution_count": null,
   "id": "1becbfda-786f-4aa6-a42e-dcbd122b6ad5",
   "metadata": {},
   "outputs": [],
   "source": [
    "uxds = ux.open_dataset(grid_file, bkg_file)\n",
    "\n",
    "# We will extract the potential temperature `theta` from the analysis data from MPAS and convert it from Kelvin to Celsius.\n",
    "uxvar = uxds['theta'].isel(Time=0) - 273.15   ## Kelvin to Celsius"
   ]
  },
  {
   "cell_type": "markdown",
   "id": "2ea8a302-a32a-41b7-9ba2-be258b603942",
   "metadata": {},
   "source": [
    "### basic information of used dataset"
   ]
  },
  {
   "cell_type": "code",
   "execution_count": null,
   "id": "4ec14576-cd8b-430d-bae6-18bd44579747",
   "metadata": {},
   "outputs": [],
   "source": [
    "min_lat,max_lat = float(uxvar.uxgrid.face_lat.min()),float(uxvar.uxgrid.face_lat.max())\n",
    "min_lon,max_lon = float(uxvar.uxgrid.face_lon.min()),float(uxvar.uxgrid.face_lon.max())\n",
    "print( f\"The data is over \"+\n",
    "      f\"{abs(min_lat):.1f}°{'N' if min_lat >= 0 else 'S'}~{abs(max_lat):.1f}°{'N' if max_lat >= 0 else 'S'}, \"\n",
    "      f\"{min_lon:.1f}°{'E' if min_lon >= 0 else 'W'}~{max_lon:.1f}°{'E' if max_lon >= 0 else 'W'}, \"+\n",
    "      \"\\n\"+\n",
    "     \"with a resolution of {:d} horizontal grids * {:d} vertical levels.\".format(uxvar.shape[-2],uxvar.shape[-1]))"
   ]
  },
  {
   "cell_type": "markdown",
   "id": "3272fe80-0e8a-458e-891e-4880271aee7f",
   "metadata": {},
   "source": [
    "### Indexing and selecting"
   ]
  },
  {
   "cell_type": "markdown",
   "id": "ba35b3e8-c833-44a4-b39a-ee11f73939c6",
   "metadata": {},
   "source": [
    "#### Subset a latitudinal or longitudinal band"
   ]
  },
  {
   "cell_type": "code",
   "execution_count": null,
   "id": "650f7156-d41a-4e35-b937-7cb91f1728b9",
   "metadata": {},
   "outputs": [],
   "source": [
    "uxvar_latitudinal_slice=uxvar.isel(nVertLevels=0).subset.constant_latitude_interval(lats=(int(min_lat+10),int(max_lat-10)))\n",
    "\n",
    "uxvar_longitudinal_slice=uxvar.isel(nVertLevels=0).subset.constant_longitude_interval(lons=(int(min_lon+30),int(max_lon-30)))\n",
    "\n",
    "\n",
    "(uxvar_latitudinal_slice.plot(\n",
    "        cmap=\"inferno\",\n",
    "        height=500, width=800,\n",
    "        ylim=(int(min_lat), int(max_lat) + 1),\n",
    "    ).opts(colorbar_position='bottom'\n",
    "          )*\n",
    "    (uxvar_longitudinal_slice.plot(\n",
    "        cmap=\"reds\",\n",
    "        height=500, width=800,\n",
    "        ylim=(int(min_lat), int(max_lat) + 1),\n",
    "    ).opts(colorbar_position='left')\n",
    "    )\n",
    "    * coast_lines * state_lines\n",
    ").opts(\n",
    "    title=\"Latitudinal and Longitudinal Slices of Potential Temperature at Level 0\",\n",
    "    shared_axes=True,\n",
    ")\n",
    "\n"
   ]
  },
  {
   "cell_type": "markdown",
   "id": "6eda8134-9ad6-458e-8124-891b26138012",
   "metadata": {},
   "source": [
    "## Vertical cross section\n",
    "\n",
    "Based on `UXarray`, we will generate cross-sections:\n",
    "\n",
    "- along an arbitrary great‑circle arcs (GCAs) between two point over the sphere surface.\n",
    "- along a constant longitude line\n",
    "- along a constant latitude line\n",
    "\n",
    "We will also mark the lines or arcs over a map.\n",
    "\n",
    ":::{hint}\n",
    "We assume that you have already gone over the previous section, **[Basic MPAS analysis and visualization with UXarray](mpas-basic)**. If not and if you need to learn about basic indexing, selecting, and generating horizontal figures of variables, we recommend to check that section first.\n",
    ":::"
   ]
  },
  {
   "cell_type": "markdown",
   "id": "d2564759-c114-494e-b28e-d7a0aff13d51",
   "metadata": {},
   "source": [
    "### Random Great Circle Arc (GCA)\n",
    "\n",
    "Let us use UXarray's vertical cross-section function to get a cross-section over a great circle arc:"
   ]
  },
  {
   "cell_type": "code",
   "execution_count": null,
   "id": "5eb33310-4d07-491e-93f1-cfcefa11fb63",
   "metadata": {},
   "outputs": [],
   "source": [
    "%%time\n",
    "\n",
    "start_point = (-56.,46.) # (start_lon, start_lat)\n",
    "end_point = (-80., 30.) # (end_lon,end_lat)\n",
    "step_between_points = 100\n",
    "\n",
    "cross_section_gca = uxvar.cross_section(start=start_point, end=end_point, steps=step_between_points)"
   ]
  },
  {
   "cell_type": "markdown",
   "id": "7176b6e0-a913-4f5e-93cc-805f6f4efc46",
   "metadata": {},
   "source": [
    "UXarray's cross-section returns an `xarray.DataArray` that can then be plotted:"
   ]
  },
  {
   "cell_type": "code",
   "execution_count": null,
   "id": "4c931b8d-6876-41a7-8a3d-9c7b1e04fbf4",
   "metadata": {},
   "outputs": [],
   "source": [
    "hlabelticks = [\n",
    "    f\"{abs(lat):.1f}°{'N' if lat >= 0 else 'S'}\\n{abs(lon):.1f}°{'E' if lon >= 0 else 'W'}\"\n",
    "    for lat, lon in zip(cross_section_gca['lat'], cross_section_gca['lon'])\n",
    "]\n",
    "\n",
    "tick_stride=10\n",
    "\n",
    "cross_section_gca=cross_section_gca.assign_coords({\n",
    "    'steps':cross_section_gca['steps'].values,'nVertLevels':range(cross_section_gca.shape[1])})\n",
    "\n",
    "cross_section_gca.hvplot.contourf(\n",
    "        x='steps',y='nVertLevels', \n",
    "        cmap='inferno_r',levels=range(5,300,20),\n",
    "        title=\"Cross-section from \"+\n",
    "            f\"({abs(start_point[1]):.1f}°{'S' if start_point[1] < 0 else 'N'},{abs(start_point[0]):.1f}°{'W' if start_point[0] < 0 else 'E'})\"+\n",
    "            \" to \"+\n",
    "            f\"({abs(end_point[1]):.1f}°{'S' if end_point[1] < 0 else 'N'},{abs(end_point[0]):.1f}°{'W' if end_point[0] < 0 else 'E'})\"\n",
    "    ).opts(\n",
    "    xlabel='steps',\n",
    "    xticks=list(zip(cross_section_gca['steps'].values[::tick_stride],hlabelticks[::tick_stride]))\n",
    ")"
   ]
  },
  {
   "cell_type": "markdown",
   "id": "1456f39d-6bf5-46b7-ae1b-88f9bc1bde25",
   "metadata": {},
   "source": [
    "### Constant Latitude"
   ]
  },
  {
   "cell_type": "code",
   "execution_count": null,
   "id": "20d627ac-591e-4c62-8c71-d9de3474eb08",
   "metadata": {},
   "outputs": [],
   "source": [
    "lat=43.3\n",
    "step_between_points = 400\n",
    "\n",
    "cross_section_lat = uxvar.cross_section(lat=lat, steps=step_between_points)\n",
    "\n",
    "hlabelticks = [\n",
    "    f\"{abs(lon):.1f}°{'E' if lon >= 0 else 'W'}\" for lon in cross_section_lat['lon']\n",
    "]\n",
    "tick_stride=10\n",
    "cross_section_lat=cross_section_lat.assign_coords({\n",
    "    'steps': cross_section_lat['lon'].values,\n",
    "    'nVertLevels':range(cross_section_lat.shape[1])})\n",
    "\n",
    "tick_stride=10\n",
    "cross_section_lat.hvplot.contourf(\n",
    "        x='steps',y='nVertLevels', \n",
    "        cmap='inferno_r',levels=range(5,300,20),\n",
    "        title=f\"Cross-section at {abs(lat):.1f}°{'S' if lat < 0 else 'N'}\"\n",
    "    ).opts(\n",
    "    xlabel='longitudes',\n",
    "    xticks=list(zip(cross_section_lat['lon'].values[::tick_stride],hlabelticks[::tick_stride]))\n",
    ")"
   ]
  },
  {
   "cell_type": "markdown",
   "id": "f4401882-a72a-4a73-ad9f-2c74f636853c",
   "metadata": {},
   "source": [
    "### Constant Longitude"
   ]
  },
  {
   "cell_type": "code",
   "execution_count": null,
   "id": "b50fa21d-0a15-455a-a857-3a53b2257cde",
   "metadata": {},
   "outputs": [],
   "source": [
    "%%time\n",
    "lon=-83.3\n",
    "step_between_points = 400\n",
    "cross_section_lon = uxvar.cross_section(lon=lon, steps=step_between_points)\n",
    "\n",
    "hlabelticks = [\n",
    "    f\"{abs(lat):.1f}°{'N' if lat >= 0 else 'S'}\" for lat in cross_section_lon['lat']\n",
    "]\n",
    "\n",
    "# Create labeled coordinates for plotting\n",
    "cross_section_lon = cross_section_lon.assign_coords({\n",
    "    'steps': cross_section_lon['lat'].values,\n",
    "    'nVertLevels': range(cross_section_lon['nVertLevels'].shape[0])\n",
    "})\n",
    "\n",
    "tick_stride=10\n",
    "cross_section_lon.hvplot.contourf(\n",
    "        x='steps',y='nVertLevels', \n",
    "        cmap='inferno_r',levels=range(5,300,20),\n",
    "        title=f\"Cross-section at {abs(lon):.1f}°{'W' if lon < 0 else 'E'}\"\n",
    "    ).opts(\n",
    "    xlabel='latitudes',\n",
    "    xticks=list(zip(cross_section_lon['steps'].values[::tick_stride],hlabelticks[::tick_stride]))\n",
    ")\n",
    "    "
   ]
  },
  {
   "cell_type": "markdown",
   "id": "02fee149-22ca-4cea-a85e-1b2bbd306112",
   "metadata": {},
   "source": [
    "### perspective view of cross-sections"
   ]
  },
  {
   "cell_type": "code",
   "execution_count": null,
   "id": "d0243470-b4c5-451b-bdfc-95c2d2281331",
   "metadata": {},
   "outputs": [],
   "source": [
    "\n",
    "import plotly.graph_objects as go\n",
    "\n",
    "fig = go.Figure()\n",
    "i_lev=0\n",
    "\n",
    "lon=-83.3\n",
    "step_between_points = 400\n",
    "\n",
    "lat=43.3\n",
    "step_between_points = 400\n",
    "\n",
    "lat_line_x = [min_lon, max_lon]\n",
    "lat_line_y = [lat, lat]\n",
    "lat_line_z = [i_lev*1.1, i_lev*1.1]\n",
    "\n",
    "long_line_x = [lon, lon]\n",
    "long_line_y = [min_lat, max_lat]\n",
    "lat_line_z = [i_lev*1.1, i_lev*1.1]\n",
    "\n",
    "\n",
    "# horizontal figure\n",
    "\n",
    "uxvar_lev0=uxvar.isel(nVertLevels=i_lev)\n",
    "x = uxvar_lev0.uxgrid.face_lon.values  # longitudes\n",
    "y = uxvar_lev0.uxgrid.face_lat.values  # latitudes\n",
    "z = i_lev+np.zeros_like(x)                 # project onto z=0\n",
    "values = uxvar_lev0.values.transpose()           # scalar field\n",
    "\n",
    "fig.add_trace(go.Scatter3d(\n",
    "    x=x,y=y,z=z,\n",
    "    mode='markers',marker=dict(size=3,color=values,colorscale='rdpu',cmin=0,cmax=50)\n",
    "))\n",
    "\n",
    "\n",
    "# cross-section along a constant longtiude\n",
    "\n",
    "cross_section_lon = uxvar.cross_section(lon=lon, steps=step_between_points)\n",
    "\n",
    "\n",
    "fig.add_trace(go.Scatter3d(\n",
    "    x=long_line_x, y=long_line_y,z=long_line_z,\n",
    "    mode='lines',line=dict(color='black', width=12),name='Longitude Line'\n",
    "))\n",
    "# Create labeled coordinates for plotting\n",
    "cross_section_lon = cross_section_lon.assign_coords({\n",
    "    'steps': cross_section_lon['lat'].values,\n",
    "    'nVertLevels': range(cross_section_lon['nVertLevels'].shape[0])\n",
    "})\n",
    "\n",
    "# Get coordinate arrays and create meshgrid\n",
    "LAT, LEV = np.meshgrid(cross_section_lon['steps'].values, cross_section_lon['nVertLevels'].values, indexing='ij')  \n",
    "LON = lon + np.zeros_like(LAT) \n",
    "\n",
    "# Flatten for Scatter3d\n",
    "x,y,z= LON.flatten(), LAT.flatten(), LEV.flatten()  # flip vertical axis if needed\n",
    "values = cross_section_lon.values.flatten()\n",
    "\n",
    "# Mask out NaNs\n",
    "mask = ~np.isnan(values)\n",
    "x,y,z,values = x[mask],y[mask], z[mask],values[mask]\n",
    "\n",
    "\n",
    "fig.add_trace(go.Scatter3d(\n",
    "    x=x,y=y,z=z,mode='markers',opacity=0.8,marker=dict(size=4,color=values,cmin=0,cmax=50,colorscale='rdpu',colorbar=dict(title='Value'))\n",
    "))\n",
    "\n",
    "\n",
    "# cross-section along a constant latitude\n",
    "fig.add_trace(go.Scatter3d(\n",
    "    x=lat_line_x,y=lat_line_y,z=lat_line_z,\n",
    "    mode='lines',line=dict(color='black', width=12),name='Latitude Line'\n",
    "))\n",
    "\n",
    "cross_section_lat = uxvar.cross_section(lat=lat, steps=step_between_points)\n",
    "\n",
    "# Create labeled coordinates for plotting\n",
    "cross_section_lat = cross_section_lat.assign_coords({\n",
    "    'steps': cross_section_lat['lon'].values,\n",
    "    'nVertLevels': range(cross_section_lat['nVertLevels'].shape[0])\n",
    "})\n",
    "\n",
    "# Get coordinate arrays and create meshgrid\n",
    "LON, LEV = np.meshgrid(cross_section_lat['steps'].values, cross_section_lat['nVertLevels'].values, indexing='ij')  \n",
    "LAT = lat + np.zeros_like(LON) \n",
    "\n",
    "# Flatten for Scatter3d\n",
    "x,y,z= LON.flatten(), LAT.flatten(), LEV.flatten() \n",
    "values = cross_section_lat.values.flatten()\n",
    "\n",
    "# Mask out NaNs\n",
    "mask = ~np.isnan(values)\n",
    "x,y,z,values = x[mask],y[mask], z[mask],values[mask]\n",
    "\n",
    "fig.add_trace(go.Scatter3d(\n",
    "    x=x,y=y,z=z,mode='markers',marker=dict(size=4,color=values,cmin=0,cmax=50,colorscale='rdpu',colorbar=dict(title='Value'))\n",
    "))\n",
    "\n",
    "fig.update_layout(\n",
    "    title='UXarray Filled Contour',\n",
    "    scene=dict(\n",
    "        xaxis_title='Longitude',yaxis_title='Latitude',zaxis_title='Vertical Level',\n",
    "        zaxis=dict(range=[LEV.min(),LEV.max()]),\n",
    "        # yaxis=dict(range=[min_lat-10, max_lat+10]),  # latitude range\n",
    "        camera=dict(eye=dict(x=-1.5, y=-1.5, z=1))\n",
    "    ),\n",
    "    width=800, height=800\n",
    ")\n",
    "\n",
    "fig.show()\n"
   ]
  },
  {
   "cell_type": "markdown",
   "id": "dee6f1d3-d6b8-4d4a-b09a-94b64ea2df18",
   "metadata": {},
   "source": [
    "## Zonal Average\n",
    "\n",
    "In this session we use the first level and extract its zonal averages at each latitude, with a bin width of 1$^\\circ$:"
   ]
  },
  {
   "cell_type": "code",
   "execution_count": null,
   "id": "618f8dd9-2ead-40b5-8010-a7954f543041",
   "metadata": {},
   "outputs": [],
   "source": [
    "uxvar_slice=uxvar.isel(nVertLevels=0)\n",
    "\n",
    "zonal_mean_uxvar=uxvar_slice.zonal_mean(lat=(int(min_lat),int(max_lat), 1))\n"
   ]
  },
  {
   "cell_type": "markdown",
   "id": "b51cd9e0-771a-481c-9e29-986d947c6330",
   "metadata": {},
   "source": [
    "zonal_mean uses a face-weighted average. It accounts for the area of each grid cell, ensuring that larger cells contribute proportionally more to the mean. This is crucial for MPAS grids, which are unstructured and vary in size."
   ]
  },
  {
   "cell_type": "code",
   "execution_count": null,
   "id": "f6f67e71-649b-462a-bccc-085dad8c6463",
   "metadata": {},
   "outputs": [],
   "source": [
    "(\n",
    "    uxvar_slice.plot(\n",
    "        cmap=\"inferno\",\n",
    "        height=250, width=500,\n",
    "        xlim=(int(min_lon-5),int(max_lon)+5),\n",
    "        ylim=(int(min_lat-5),int(max_lat)+5),\n",
    "    ).opts(colorbar_position='left') * coast_lines * state_lines\n",
    "    \n",
    "    + zonal_mean_uxvar.plot.line(\n",
    "        x=\"theta_zonal_mean\",y=\"latitudes\",\n",
    "        height=250,width=150,\n",
    "        ylabel=\"\",\n",
    "        ylim=(int(min_lat-5),int(max_lat)+5),\n",
    "        grid=True,\n",
    "    )\n",
    ").opts(\n",
    "    title=\"Combined Raster and Zonal Average Plot\",\n",
    "    shared_axes=True,\n",
    "      )"
   ]
  },
  {
   "cell_type": "code",
   "execution_count": null,
   "id": "cfd7d2c6-bad5-4ffd-964f-01e83c88dfa3",
   "metadata": {},
   "outputs": [],
   "source": [
    "face_weighted_zonal_mean = uxvar_slice.weighted_mean()\n"
   ]
  },
  {
   "cell_type": "markdown",
   "id": "6fcdfe3a-dce1-47ab-822e-fc62a902fae8",
   "metadata": {},
   "source": [
    "### Decompose into zonal averages and zonal anomalies\n",
    "The total field $\\theta_{i,j}$ at any grid could be decomposed into the zonal average, $\\bar{\\theta_i}$, and the deviations from the zonal average $\\theta^\\prime_{i,j}$, where $i,j$ represent the latitudinal and longitudinal coordinates, correspondinly.\n",
    "$$\n",
    "\\theta_{i,j}=\\bar{\\theta_{i}}+\\theta^{\\prime}_{i,j}\n",
    "$$\n",
    "\n",
    "Why this matters?\n",
    "\n",
    "The *eddy* components, or the zonal asymmetrical components, often capture localized variations beyond the zonal mean state. This decomposition is useful when analyzing atmospheric circulation patterns.\n",
    "\n",
    ":::{warning}\n",
    "This method provides a **rough** check of zonal anomalies by assigning fine-grid values to coarse zonal bins using simple binning logic. It’s useful for quick diagnostics, but it does not yield the accurate zonal anomaly which requires remapping operations. See other notebooks for more references.\n",
    ":::"
   ]
  },
  {
   "cell_type": "code",
   "execution_count": null,
   "id": "b606a6b6-44d2-45bd-89f4-410e7d57e4e7",
   "metadata": {},
   "outputs": [],
   "source": [
    "# Get latitudes for each face\n",
    "\n",
    "face_lats = uxvar_slice.uxgrid.face_lat.values  # shape: (n_face,)\n",
    "\n",
    "#display(zonal_mean_uxvar)\n",
    "\n",
    "lat_bins = zonal_mean_uxvar['latitudes'] \n",
    "lat_bin_indices = np.digitize(face_lats, lat_bins) - 1 \n",
    "\n",
    "# Clip to valid range\n",
    "lat_bin_indices = np.clip(lat_bin_indices, 0, len(lat_bins) - 1)\n",
    "\n",
    "# Map zonal mean to each face\n",
    "zonal_mean_per_face = zonal_mean_uxvar.values[lat_bin_indices]\n",
    "\n",
    "# Subtract to get anomaly\n",
    "uxvar_anomaly = uxvar_slice - zonal_mean_per_face\n",
    "\n",
    "(\n",
    "    uxvar_anomaly.plot(\n",
    "        cmap=\"CoolWarm\",\n",
    "        height=250, width=500,\n",
    "        xlim=(int(min_lon-5),int(max_lon)+5),\n",
    "        ylim=(int(min_lat-5),int(max_lat)+5),\n",
    "    ).opts(colorbar_position='left') * coast_lines * state_lines\n",
    "    \n",
    "    + zonal_mean_uxvar.plot.line(\n",
    "        x=\"theta_zonal_mean\",\n",
    "        y=\"latitudes\",\n",
    "\n",
    "        height=250,\n",
    "        width=150,\n",
    "        ylabel=\"\",\n",
    "        ylim=(int(min_lat-5),int(max_lat)+5),\n",
    "        grid=True,\n",
    "    )\n",
    ").opts(\n",
    "    title=\"Combined Zonal Anomaly & Zonal Average Plot\",\n",
    "      )\n"
   ]
  },
  {
   "cell_type": "code",
   "execution_count": null,
   "id": "0afc007f-6103-44cf-a6a0-c3f62d712b89",
   "metadata": {},
   "outputs": [],
   "source": []
  }
 ],
 "metadata": {
  "kernelspec": {
   "display_name": "Python 3 (ipykernel)",
   "language": "python",
   "name": "python3"
  },
  "language_info": {
   "codemirror_mode": {
    "name": "ipython",
    "version": 3
   },
   "file_extension": ".py",
   "mimetype": "text/x-python",
   "name": "python",
   "nbconvert_exporter": "python",
   "pygments_lexer": "ipython3",
   "version": "3.11.11"
  },
  "widgets": {
   "application/vnd.jupyter.widget-state+json": {
    "state": {},
    "version_major": 2,
    "version_minor": 0
   }
  }
 },
 "nbformat": 4,
 "nbformat_minor": 5
}
