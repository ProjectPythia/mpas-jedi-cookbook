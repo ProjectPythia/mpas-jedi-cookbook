{
 "cells": [
  {
   "cell_type": "markdown",
   "id": "d42403d2-1f38-40d8-8a16-bce3c99b59f8",
   "metadata": {},
   "source": [
    "# Advanced MPAS Analysis & Visualization with UXarray"
   ]
  },
  {
   "cell_type": "markdown",
   "id": "c4291d90-50a8-48b4-a763-7ece16499cdb",
   "metadata": {},
   "source": [
    "```{image} images/mpas-advanced.png\n",
    ":alt: \"MPAS Advanced\"\n",
    ":width: 400px\n",
    ":align: center\n",
    "```\n",
    "\n",
    "### In this section, you'll learn:\n",
    "\n",
    "* Utilizing the UXarray package to perform advanced analysis over MPAS data, such as cross-sections and zonal averages, etc.\n",
    "* Using Matplotlib and hvPlot to visualize analysis.\n",
    "<!--\n",
    "### Related Documentation\n",
    "\n",
    "* [URL title](URL)\n",
    "* \n",
    "-->\n",
    "### Prerequisites\n",
    "\n",
    "| Concepts | Importance | Notes |\n",
    "| --- | --- | --- |\n",
    "| [UXarray](https://uxarray--1321.org.readthedocs.build/en/1321/index.html#) | Necessary  | |\n",
    "| [SciPy](https://scipy.org/) | Helpful  | |\n",
    "| [HoloViews](https://holoviews.org/) | Helpful | |\n",
    "\n",
    "\n",
    "**Time to learn**: 15 minutes\n",
    "\n",
    "-----"
   ]
  },
  {
   "cell_type": "markdown",
   "id": "45ab765a-e1ea-4fe3-ab57-5c51179d6e7b",
   "metadata": {},
   "source": [
    "## Import packages\n"
   ]
  },
  {
   "cell_type": "code",
   "id": "e5786447-ca78-45ed-be6e-fc43fcce58b3",
   "metadata": {
    "ExecuteTime": {
     "end_time": "2025-08-14T20:42:57.549049Z",
     "start_time": "2025-08-14T20:42:51.640733Z"
    }
   },
   "source": [
    "# autoload external python modules if they changed\n",
    "%load_ext autoreload\n",
    "%autoreload 2\n",
    "\n",
    "import sys, os\n",
    "sys.path.append(os.path.join(os.getcwd(), \"..\")) \n",
    "\n",
    "\n",
    "import cartopy.crs as ccrs\n",
    "import geoviews.feature as gf\n",
    "\n",
    "import s3fs\n",
    "\n",
    "import geopandas as gp\n",
    "import numpy as np\n",
    "import uxarray as ux"
   ],
   "outputs": [
    {
     "ename": "KeyboardInterrupt",
     "evalue": "",
     "output_type": "error",
     "traceback": [
      "\u001B[0;31m---------------------------------------------------------------------------\u001B[0m",
      "\u001B[0;31mKeyboardInterrupt\u001B[0m                         Traceback (most recent call last)",
      "Cell \u001B[0;32mIn[1], line 16\u001B[0m\n\u001B[1;32m     14\u001B[0m \u001B[38;5;28;01mimport\u001B[39;00m \u001B[38;5;21;01mgeopandas\u001B[39;00m \u001B[38;5;28;01mas\u001B[39;00m \u001B[38;5;21;01mgp\u001B[39;00m\n\u001B[1;32m     15\u001B[0m \u001B[38;5;28;01mimport\u001B[39;00m \u001B[38;5;21;01mnumpy\u001B[39;00m \u001B[38;5;28;01mas\u001B[39;00m \u001B[38;5;21;01mnp\u001B[39;00m\n\u001B[0;32m---> 16\u001B[0m \u001B[38;5;28;01mimport\u001B[39;00m \u001B[38;5;21;01muxarray\u001B[39;00m \u001B[38;5;28;01mas\u001B[39;00m \u001B[38;5;21;01mux\u001B[39;00m\n",
      "File \u001B[0;32m~/PycharmProjects/dev/uxarray/uxarray/__init__.py:2\u001B[0m\n\u001B[1;32m      1\u001B[0m \u001B[38;5;28;01mfrom\u001B[39;00m \u001B[38;5;21;01m.\u001B[39;00m\u001B[38;5;21;01mconstants\u001B[39;00m \u001B[38;5;28;01mimport\u001B[39;00m INT_DTYPE, INT_FILL_VALUE\n\u001B[0;32m----> 2\u001B[0m \u001B[38;5;28;01mfrom\u001B[39;00m \u001B[38;5;21;01m.\u001B[39;00m\u001B[38;5;21;01mcore\u001B[39;00m\u001B[38;5;21;01m.\u001B[39;00m\u001B[38;5;21;01mapi\u001B[39;00m \u001B[38;5;28;01mimport\u001B[39;00m concat, open_dataset, open_grid, open_mfdataset\n\u001B[1;32m      3\u001B[0m \u001B[38;5;28;01mfrom\u001B[39;00m \u001B[38;5;21;01m.\u001B[39;00m\u001B[38;5;21;01mcore\u001B[39;00m\u001B[38;5;21;01m.\u001B[39;00m\u001B[38;5;21;01mdataarray\u001B[39;00m \u001B[38;5;28;01mimport\u001B[39;00m UxDataArray\n\u001B[1;32m      4\u001B[0m \u001B[38;5;28;01mfrom\u001B[39;00m \u001B[38;5;21;01m.\u001B[39;00m\u001B[38;5;21;01mcore\u001B[39;00m\u001B[38;5;21;01m.\u001B[39;00m\u001B[38;5;21;01mdataset\u001B[39;00m \u001B[38;5;28;01mimport\u001B[39;00m UxDataset\n",
      "File \u001B[0;32m~/PycharmProjects/dev/uxarray/uxarray/core/__init__.py:1\u001B[0m\n\u001B[0;32m----> 1\u001B[0m \u001B[38;5;28;01mfrom\u001B[39;00m \u001B[38;5;21;01m.\u001B[39;00m\u001B[38;5;21;01mapi\u001B[39;00m \u001B[38;5;28;01mimport\u001B[39;00m open_dataset, open_grid, open_mfdataset\n\u001B[1;32m      2\u001B[0m \u001B[38;5;28;01mfrom\u001B[39;00m \u001B[38;5;21;01m.\u001B[39;00m\u001B[38;5;21;01mdataarray\u001B[39;00m \u001B[38;5;28;01mimport\u001B[39;00m UxDataArray\n\u001B[1;32m      3\u001B[0m \u001B[38;5;28;01mfrom\u001B[39;00m \u001B[38;5;21;01m.\u001B[39;00m\u001B[38;5;21;01mdataset\u001B[39;00m \u001B[38;5;28;01mimport\u001B[39;00m UxDataset\n",
      "File \u001B[0;32m~/PycharmProjects/dev/uxarray/uxarray/core/api.py:9\u001B[0m\n\u001B[1;32m      5\u001B[0m \u001B[38;5;28;01mfrom\u001B[39;00m \u001B[38;5;21;01mwarnings\u001B[39;00m \u001B[38;5;28;01mimport\u001B[39;00m warn\n\u001B[1;32m      7\u001B[0m \u001B[38;5;28;01mimport\u001B[39;00m \u001B[38;5;21;01mnumpy\u001B[39;00m \u001B[38;5;28;01mas\u001B[39;00m \u001B[38;5;21;01mnp\u001B[39;00m\n\u001B[0;32m----> 9\u001B[0m \u001B[38;5;28;01mfrom\u001B[39;00m \u001B[38;5;21;01muxarray\u001B[39;00m\u001B[38;5;21;01m.\u001B[39;00m\u001B[38;5;21;01mcore\u001B[39;00m\u001B[38;5;21;01m.\u001B[39;00m\u001B[38;5;21;01mdataset\u001B[39;00m \u001B[38;5;28;01mimport\u001B[39;00m UxDataset\n\u001B[1;32m     10\u001B[0m \u001B[38;5;28;01mfrom\u001B[39;00m \u001B[38;5;21;01muxarray\u001B[39;00m\u001B[38;5;21;01m.\u001B[39;00m\u001B[38;5;21;01mcore\u001B[39;00m\u001B[38;5;21;01m.\u001B[39;00m\u001B[38;5;21;01mutils\u001B[39;00m \u001B[38;5;28;01mimport\u001B[39;00m _map_dims_to_ugrid, match_chunks_to_ugrid\n\u001B[1;32m     11\u001B[0m \u001B[38;5;28;01mfrom\u001B[39;00m \u001B[38;5;21;01muxarray\u001B[39;00m\u001B[38;5;21;01m.\u001B[39;00m\u001B[38;5;21;01mgrid\u001B[39;00m \u001B[38;5;28;01mimport\u001B[39;00m Grid\n",
      "File \u001B[0;32m~/PycharmProjects/dev/uxarray/uxarray/core/dataset.py:16\u001B[0m\n\u001B[1;32m     13\u001B[0m \u001B[38;5;28;01mfrom\u001B[39;00m \u001B[38;5;21;01mxarray\u001B[39;00m\u001B[38;5;21;01m.\u001B[39;00m\u001B[38;5;21;01mcore\u001B[39;00m\u001B[38;5;21;01m.\u001B[39;00m\u001B[38;5;21;01mutils\u001B[39;00m \u001B[38;5;28;01mimport\u001B[39;00m UncachedAccessor\n\u001B[1;32m     15\u001B[0m \u001B[38;5;28;01mimport\u001B[39;00m \u001B[38;5;21;01muxarray\u001B[39;00m\n\u001B[0;32m---> 16\u001B[0m \u001B[38;5;28;01mfrom\u001B[39;00m \u001B[38;5;21;01muxarray\u001B[39;00m\u001B[38;5;21;01m.\u001B[39;00m\u001B[38;5;21;01mcore\u001B[39;00m\u001B[38;5;21;01m.\u001B[39;00m\u001B[38;5;21;01mdataarray\u001B[39;00m \u001B[38;5;28;01mimport\u001B[39;00m UxDataArray\n\u001B[1;32m     17\u001B[0m \u001B[38;5;28;01mfrom\u001B[39;00m \u001B[38;5;21;01muxarray\u001B[39;00m\u001B[38;5;21;01m.\u001B[39;00m\u001B[38;5;21;01mcore\u001B[39;00m\u001B[38;5;21;01m.\u001B[39;00m\u001B[38;5;21;01mutils\u001B[39;00m \u001B[38;5;28;01mimport\u001B[39;00m _map_dims_to_ugrid\n\u001B[1;32m     18\u001B[0m \u001B[38;5;28;01mfrom\u001B[39;00m \u001B[38;5;21;01muxarray\u001B[39;00m\u001B[38;5;21;01m.\u001B[39;00m\u001B[38;5;21;01mformatting_html\u001B[39;00m \u001B[38;5;28;01mimport\u001B[39;00m dataset_repr\n",
      "File \u001B[0;32m~/PycharmProjects/dev/uxarray/uxarray/core/dataarray.py:16\u001B[0m\n\u001B[1;32m     13\u001B[0m \u001B[38;5;28;01mfrom\u001B[39;00m \u001B[38;5;21;01mxarray\u001B[39;00m\u001B[38;5;21;01m.\u001B[39;00m\u001B[38;5;21;01mcore\u001B[39;00m\u001B[38;5;21;01m.\u001B[39;00m\u001B[38;5;21;01mutils\u001B[39;00m \u001B[38;5;28;01mimport\u001B[39;00m UncachedAccessor\n\u001B[1;32m     15\u001B[0m \u001B[38;5;28;01mimport\u001B[39;00m \u001B[38;5;21;01muxarray\u001B[39;00m\n\u001B[0;32m---> 16\u001B[0m \u001B[38;5;28;01mfrom\u001B[39;00m \u001B[38;5;21;01muxarray\u001B[39;00m\u001B[38;5;21;01m.\u001B[39;00m\u001B[38;5;21;01mcore\u001B[39;00m\u001B[38;5;21;01m.\u001B[39;00m\u001B[38;5;21;01maggregation\u001B[39;00m \u001B[38;5;28;01mimport\u001B[39;00m _uxda_grid_aggregate\n\u001B[1;32m     17\u001B[0m \u001B[38;5;28;01mfrom\u001B[39;00m \u001B[38;5;21;01muxarray\u001B[39;00m\u001B[38;5;21;01m.\u001B[39;00m\u001B[38;5;21;01mcore\u001B[39;00m\u001B[38;5;21;01m.\u001B[39;00m\u001B[38;5;21;01mgradient\u001B[39;00m \u001B[38;5;28;01mimport\u001B[39;00m (\n\u001B[1;32m     18\u001B[0m     _calculate_edge_face_difference,\n\u001B[1;32m     19\u001B[0m     _calculate_edge_node_difference,\n\u001B[1;32m     20\u001B[0m     _calculate_grad_on_edge_from_faces,\n\u001B[1;32m     21\u001B[0m )\n\u001B[1;32m     22\u001B[0m \u001B[38;5;28;01mfrom\u001B[39;00m \u001B[38;5;21;01muxarray\u001B[39;00m\u001B[38;5;21;01m.\u001B[39;00m\u001B[38;5;21;01mcore\u001B[39;00m\u001B[38;5;21;01m.\u001B[39;00m\u001B[38;5;21;01mutils\u001B[39;00m \u001B[38;5;28;01mimport\u001B[39;00m _map_dims_to_ugrid\n",
      "File \u001B[0;32m~/PycharmProjects/dev/uxarray/uxarray/core/aggregation.py:4\u001B[0m\n\u001B[1;32m      1\u001B[0m \u001B[38;5;28;01mimport\u001B[39;00m \u001B[38;5;21;01mnumpy\u001B[39;00m \u001B[38;5;28;01mas\u001B[39;00m \u001B[38;5;21;01mnp\u001B[39;00m\n\u001B[1;32m      3\u001B[0m \u001B[38;5;28;01mimport\u001B[39;00m \u001B[38;5;21;01muxarray\u001B[39;00m\u001B[38;5;21;01m.\u001B[39;00m\u001B[38;5;21;01mcore\u001B[39;00m\u001B[38;5;21;01m.\u001B[39;00m\u001B[38;5;21;01mdataarray\u001B[39;00m\n\u001B[0;32m----> 4\u001B[0m \u001B[38;5;28;01mfrom\u001B[39;00m \u001B[38;5;21;01muxarray\u001B[39;00m\u001B[38;5;21;01m.\u001B[39;00m\u001B[38;5;21;01mgrid\u001B[39;00m\u001B[38;5;21;01m.\u001B[39;00m\u001B[38;5;21;01mconnectivity\u001B[39;00m \u001B[38;5;28;01mimport\u001B[39;00m get_face_node_partitions\n\u001B[1;32m      6\u001B[0m NUMPY_AGGREGATIONS \u001B[38;5;241m=\u001B[39m {\n\u001B[1;32m      7\u001B[0m     \u001B[38;5;124m\"\u001B[39m\u001B[38;5;124mmean\u001B[39m\u001B[38;5;124m\"\u001B[39m: np\u001B[38;5;241m.\u001B[39mmean,\n\u001B[1;32m      8\u001B[0m     \u001B[38;5;124m\"\u001B[39m\u001B[38;5;124mmax\u001B[39m\u001B[38;5;124m\"\u001B[39m: np\u001B[38;5;241m.\u001B[39mmax,\n\u001B[0;32m   (...)\u001B[0m\n\u001B[1;32m     16\u001B[0m     \u001B[38;5;124m\"\u001B[39m\u001B[38;5;124many\u001B[39m\u001B[38;5;124m\"\u001B[39m: np\u001B[38;5;241m.\u001B[39many,\n\u001B[1;32m     17\u001B[0m }\n\u001B[1;32m     20\u001B[0m \u001B[38;5;28;01mdef\u001B[39;00m \u001B[38;5;21m_uxda_grid_aggregate\u001B[39m(uxda, destination, aggregation, \u001B[38;5;241m*\u001B[39m\u001B[38;5;241m*\u001B[39mkwargs):\n",
      "File \u001B[0;32m~/PycharmProjects/dev/uxarray/uxarray/grid/__init__.py:1\u001B[0m\n\u001B[0;32m----> 1\u001B[0m \u001B[38;5;28;01mfrom\u001B[39;00m \u001B[38;5;21;01m.\u001B[39;00m\u001B[38;5;21;01mgrid\u001B[39;00m \u001B[38;5;28;01mimport\u001B[39;00m Grid\n\u001B[1;32m      3\u001B[0m __all__ \u001B[38;5;241m=\u001B[39m (\u001B[38;5;124m\"\u001B[39m\u001B[38;5;124mGrid\u001B[39m\u001B[38;5;124m\"\u001B[39m,)\n",
      "File \u001B[0;32m~/PycharmProjects/dev/uxarray/uxarray/grid/grid.py:102\u001B[0m\n\u001B[1;32m    100\u001B[0m \u001B[38;5;28;01mfrom\u001B[39;00m \u001B[38;5;21;01muxarray\u001B[39;00m\u001B[38;5;21;01m.\u001B[39;00m\u001B[38;5;21;01mio\u001B[39;00m\u001B[38;5;21;01m.\u001B[39;00m\u001B[38;5;21;01m_voronoi\u001B[39;00m \u001B[38;5;28;01mimport\u001B[39;00m _spherical_voronoi_from_points\n\u001B[1;32m    101\u001B[0m \u001B[38;5;28;01mfrom\u001B[39;00m \u001B[38;5;21;01muxarray\u001B[39;00m\u001B[38;5;21;01m.\u001B[39;00m\u001B[38;5;21;01mio\u001B[39;00m\u001B[38;5;21;01m.\u001B[39;00m\u001B[38;5;21;01mutils\u001B[39;00m \u001B[38;5;28;01mimport\u001B[39;00m _parse_grid_type\n\u001B[0;32m--> 102\u001B[0m \u001B[38;5;28;01mfrom\u001B[39;00m \u001B[38;5;21;01muxarray\u001B[39;00m\u001B[38;5;21;01m.\u001B[39;00m\u001B[38;5;21;01mplot\u001B[39;00m\u001B[38;5;21;01m.\u001B[39;00m\u001B[38;5;21;01maccessor\u001B[39;00m \u001B[38;5;28;01mimport\u001B[39;00m GridPlotAccessor\n\u001B[1;32m    103\u001B[0m \u001B[38;5;28;01mfrom\u001B[39;00m \u001B[38;5;21;01muxarray\u001B[39;00m\u001B[38;5;21;01m.\u001B[39;00m\u001B[38;5;21;01msubset\u001B[39;00m \u001B[38;5;28;01mimport\u001B[39;00m GridSubsetAccessor\n\u001B[1;32m    106\u001B[0m \u001B[38;5;28;01mclass\u001B[39;00m \u001B[38;5;21;01mGrid\u001B[39;00m:\n",
      "File \u001B[0;32m~/PycharmProjects/dev/uxarray/uxarray/plot/accessor.py:15\u001B[0m\n\u001B[1;32m     12\u001B[0m     \u001B[38;5;28;01mfrom\u001B[39;00m \u001B[38;5;21;01muxarray\u001B[39;00m\u001B[38;5;21;01m.\u001B[39;00m\u001B[38;5;21;01mcore\u001B[39;00m\u001B[38;5;21;01m.\u001B[39;00m\u001B[38;5;21;01mdataset\u001B[39;00m \u001B[38;5;28;01mimport\u001B[39;00m UxDataset\n\u001B[1;32m     13\u001B[0m     \u001B[38;5;28;01mfrom\u001B[39;00m \u001B[38;5;21;01muxarray\u001B[39;00m\u001B[38;5;21;01m.\u001B[39;00m\u001B[38;5;21;01mgrid\u001B[39;00m \u001B[38;5;28;01mimport\u001B[39;00m Grid\n\u001B[0;32m---> 15\u001B[0m \u001B[38;5;28;01mimport\u001B[39;00m \u001B[38;5;21;01mhvplot\u001B[39;00m\u001B[38;5;21;01m.\u001B[39;00m\u001B[38;5;21;01mpandas\u001B[39;00m\n\u001B[1;32m     16\u001B[0m \u001B[38;5;28;01mimport\u001B[39;00m \u001B[38;5;21;01mhvplot\u001B[39;00m\u001B[38;5;21;01m.\u001B[39;00m\u001B[38;5;21;01mxarray\u001B[39;00m\n\u001B[1;32m     18\u001B[0m \u001B[38;5;28;01mfrom\u001B[39;00m \u001B[38;5;21;01muxarray\u001B[39;00m\u001B[38;5;21;01m.\u001B[39;00m\u001B[38;5;21;01mplot\u001B[39;00m\u001B[38;5;21;01m.\u001B[39;00m\u001B[38;5;21;01mutils\u001B[39;00m \u001B[38;5;28;01mimport\u001B[39;00m backend \u001B[38;5;28;01mas\u001B[39;00m plotting_backend\n",
      "File \u001B[0;32m/opt/anaconda3/envs/uxarray/lib/python3.12/site-packages/hvplot/pandas.py:33\u001B[0m\n\u001B[1;32m     28\u001B[0m         _module_extensions\u001B[38;5;241m.\u001B[39madd(\u001B[38;5;124m'\u001B[39m\u001B[38;5;124mhvplot.pandas\u001B[39m\u001B[38;5;124m'\u001B[39m)\n\u001B[1;32m     30\u001B[0m     post_patch(extension, logo)\n\u001B[0;32m---> 33\u001B[0m \u001B[43mpatch\u001B[49m\u001B[43m(\u001B[49m\u001B[43m)\u001B[49m\n",
      "File \u001B[0;32m/opt/anaconda3/envs/uxarray/lib/python3.12/site-packages/hvplot/pandas.py:30\u001B[0m, in \u001B[0;36mpatch\u001B[0;34m(name, interactive, extension, logo)\u001B[0m\n\u001B[1;32m     27\u001B[0m     \u001B[38;5;28msetattr\u001B[39m(pd\u001B[38;5;241m.\u001B[39mSeries, interactive, interactive_prop)\n\u001B[1;32m     28\u001B[0m     _module_extensions\u001B[38;5;241m.\u001B[39madd(\u001B[38;5;124m'\u001B[39m\u001B[38;5;124mhvplot.pandas\u001B[39m\u001B[38;5;124m'\u001B[39m)\n\u001B[0;32m---> 30\u001B[0m \u001B[43mpost_patch\u001B[49m\u001B[43m(\u001B[49m\u001B[43mextension\u001B[49m\u001B[43m,\u001B[49m\u001B[43m \u001B[49m\u001B[43mlogo\u001B[49m\u001B[43m)\u001B[49m\n",
      "File \u001B[0;32m/opt/anaconda3/envs/uxarray/lib/python3.12/site-packages/hvplot/__init__.py:241\u001B[0m, in \u001B[0;36mpost_patch\u001B[0;34m(extension, logo, check_loaded)\u001B[0m\n\u001B[1;32m    239\u001B[0m \u001B[38;5;28;01mdef\u001B[39;00m \u001B[38;5;21mpost_patch\u001B[39m(extension\u001B[38;5;241m=\u001B[39m\u001B[38;5;124m'\u001B[39m\u001B[38;5;124mbokeh\u001B[39m\u001B[38;5;124m'\u001B[39m, logo\u001B[38;5;241m=\u001B[39m\u001B[38;5;28;01mFalse\u001B[39;00m, check_loaded\u001B[38;5;241m=\u001B[39m\u001B[38;5;28;01mFalse\u001B[39;00m):\n\u001B[1;32m    240\u001B[0m     \u001B[38;5;28;01mif\u001B[39;00m \u001B[38;5;129;01mnot\u001B[39;00m check_loaded:\n\u001B[0;32m--> 241\u001B[0m         \u001B[43mhvplot_extension\u001B[49m\u001B[43m(\u001B[49m\u001B[43mextension\u001B[49m\u001B[43m,\u001B[49m\u001B[43m \u001B[49m\u001B[43mlogo\u001B[49m\u001B[38;5;241;43m=\u001B[39;49m\u001B[43mlogo\u001B[49m\u001B[43m)\u001B[49m\n\u001B[1;32m    242\u001B[0m     \u001B[38;5;28;01melif\u001B[39;00m \u001B[38;5;129;01mnot\u001B[39;00m \u001B[38;5;28mgetattr\u001B[39m(_hv\u001B[38;5;241m.\u001B[39mextension, \u001B[38;5;124m'\u001B[39m\u001B[38;5;124m_loaded\u001B[39m\u001B[38;5;124m'\u001B[39m, \u001B[38;5;28;01mFalse\u001B[39;00m):\n\u001B[1;32m    243\u001B[0m         hvplot_extension(extension, logo\u001B[38;5;241m=\u001B[39mlogo)\n",
      "File \u001B[0;32m/opt/anaconda3/envs/uxarray/lib/python3.12/site-packages/pyviz_comms/__init__.py:64\u001B[0m, in \u001B[0;36mextension.__new__\u001B[0;34m(cls, *args, **kwargs)\u001B[0m\n\u001B[1;32m     62\u001B[0m \u001B[38;5;28;01mexcept\u001B[39;00m \u001B[38;5;167;01mException\u001B[39;00m:\n\u001B[1;32m     63\u001B[0m     \u001B[38;5;28;01mpass\u001B[39;00m\n\u001B[0;32m---> 64\u001B[0m \u001B[38;5;28;01mreturn\u001B[39;00m \u001B[43mparam\u001B[49m\u001B[38;5;241;43m.\u001B[39;49m\u001B[43mParameterizedFunction\u001B[49m\u001B[38;5;241;43m.\u001B[39;49m\u001B[38;5;21;43m__new__\u001B[39;49m\u001B[43m(\u001B[49m\u001B[38;5;28;43mcls\u001B[39;49m\u001B[43m,\u001B[49m\u001B[43m \u001B[49m\u001B[38;5;241;43m*\u001B[39;49m\u001B[43margs\u001B[49m\u001B[43m,\u001B[49m\u001B[43m \u001B[49m\u001B[38;5;241;43m*\u001B[39;49m\u001B[38;5;241;43m*\u001B[39;49m\u001B[43mkwargs\u001B[49m\u001B[43m)\u001B[49m\n",
      "File \u001B[0;32m/opt/anaconda3/envs/uxarray/lib/python3.12/site-packages/param/parameterized.py:4468\u001B[0m, in \u001B[0;36mParameterizedFunction.__new__\u001B[0;34m(class_, *args, **params)\u001B[0m\n\u001B[1;32m   4466\u001B[0m inst \u001B[38;5;241m=\u001B[39m class_\u001B[38;5;241m.\u001B[39minstance()\n\u001B[1;32m   4467\u001B[0m inst\u001B[38;5;241m.\u001B[39mparam\u001B[38;5;241m.\u001B[39m_set_name(class_\u001B[38;5;241m.\u001B[39m\u001B[38;5;18m__name__\u001B[39m)\n\u001B[0;32m-> 4468\u001B[0m \u001B[38;5;28;01mreturn\u001B[39;00m \u001B[43minst\u001B[49m\u001B[38;5;241;43m.\u001B[39;49m\u001B[38;5;21;43m__call__\u001B[39;49m\u001B[43m(\u001B[49m\u001B[38;5;241;43m*\u001B[39;49m\u001B[43margs\u001B[49m\u001B[43m,\u001B[49m\u001B[38;5;241;43m*\u001B[39;49m\u001B[38;5;241;43m*\u001B[39;49m\u001B[43mparams\u001B[49m\u001B[43m)\u001B[49m\n",
      "File \u001B[0;32m/opt/anaconda3/envs/uxarray/lib/python3.12/site-packages/hvplot/utilities.py:117\u001B[0m, in \u001B[0;36mhvplot_extension.__call__\u001B[0;34m(self, *args, **params)\u001B[0m\n\u001B[1;32m    112\u001B[0m \u001B[38;5;28;01mdef\u001B[39;00m \u001B[38;5;21m__call__\u001B[39m(\u001B[38;5;28mself\u001B[39m, \u001B[38;5;241m*\u001B[39margs, \u001B[38;5;241m*\u001B[39m\u001B[38;5;241m*\u001B[39mparams):\n\u001B[1;32m    113\u001B[0m     \u001B[38;5;66;03m# importing e.g. hvplot.pandas always loads the bokeh extension.\u001B[39;00m\n\u001B[1;32m    114\u001B[0m     \u001B[38;5;66;03m# so hvplot.extension('matplotlib', compatibility='bokeh') doesn't\u001B[39;00m\n\u001B[1;32m    115\u001B[0m     \u001B[38;5;66;03m# require the user or the code to explicitly load bokeh.\u001B[39;00m\n\u001B[1;32m    116\u001B[0m     compatibility \u001B[38;5;241m=\u001B[39m params\u001B[38;5;241m.\u001B[39mpop(\u001B[38;5;124m'\u001B[39m\u001B[38;5;124mcompatibility\u001B[39m\u001B[38;5;124m'\u001B[39m, \u001B[38;5;28;01mNone\u001B[39;00m)\n\u001B[0;32m--> 117\u001B[0m     \u001B[38;5;28;43msuper\u001B[39;49m\u001B[43m(\u001B[49m\u001B[43m)\u001B[49m\u001B[38;5;241;43m.\u001B[39;49m\u001B[38;5;21;43m__call__\u001B[39;49m\u001B[43m(\u001B[49m\u001B[38;5;241;43m*\u001B[39;49m\u001B[43margs\u001B[49m\u001B[43m,\u001B[49m\u001B[43m \u001B[49m\u001B[38;5;241;43m*\u001B[39;49m\u001B[38;5;241;43m*\u001B[39;49m\u001B[43mparams\u001B[49m\u001B[43m)\u001B[49m\n\u001B[1;32m    118\u001B[0m     backend \u001B[38;5;241m=\u001B[39m _hv\u001B[38;5;241m.\u001B[39mStore\u001B[38;5;241m.\u001B[39mcurrent_backend\n\u001B[1;32m    119\u001B[0m     \u001B[38;5;28;01mif\u001B[39;00m compatibility \u001B[38;5;129;01min\u001B[39;00m [\u001B[38;5;124m'\u001B[39m\u001B[38;5;124mmatplotlib\u001B[39m\u001B[38;5;124m'\u001B[39m, \u001B[38;5;124m'\u001B[39m\u001B[38;5;124mplotly\u001B[39m\u001B[38;5;124m'\u001B[39m] \u001B[38;5;129;01mand\u001B[39;00m backend \u001B[38;5;241m!=\u001B[39m compatibility:\n",
      "File \u001B[0;32m/opt/anaconda3/envs/uxarray/lib/python3.12/site-packages/holoviews/ipython/__init__.py:117\u001B[0m, in \u001B[0;36mnotebook_extension.__call__\u001B[0;34m(self, *args, **params)\u001B[0m\n\u001B[1;32m    115\u001B[0m \u001B[38;5;28;01mdef\u001B[39;00m \u001B[38;5;21m__call__\u001B[39m(\u001B[38;5;28mself\u001B[39m, \u001B[38;5;241m*\u001B[39margs, \u001B[38;5;241m*\u001B[39m\u001B[38;5;241m*\u001B[39mparams):\n\u001B[1;32m    116\u001B[0m     comms \u001B[38;5;241m=\u001B[39m params\u001B[38;5;241m.\u001B[39mpop(\u001B[38;5;124m'\u001B[39m\u001B[38;5;124mcomms\u001B[39m\u001B[38;5;124m'\u001B[39m, \u001B[38;5;28;01mNone\u001B[39;00m)\n\u001B[0;32m--> 117\u001B[0m     \u001B[38;5;28;43msuper\u001B[39;49m\u001B[43m(\u001B[49m\u001B[43m)\u001B[49m\u001B[38;5;241;43m.\u001B[39;49m\u001B[38;5;21;43m__call__\u001B[39;49m\u001B[43m(\u001B[49m\u001B[38;5;241;43m*\u001B[39;49m\u001B[43margs\u001B[49m\u001B[43m,\u001B[49m\u001B[43m \u001B[49m\u001B[38;5;241;43m*\u001B[39;49m\u001B[38;5;241;43m*\u001B[39;49m\u001B[43mparams\u001B[49m\u001B[43m)\u001B[49m\n\u001B[1;32m    118\u001B[0m     \u001B[38;5;66;03m# Abort if IPython not found\u001B[39;00m\n\u001B[1;32m    119\u001B[0m     \u001B[38;5;28;01mtry\u001B[39;00m:\n",
      "File \u001B[0;32m/opt/anaconda3/envs/uxarray/lib/python3.12/site-packages/holoviews/util/__init__.py:713\u001B[0m, in \u001B[0;36mextension.__call__\u001B[0;34m(self, *args, **params)\u001B[0m\n\u001B[1;32m    711\u001B[0m \u001B[38;5;28;01mfor\u001B[39;00m hook \u001B[38;5;129;01min\u001B[39;00m \u001B[38;5;28mself\u001B[39m\u001B[38;5;241m.\u001B[39m_backend_hooks[backend]:\n\u001B[1;32m    712\u001B[0m     \u001B[38;5;28;01mtry\u001B[39;00m:\n\u001B[0;32m--> 713\u001B[0m         \u001B[43mhook\u001B[49m\u001B[43m(\u001B[49m\u001B[43m)\u001B[49m\n\u001B[1;32m    714\u001B[0m     \u001B[38;5;28;01mexcept\u001B[39;00m \u001B[38;5;167;01mException\u001B[39;00m \u001B[38;5;28;01mas\u001B[39;00m e:\n\u001B[1;32m    715\u001B[0m         \u001B[38;5;28mself\u001B[39m\u001B[38;5;241m.\u001B[39mparam\u001B[38;5;241m.\u001B[39mwarning(\u001B[38;5;124mf\u001B[39m\u001B[38;5;124m'\u001B[39m\u001B[38;5;132;01m{\u001B[39;00mbackend\u001B[38;5;132;01m}\u001B[39;00m\u001B[38;5;124m backend hook \u001B[39m\u001B[38;5;132;01m{\u001B[39;00mhook\u001B[38;5;132;01m}\u001B[39;00m\u001B[38;5;124m failed with \u001B[39m\u001B[38;5;124m'\u001B[39m\n\u001B[1;32m    716\u001B[0m                            \u001B[38;5;124mf\u001B[39m\u001B[38;5;124m'\u001B[39m\u001B[38;5;124mfollowing exception: \u001B[39m\u001B[38;5;132;01m{\u001B[39;00me\u001B[38;5;132;01m}\u001B[39;00m\u001B[38;5;124m'\u001B[39m)\n",
      "File \u001B[0;32m/opt/anaconda3/envs/uxarray/lib/python3.12/site-packages/geoviews/plotting/__init__.py:9\u001B[0m, in \u001B[0;36m_load_bokeh\u001B[0;34m()\u001B[0m\n\u001B[1;32m      8\u001B[0m \u001B[38;5;28;01mdef\u001B[39;00m \u001B[38;5;21m_load_bokeh\u001B[39m():\n\u001B[0;32m----> 9\u001B[0m     \u001B[38;5;28;01mfrom\u001B[39;00m \u001B[38;5;21;01mgeoviews\u001B[39;00m\u001B[38;5;21;01m.\u001B[39;00m\u001B[38;5;21;01mplotting\u001B[39;00m \u001B[38;5;28;01mimport\u001B[39;00m bokeh\n",
      "File \u001B[0;32m/opt/anaconda3/envs/uxarray/lib/python3.12/site-packages/geoviews/plotting/bokeh/__init__.py:43\u001B[0m\n\u001B[1;32m     16\u001B[0m \u001B[38;5;28;01mfrom\u001B[39;00m \u001B[38;5;21;01mholoviews\u001B[39;00m\u001B[38;5;21;01m.\u001B[39;00m\u001B[38;5;21;01mplotting\u001B[39;00m\u001B[38;5;21;01m.\u001B[39;00m\u001B[38;5;21;01mbokeh\u001B[39;00m\u001B[38;5;21;01m.\u001B[39;00m\u001B[38;5;21;01mraster\u001B[39;00m \u001B[38;5;28;01mimport\u001B[39;00m QuadMeshPlot, RasterPlot, RGBPlot\n\u001B[1;32m     18\u001B[0m \u001B[38;5;28;01mfrom\u001B[39;00m \u001B[38;5;21;01m.\u001B[39;00m\u001B[38;5;21;01m.\u001B[39;00m\u001B[38;5;21;01m.\u001B[39;00m\u001B[38;5;21;01melement\u001B[39;00m \u001B[38;5;28;01mimport\u001B[39;00m (\n\u001B[1;32m     19\u001B[0m     RGB,\n\u001B[1;32m     20\u001B[0m     WMTS,\n\u001B[0;32m   (...)\u001B[0m\n\u001B[1;32m     41\u001B[0m     VectorField,\n\u001B[1;32m     42\u001B[0m )\n\u001B[0;32m---> 43\u001B[0m \u001B[38;5;28;01mfrom\u001B[39;00m \u001B[38;5;21;01m.\u001B[39;00m\u001B[38;5;21;01m.\u001B[39;00m\u001B[38;5;21;01m.\u001B[39;00m\u001B[38;5;21;01moperation\u001B[39;00m \u001B[38;5;28;01mimport\u001B[39;00m (\n\u001B[1;32m     44\u001B[0m     project_geom,\n\u001B[1;32m     45\u001B[0m     project_graph,\n\u001B[1;32m     46\u001B[0m     project_image,\n\u001B[1;32m     47\u001B[0m     project_path,\n\u001B[1;32m     48\u001B[0m     project_points,\n\u001B[1;32m     49\u001B[0m     project_quadmesh,\n\u001B[1;32m     50\u001B[0m     project_vectorfield,\n\u001B[1;32m     51\u001B[0m )\n\u001B[1;32m     52\u001B[0m \u001B[38;5;28;01mfrom\u001B[39;00m \u001B[38;5;21;01m.\u001B[39;00m\u001B[38;5;21;01m.\u001B[39;00m\u001B[38;5;21;01m.\u001B[39;00m\u001B[38;5;21;01mtile_sources\u001B[39;00m \u001B[38;5;28;01mimport\u001B[39;00m (\n\u001B[1;32m     53\u001B[0m     _ATTRIBUTIONS,\n\u001B[1;32m     54\u001B[0m     ESRI,\n\u001B[0;32m   (...)\u001B[0m\n\u001B[1;32m     58\u001B[0m     EsriWorldHillshade,\n\u001B[1;32m     59\u001B[0m )\n\u001B[1;32m     60\u001B[0m \u001B[38;5;28;01mfrom\u001B[39;00m \u001B[38;5;21;01m.\u001B[39;00m\u001B[38;5;21;01m.\u001B[39;00m\u001B[38;5;21;01m.\u001B[39;00m\u001B[38;5;21;01mutil\u001B[39;00m \u001B[38;5;28;01mimport\u001B[39;00m line_types, poly_types\n",
      "File \u001B[0;32m/opt/anaconda3/envs/uxarray/lib/python3.12/site-packages/geoviews/operation/__init__.py:23\u001B[0m\n\u001B[1;32m     21\u001B[0m geo_ops \u001B[38;5;241m=\u001B[39m [contours, bivariate_kde]\n\u001B[1;32m     22\u001B[0m \u001B[38;5;28;01mtry\u001B[39;00m:\n\u001B[0;32m---> 23\u001B[0m     \u001B[38;5;28;01mfrom\u001B[39;00m \u001B[38;5;21;01mholoviews\u001B[39;00m\u001B[38;5;21;01m.\u001B[39;00m\u001B[38;5;21;01moperation\u001B[39;00m\u001B[38;5;21;01m.\u001B[39;00m\u001B[38;5;21;01mdatashader\u001B[39;00m \u001B[38;5;28;01mimport\u001B[39;00m dynspread, shade, stack\n\u001B[1;32m     24\u001B[0m     \u001B[38;5;28;01mfrom\u001B[39;00m \u001B[38;5;21;01mholoviews\u001B[39;00m\u001B[38;5;21;01m.\u001B[39;00m\u001B[38;5;21;01moperation\u001B[39;00m\u001B[38;5;21;01m.\u001B[39;00m\u001B[38;5;21;01mresample\u001B[39;00m \u001B[38;5;28;01mimport\u001B[39;00m ResampleOperation2D\n\u001B[1;32m     25\u001B[0m     geo_ops \u001B[38;5;241m+\u001B[39m\u001B[38;5;241m=\u001B[39m [ResampleOperation2D, shade, stack, dynspread]\n",
      "File \u001B[0;32m/opt/anaconda3/envs/uxarray/lib/python3.12/site-packages/holoviews/operation/datashader.py:17\u001B[0m\n\u001B[1;32m     14\u001B[0m \u001B[38;5;28;01mfrom\u001B[39;00m \u001B[38;5;21;01mparam\u001B[39;00m\u001B[38;5;21;01m.\u001B[39;00m\u001B[38;5;21;01mparameterized\u001B[39;00m \u001B[38;5;28;01mimport\u001B[39;00m bothmethod\n\u001B[1;32m     16\u001B[0m \u001B[38;5;28;01mtry\u001B[39;00m:\n\u001B[0;32m---> 17\u001B[0m     \u001B[38;5;28;01mfrom\u001B[39;00m \u001B[38;5;21;01mdatashader\u001B[39;00m\u001B[38;5;21;01m.\u001B[39;00m\u001B[38;5;21;01mbundling\u001B[39;00m \u001B[38;5;28;01mimport\u001B[39;00m (\n\u001B[1;32m     18\u001B[0m         directly_connect_edges \u001B[38;5;28;01mas\u001B[39;00m connect_edges,\n\u001B[1;32m     19\u001B[0m         hammer_bundle,\n\u001B[1;32m     20\u001B[0m     )\n\u001B[1;32m     21\u001B[0m \u001B[38;5;28;01mexcept\u001B[39;00m \u001B[38;5;167;01mImportError\u001B[39;00m:\n\u001B[1;32m     22\u001B[0m     hammer_bundle, connect_edges \u001B[38;5;241m=\u001B[39m \u001B[38;5;28mobject\u001B[39m, \u001B[38;5;28mobject\u001B[39m\n",
      "File \u001B[0;32m/opt/anaconda3/envs/uxarray/lib/python3.12/site-packages/datashader/bundling.py:63\u001B[0m\n\u001B[1;32m     60\u001B[0m     result \u001B[38;5;241m+\u001B[39m\u001B[38;5;241m=\u001B[39m diff \u001B[38;5;241m*\u001B[39m diff\n\u001B[1;32m     61\u001B[0m     \u001B[38;5;28;01mreturn\u001B[39;00m result\n\u001B[0;32m---> 63\u001B[0m \u001B[38;5;129;43m@nb\u001B[39;49m\u001B[38;5;241;43m.\u001B[39;49m\u001B[43mjit\u001B[49m\u001B[43m(\u001B[49m\n\u001B[1;32m     64\u001B[0m \u001B[43m    \u001B[49m\u001B[43mnb\u001B[49m\u001B[38;5;241;43m.\u001B[39;49m\u001B[43mfloat32\u001B[49m\u001B[43m[\u001B[49m\u001B[43m:\u001B[49m\u001B[43m,\u001B[49m\u001B[43m:\u001B[49m\u001B[43m:\u001B[49m\u001B[38;5;241;43m1\u001B[39;49m\u001B[43m]\u001B[49m\u001B[43m(\u001B[49m\u001B[43mnb\u001B[49m\u001B[38;5;241;43m.\u001B[39;49m\u001B[43mfloat32\u001B[49m\u001B[43m[\u001B[49m\u001B[43m:\u001B[49m\u001B[43m,\u001B[49m\u001B[43m:\u001B[49m\u001B[43m:\u001B[49m\u001B[38;5;241;43m1\u001B[39;49m\u001B[43m]\u001B[49m\u001B[43m,\u001B[49m\u001B[43m \u001B[49m\u001B[43mnb\u001B[49m\u001B[38;5;241;43m.\u001B[39;49m\u001B[43mfloat32\u001B[49m\u001B[43m[\u001B[49m\u001B[43m:\u001B[49m\u001B[43m,\u001B[49m\u001B[43m:\u001B[49m\u001B[43m:\u001B[49m\u001B[38;5;241;43m1\u001B[39;49m\u001B[43m]\u001B[49m\u001B[43m,\u001B[49m\u001B[43m \u001B[49m\u001B[43mnb\u001B[49m\u001B[38;5;241;43m.\u001B[39;49m\u001B[43muint16\u001B[49m\u001B[43m[\u001B[49m\u001B[43m:\u001B[49m\u001B[43m:\u001B[49m\u001B[38;5;241;43m1\u001B[39;49m\u001B[43m]\u001B[49m\u001B[43m,\u001B[49m\u001B[43m \u001B[49m\u001B[43mnb\u001B[49m\u001B[38;5;241;43m.\u001B[39;49m\u001B[43mint64\u001B[49m\u001B[43m)\u001B[49m\u001B[43m,\u001B[49m\n\u001B[1;32m     65\u001B[0m \u001B[43m    \u001B[49m\u001B[43mnopython\u001B[49m\u001B[38;5;241;43m=\u001B[39;49m\u001B[38;5;28;43;01mTrue\u001B[39;49;00m\u001B[43m,\u001B[49m\n\u001B[1;32m     66\u001B[0m \u001B[43m    \u001B[49m\u001B[43mnogil\u001B[49m\u001B[38;5;241;43m=\u001B[39;49m\u001B[38;5;28;43;01mTrue\u001B[39;49;00m\u001B[43m,\u001B[49m\n\u001B[1;32m     67\u001B[0m \u001B[43m    \u001B[49m\u001B[43mfastmath\u001B[49m\u001B[38;5;241;43m=\u001B[39;49m\u001B[38;5;28;43;01mTrue\u001B[39;49;00m\u001B[43m,\u001B[49m\n\u001B[1;32m     68\u001B[0m \u001B[43m    \u001B[49m\u001B[38;5;28;43mlocals\u001B[39;49m\u001B[38;5;241;43m=\u001B[39;49m\u001B[43m{\u001B[49m\n\u001B[1;32m     69\u001B[0m \u001B[43m        \u001B[49m\u001B[38;5;124;43m'\u001B[39;49m\u001B[38;5;124;43mnext_point\u001B[39;49m\u001B[38;5;124;43m'\u001B[39;49m\u001B[43m:\u001B[49m\u001B[43m \u001B[49m\u001B[43mnb\u001B[49m\u001B[38;5;241;43m.\u001B[39;49m\u001B[43mfloat32\u001B[49m\u001B[43m[\u001B[49m\u001B[43m:\u001B[49m\u001B[43m:\u001B[49m\u001B[38;5;241;43m1\u001B[39;49m\u001B[43m]\u001B[49m\u001B[43m,\u001B[49m\n\u001B[1;32m     70\u001B[0m \u001B[43m        \u001B[49m\u001B[38;5;124;43m'\u001B[39;49m\u001B[38;5;124;43mcurrent_point\u001B[39;49m\u001B[38;5;124;43m'\u001B[39;49m\u001B[43m:\u001B[49m\u001B[43m \u001B[49m\u001B[43mnb\u001B[49m\u001B[38;5;241;43m.\u001B[39;49m\u001B[43mfloat32\u001B[49m\u001B[43m[\u001B[49m\u001B[43m:\u001B[49m\u001B[43m:\u001B[49m\u001B[38;5;241;43m1\u001B[39;49m\u001B[43m]\u001B[49m\u001B[43m,\u001B[49m\n\u001B[1;32m     71\u001B[0m \u001B[43m        \u001B[49m\u001B[38;5;124;43m'\u001B[39;49m\u001B[38;5;124;43mstep_vector\u001B[39;49m\u001B[38;5;124;43m'\u001B[39;49m\u001B[43m:\u001B[49m\u001B[43m \u001B[49m\u001B[43mnb\u001B[49m\u001B[38;5;241;43m.\u001B[39;49m\u001B[43mfloat32\u001B[49m\u001B[43m[\u001B[49m\u001B[43m:\u001B[49m\u001B[43m:\u001B[49m\u001B[38;5;241;43m1\u001B[39;49m\u001B[43m]\u001B[49m\u001B[43m,\u001B[49m\n\u001B[1;32m     72\u001B[0m \u001B[43m        \u001B[49m\u001B[38;5;124;43m'\u001B[39;49m\u001B[38;5;124;43mi\u001B[39;49m\u001B[38;5;124;43m'\u001B[39;49m\u001B[43m:\u001B[49m\u001B[43m \u001B[49m\u001B[43mnb\u001B[49m\u001B[38;5;241;43m.\u001B[39;49m\u001B[43muint16\u001B[49m\u001B[43m,\u001B[49m\n\u001B[1;32m     73\u001B[0m \u001B[43m        \u001B[49m\u001B[38;5;124;43m'\u001B[39;49m\u001B[38;5;124;43mpos\u001B[39;49m\u001B[38;5;124;43m'\u001B[39;49m\u001B[43m:\u001B[49m\u001B[43m \u001B[49m\u001B[43mnb\u001B[49m\u001B[38;5;241;43m.\u001B[39;49m\u001B[43muint64\u001B[49m\u001B[43m,\u001B[49m\n\u001B[1;32m     74\u001B[0m \u001B[43m        \u001B[49m\u001B[38;5;124;43m'\u001B[39;49m\u001B[38;5;124;43mindex\u001B[39;49m\u001B[38;5;124;43m'\u001B[39;49m\u001B[43m:\u001B[49m\u001B[43m \u001B[49m\u001B[43mnb\u001B[49m\u001B[38;5;241;43m.\u001B[39;49m\u001B[43muint64\u001B[49m\u001B[43m,\u001B[49m\n\u001B[1;32m     75\u001B[0m \u001B[43m        \u001B[49m\u001B[38;5;124;43m'\u001B[39;49m\u001B[38;5;124;43mdistance\u001B[39;49m\u001B[38;5;124;43m'\u001B[39;49m\u001B[43m:\u001B[49m\u001B[43m \u001B[49m\u001B[43mnb\u001B[49m\u001B[38;5;241;43m.\u001B[39;49m\u001B[43mfloat32\u001B[49m\n\u001B[1;32m     76\u001B[0m \u001B[43m    \u001B[49m\u001B[43m}\u001B[49m\n\u001B[1;32m     77\u001B[0m \u001B[43m)\u001B[49m\n\u001B[1;32m     78\u001B[0m \u001B[38;5;28;43;01mdef\u001B[39;49;00m\u001B[43m \u001B[49m\u001B[38;5;21;43mresample_segment\u001B[39;49m\u001B[43m(\u001B[49m\u001B[43msegments\u001B[49m\u001B[43m,\u001B[49m\u001B[43m \u001B[49m\u001B[43mnew_segments\u001B[49m\u001B[43m,\u001B[49m\u001B[43m \u001B[49m\u001B[43mn_points_to_add\u001B[49m\u001B[43m,\u001B[49m\u001B[43m \u001B[49m\u001B[43mndims\u001B[49m\u001B[43m)\u001B[49m\u001B[43m:\u001B[49m\n\u001B[1;32m     79\u001B[0m \u001B[43m    \u001B[49m\u001B[43mnext_point\u001B[49m\u001B[43m \u001B[49m\u001B[38;5;241;43m=\u001B[39;49m\u001B[43m \u001B[49m\u001B[43mnp\u001B[49m\u001B[38;5;241;43m.\u001B[39;49m\u001B[43mzeros\u001B[49m\u001B[43m(\u001B[49m\u001B[43mndims\u001B[49m\u001B[43m,\u001B[49m\u001B[43m \u001B[49m\u001B[43mdtype\u001B[49m\u001B[38;5;241;43m=\u001B[39;49m\u001B[43msegments\u001B[49m\u001B[38;5;241;43m.\u001B[39;49m\u001B[43mdtype\u001B[49m\u001B[43m)\u001B[49m\n\u001B[1;32m     80\u001B[0m \u001B[43m    \u001B[49m\u001B[43mcurrent_point\u001B[49m\u001B[43m \u001B[49m\u001B[38;5;241;43m=\u001B[39;49m\u001B[43m \u001B[49m\u001B[43msegments\u001B[49m\u001B[43m[\u001B[49m\u001B[38;5;241;43m0\u001B[39;49m\u001B[43m]\u001B[49m\n",
      "File \u001B[0;32m/opt/anaconda3/envs/uxarray/lib/python3.12/site-packages/numba/core/decorators.py:232\u001B[0m, in \u001B[0;36m_jit.<locals>.wrapper\u001B[0;34m(func)\u001B[0m\n\u001B[1;32m    230\u001B[0m     \u001B[38;5;28;01mwith\u001B[39;00m typeinfer\u001B[38;5;241m.\u001B[39mregister_dispatcher(disp):\n\u001B[1;32m    231\u001B[0m         \u001B[38;5;28;01mfor\u001B[39;00m sig \u001B[38;5;129;01min\u001B[39;00m sigs:\n\u001B[0;32m--> 232\u001B[0m             \u001B[43mdisp\u001B[49m\u001B[38;5;241;43m.\u001B[39;49m\u001B[43mcompile\u001B[49m\u001B[43m(\u001B[49m\u001B[43msig\u001B[49m\u001B[43m)\u001B[49m\n\u001B[1;32m    233\u001B[0m         disp\u001B[38;5;241m.\u001B[39mdisable_compile()\n\u001B[1;32m    234\u001B[0m \u001B[38;5;28;01mreturn\u001B[39;00m disp\n",
      "File \u001B[0;32m/opt/anaconda3/envs/uxarray/lib/python3.12/site-packages/numba/core/dispatcher.py:905\u001B[0m, in \u001B[0;36mDispatcher.compile\u001B[0;34m(self, sig)\u001B[0m\n\u001B[1;32m    903\u001B[0m \u001B[38;5;28;01mwith\u001B[39;00m ev\u001B[38;5;241m.\u001B[39mtrigger_event(\u001B[38;5;124m\"\u001B[39m\u001B[38;5;124mnumba:compile\u001B[39m\u001B[38;5;124m\"\u001B[39m, data\u001B[38;5;241m=\u001B[39mev_details):\n\u001B[1;32m    904\u001B[0m     \u001B[38;5;28;01mtry\u001B[39;00m:\n\u001B[0;32m--> 905\u001B[0m         cres \u001B[38;5;241m=\u001B[39m \u001B[38;5;28;43mself\u001B[39;49m\u001B[38;5;241;43m.\u001B[39;49m\u001B[43m_compiler\u001B[49m\u001B[38;5;241;43m.\u001B[39;49m\u001B[43mcompile\u001B[49m\u001B[43m(\u001B[49m\u001B[43margs\u001B[49m\u001B[43m,\u001B[49m\u001B[43m \u001B[49m\u001B[43mreturn_type\u001B[49m\u001B[43m)\u001B[49m\n\u001B[1;32m    906\u001B[0m     \u001B[38;5;28;01mexcept\u001B[39;00m errors\u001B[38;5;241m.\u001B[39mForceLiteralArg \u001B[38;5;28;01mas\u001B[39;00m e:\n\u001B[1;32m    907\u001B[0m         \u001B[38;5;28;01mdef\u001B[39;00m \u001B[38;5;21mfolded\u001B[39m(args, kws):\n",
      "File \u001B[0;32m/opt/anaconda3/envs/uxarray/lib/python3.12/site-packages/numba/core/dispatcher.py:80\u001B[0m, in \u001B[0;36m_FunctionCompiler.compile\u001B[0;34m(self, args, return_type)\u001B[0m\n\u001B[1;32m     79\u001B[0m \u001B[38;5;28;01mdef\u001B[39;00m \u001B[38;5;21mcompile\u001B[39m(\u001B[38;5;28mself\u001B[39m, args, return_type):\n\u001B[0;32m---> 80\u001B[0m     status, retval \u001B[38;5;241m=\u001B[39m \u001B[38;5;28;43mself\u001B[39;49m\u001B[38;5;241;43m.\u001B[39;49m\u001B[43m_compile_cached\u001B[49m\u001B[43m(\u001B[49m\u001B[43margs\u001B[49m\u001B[43m,\u001B[49m\u001B[43m \u001B[49m\u001B[43mreturn_type\u001B[49m\u001B[43m)\u001B[49m\n\u001B[1;32m     81\u001B[0m     \u001B[38;5;28;01mif\u001B[39;00m status:\n\u001B[1;32m     82\u001B[0m         \u001B[38;5;28;01mreturn\u001B[39;00m retval\n",
      "File \u001B[0;32m/opt/anaconda3/envs/uxarray/lib/python3.12/site-packages/numba/core/dispatcher.py:94\u001B[0m, in \u001B[0;36m_FunctionCompiler._compile_cached\u001B[0;34m(self, args, return_type)\u001B[0m\n\u001B[1;32m     91\u001B[0m     \u001B[38;5;28;01mpass\u001B[39;00m\n\u001B[1;32m     93\u001B[0m \u001B[38;5;28;01mtry\u001B[39;00m:\n\u001B[0;32m---> 94\u001B[0m     retval \u001B[38;5;241m=\u001B[39m \u001B[38;5;28;43mself\u001B[39;49m\u001B[38;5;241;43m.\u001B[39;49m\u001B[43m_compile_core\u001B[49m\u001B[43m(\u001B[49m\u001B[43margs\u001B[49m\u001B[43m,\u001B[49m\u001B[43m \u001B[49m\u001B[43mreturn_type\u001B[49m\u001B[43m)\u001B[49m\n\u001B[1;32m     95\u001B[0m \u001B[38;5;28;01mexcept\u001B[39;00m errors\u001B[38;5;241m.\u001B[39mTypingError \u001B[38;5;28;01mas\u001B[39;00m e:\n\u001B[1;32m     96\u001B[0m     \u001B[38;5;28mself\u001B[39m\u001B[38;5;241m.\u001B[39m_failed_cache[key] \u001B[38;5;241m=\u001B[39m e\n",
      "File \u001B[0;32m/opt/anaconda3/envs/uxarray/lib/python3.12/site-packages/numba/core/dispatcher.py:107\u001B[0m, in \u001B[0;36m_FunctionCompiler._compile_core\u001B[0;34m(self, args, return_type)\u001B[0m\n\u001B[1;32m    104\u001B[0m flags \u001B[38;5;241m=\u001B[39m \u001B[38;5;28mself\u001B[39m\u001B[38;5;241m.\u001B[39m_customize_flags(flags)\n\u001B[1;32m    106\u001B[0m impl \u001B[38;5;241m=\u001B[39m \u001B[38;5;28mself\u001B[39m\u001B[38;5;241m.\u001B[39m_get_implementation(args, {})\n\u001B[0;32m--> 107\u001B[0m cres \u001B[38;5;241m=\u001B[39m \u001B[43mcompiler\u001B[49m\u001B[38;5;241;43m.\u001B[39;49m\u001B[43mcompile_extra\u001B[49m\u001B[43m(\u001B[49m\u001B[38;5;28;43mself\u001B[39;49m\u001B[38;5;241;43m.\u001B[39;49m\u001B[43mtargetdescr\u001B[49m\u001B[38;5;241;43m.\u001B[39;49m\u001B[43mtyping_context\u001B[49m\u001B[43m,\u001B[49m\n\u001B[1;32m    108\u001B[0m \u001B[43m                              \u001B[49m\u001B[38;5;28;43mself\u001B[39;49m\u001B[38;5;241;43m.\u001B[39;49m\u001B[43mtargetdescr\u001B[49m\u001B[38;5;241;43m.\u001B[39;49m\u001B[43mtarget_context\u001B[49m\u001B[43m,\u001B[49m\n\u001B[1;32m    109\u001B[0m \u001B[43m                              \u001B[49m\u001B[43mimpl\u001B[49m\u001B[43m,\u001B[49m\n\u001B[1;32m    110\u001B[0m \u001B[43m                              \u001B[49m\u001B[43margs\u001B[49m\u001B[38;5;241;43m=\u001B[39;49m\u001B[43margs\u001B[49m\u001B[43m,\u001B[49m\u001B[43m \u001B[49m\u001B[43mreturn_type\u001B[49m\u001B[38;5;241;43m=\u001B[39;49m\u001B[43mreturn_type\u001B[49m\u001B[43m,\u001B[49m\n\u001B[1;32m    111\u001B[0m \u001B[43m                              \u001B[49m\u001B[43mflags\u001B[49m\u001B[38;5;241;43m=\u001B[39;49m\u001B[43mflags\u001B[49m\u001B[43m,\u001B[49m\u001B[43m \u001B[49m\u001B[38;5;28;43mlocals\u001B[39;49m\u001B[38;5;241;43m=\u001B[39;49m\u001B[38;5;28;43mself\u001B[39;49m\u001B[38;5;241;43m.\u001B[39;49m\u001B[43mlocals\u001B[49m\u001B[43m,\u001B[49m\n\u001B[1;32m    112\u001B[0m \u001B[43m                              \u001B[49m\u001B[43mpipeline_class\u001B[49m\u001B[38;5;241;43m=\u001B[39;49m\u001B[38;5;28;43mself\u001B[39;49m\u001B[38;5;241;43m.\u001B[39;49m\u001B[43mpipeline_class\u001B[49m\u001B[43m)\u001B[49m\n\u001B[1;32m    113\u001B[0m \u001B[38;5;66;03m# Check typing error if object mode is used\u001B[39;00m\n\u001B[1;32m    114\u001B[0m \u001B[38;5;28;01mif\u001B[39;00m cres\u001B[38;5;241m.\u001B[39mtyping_error \u001B[38;5;129;01mis\u001B[39;00m \u001B[38;5;129;01mnot\u001B[39;00m \u001B[38;5;28;01mNone\u001B[39;00m \u001B[38;5;129;01mand\u001B[39;00m \u001B[38;5;129;01mnot\u001B[39;00m flags\u001B[38;5;241m.\u001B[39menable_pyobject:\n",
      "File \u001B[0;32m/opt/anaconda3/envs/uxarray/lib/python3.12/site-packages/numba/core/compiler.py:744\u001B[0m, in \u001B[0;36mcompile_extra\u001B[0;34m(typingctx, targetctx, func, args, return_type, flags, locals, library, pipeline_class)\u001B[0m\n\u001B[1;32m    720\u001B[0m \u001B[38;5;250m\u001B[39m\u001B[38;5;124;03m\"\"\"Compiler entry point\u001B[39;00m\n\u001B[1;32m    721\u001B[0m \n\u001B[1;32m    722\u001B[0m \u001B[38;5;124;03mParameter\u001B[39;00m\n\u001B[0;32m   (...)\u001B[0m\n\u001B[1;32m    740\u001B[0m \u001B[38;5;124;03m    compiler pipeline\u001B[39;00m\n\u001B[1;32m    741\u001B[0m \u001B[38;5;124;03m\"\"\"\u001B[39;00m\n\u001B[1;32m    742\u001B[0m pipeline \u001B[38;5;241m=\u001B[39m pipeline_class(typingctx, targetctx, library,\n\u001B[1;32m    743\u001B[0m                           args, return_type, flags, \u001B[38;5;28mlocals\u001B[39m)\n\u001B[0;32m--> 744\u001B[0m \u001B[38;5;28;01mreturn\u001B[39;00m \u001B[43mpipeline\u001B[49m\u001B[38;5;241;43m.\u001B[39;49m\u001B[43mcompile_extra\u001B[49m\u001B[43m(\u001B[49m\u001B[43mfunc\u001B[49m\u001B[43m)\u001B[49m\n",
      "File \u001B[0;32m/opt/anaconda3/envs/uxarray/lib/python3.12/site-packages/numba/core/compiler.py:438\u001B[0m, in \u001B[0;36mCompilerBase.compile_extra\u001B[0;34m(self, func)\u001B[0m\n\u001B[1;32m    436\u001B[0m \u001B[38;5;28mself\u001B[39m\u001B[38;5;241m.\u001B[39mstate\u001B[38;5;241m.\u001B[39mlifted \u001B[38;5;241m=\u001B[39m ()\n\u001B[1;32m    437\u001B[0m \u001B[38;5;28mself\u001B[39m\u001B[38;5;241m.\u001B[39mstate\u001B[38;5;241m.\u001B[39mlifted_from \u001B[38;5;241m=\u001B[39m \u001B[38;5;28;01mNone\u001B[39;00m\n\u001B[0;32m--> 438\u001B[0m \u001B[38;5;28;01mreturn\u001B[39;00m \u001B[38;5;28;43mself\u001B[39;49m\u001B[38;5;241;43m.\u001B[39;49m\u001B[43m_compile_bytecode\u001B[49m\u001B[43m(\u001B[49m\u001B[43m)\u001B[49m\n",
      "File \u001B[0;32m/opt/anaconda3/envs/uxarray/lib/python3.12/site-packages/numba/core/compiler.py:506\u001B[0m, in \u001B[0;36mCompilerBase._compile_bytecode\u001B[0;34m(self)\u001B[0m\n\u001B[1;32m    502\u001B[0m \u001B[38;5;250m\u001B[39m\u001B[38;5;124;03m\"\"\"\u001B[39;00m\n\u001B[1;32m    503\u001B[0m \u001B[38;5;124;03mPopulate and run pipeline for bytecode input\u001B[39;00m\n\u001B[1;32m    504\u001B[0m \u001B[38;5;124;03m\"\"\"\u001B[39;00m\n\u001B[1;32m    505\u001B[0m \u001B[38;5;28;01massert\u001B[39;00m \u001B[38;5;28mself\u001B[39m\u001B[38;5;241m.\u001B[39mstate\u001B[38;5;241m.\u001B[39mfunc_ir \u001B[38;5;129;01mis\u001B[39;00m \u001B[38;5;28;01mNone\u001B[39;00m\n\u001B[0;32m--> 506\u001B[0m \u001B[38;5;28;01mreturn\u001B[39;00m \u001B[38;5;28;43mself\u001B[39;49m\u001B[38;5;241;43m.\u001B[39;49m\u001B[43m_compile_core\u001B[49m\u001B[43m(\u001B[49m\u001B[43m)\u001B[49m\n",
      "File \u001B[0;32m/opt/anaconda3/envs/uxarray/lib/python3.12/site-packages/numba/core/compiler.py:472\u001B[0m, in \u001B[0;36mCompilerBase._compile_core\u001B[0;34m(self)\u001B[0m\n\u001B[1;32m    470\u001B[0m res \u001B[38;5;241m=\u001B[39m \u001B[38;5;28;01mNone\u001B[39;00m\n\u001B[1;32m    471\u001B[0m \u001B[38;5;28;01mtry\u001B[39;00m:\n\u001B[0;32m--> 472\u001B[0m     \u001B[43mpm\u001B[49m\u001B[38;5;241;43m.\u001B[39;49m\u001B[43mrun\u001B[49m\u001B[43m(\u001B[49m\u001B[38;5;28;43mself\u001B[39;49m\u001B[38;5;241;43m.\u001B[39;49m\u001B[43mstate\u001B[49m\u001B[43m)\u001B[49m\n\u001B[1;32m    473\u001B[0m     \u001B[38;5;28;01mif\u001B[39;00m \u001B[38;5;28mself\u001B[39m\u001B[38;5;241m.\u001B[39mstate\u001B[38;5;241m.\u001B[39mcr \u001B[38;5;129;01mis\u001B[39;00m \u001B[38;5;129;01mnot\u001B[39;00m \u001B[38;5;28;01mNone\u001B[39;00m:\n\u001B[1;32m    474\u001B[0m         \u001B[38;5;28;01mbreak\u001B[39;00m\n",
      "File \u001B[0;32m/opt/anaconda3/envs/uxarray/lib/python3.12/site-packages/numba/core/compiler_machinery.py:356\u001B[0m, in \u001B[0;36mPassManager.run\u001B[0;34m(self, state)\u001B[0m\n\u001B[1;32m    354\u001B[0m pass_inst \u001B[38;5;241m=\u001B[39m _pass_registry\u001B[38;5;241m.\u001B[39mget(pss)\u001B[38;5;241m.\u001B[39mpass_inst\n\u001B[1;32m    355\u001B[0m \u001B[38;5;28;01mif\u001B[39;00m \u001B[38;5;28misinstance\u001B[39m(pass_inst, CompilerPass):\n\u001B[0;32m--> 356\u001B[0m     \u001B[38;5;28;43mself\u001B[39;49m\u001B[38;5;241;43m.\u001B[39;49m\u001B[43m_runPass\u001B[49m\u001B[43m(\u001B[49m\u001B[43midx\u001B[49m\u001B[43m,\u001B[49m\u001B[43m \u001B[49m\u001B[43mpass_inst\u001B[49m\u001B[43m,\u001B[49m\u001B[43m \u001B[49m\u001B[43mstate\u001B[49m\u001B[43m)\u001B[49m\n\u001B[1;32m    357\u001B[0m \u001B[38;5;28;01melse\u001B[39;00m:\n\u001B[1;32m    358\u001B[0m     \u001B[38;5;28;01mraise\u001B[39;00m \u001B[38;5;167;01mBaseException\u001B[39;00m(\u001B[38;5;124m\"\u001B[39m\u001B[38;5;124mLegacy pass in use\u001B[39m\u001B[38;5;124m\"\u001B[39m)\n",
      "File \u001B[0;32m/opt/anaconda3/envs/uxarray/lib/python3.12/site-packages/numba/core/compiler_lock.py:35\u001B[0m, in \u001B[0;36m_CompilerLock.__call__.<locals>._acquire_compile_lock\u001B[0;34m(*args, **kwargs)\u001B[0m\n\u001B[1;32m     32\u001B[0m \u001B[38;5;129m@functools\u001B[39m\u001B[38;5;241m.\u001B[39mwraps(func)\n\u001B[1;32m     33\u001B[0m \u001B[38;5;28;01mdef\u001B[39;00m \u001B[38;5;21m_acquire_compile_lock\u001B[39m(\u001B[38;5;241m*\u001B[39margs, \u001B[38;5;241m*\u001B[39m\u001B[38;5;241m*\u001B[39mkwargs):\n\u001B[1;32m     34\u001B[0m     \u001B[38;5;28;01mwith\u001B[39;00m \u001B[38;5;28mself\u001B[39m:\n\u001B[0;32m---> 35\u001B[0m         \u001B[38;5;28;01mreturn\u001B[39;00m \u001B[43mfunc\u001B[49m\u001B[43m(\u001B[49m\u001B[38;5;241;43m*\u001B[39;49m\u001B[43margs\u001B[49m\u001B[43m,\u001B[49m\u001B[43m \u001B[49m\u001B[38;5;241;43m*\u001B[39;49m\u001B[38;5;241;43m*\u001B[39;49m\u001B[43mkwargs\u001B[49m\u001B[43m)\u001B[49m\n",
      "File \u001B[0;32m/opt/anaconda3/envs/uxarray/lib/python3.12/site-packages/numba/core/compiler_machinery.py:311\u001B[0m, in \u001B[0;36mPassManager._runPass\u001B[0;34m(self, index, pss, internal_state)\u001B[0m\n\u001B[1;32m    309\u001B[0m     mutated \u001B[38;5;241m|\u001B[39m\u001B[38;5;241m=\u001B[39m check(pss\u001B[38;5;241m.\u001B[39mrun_initialization, internal_state)\n\u001B[1;32m    310\u001B[0m \u001B[38;5;28;01mwith\u001B[39;00m SimpleTimer() \u001B[38;5;28;01mas\u001B[39;00m pass_time:\n\u001B[0;32m--> 311\u001B[0m     mutated \u001B[38;5;241m|\u001B[39m\u001B[38;5;241m=\u001B[39m \u001B[43mcheck\u001B[49m\u001B[43m(\u001B[49m\u001B[43mpss\u001B[49m\u001B[38;5;241;43m.\u001B[39;49m\u001B[43mrun_pass\u001B[49m\u001B[43m,\u001B[49m\u001B[43m \u001B[49m\u001B[43minternal_state\u001B[49m\u001B[43m)\u001B[49m\n\u001B[1;32m    312\u001B[0m \u001B[38;5;28;01mwith\u001B[39;00m SimpleTimer() \u001B[38;5;28;01mas\u001B[39;00m finalize_time:\n\u001B[1;32m    313\u001B[0m     mutated \u001B[38;5;241m|\u001B[39m\u001B[38;5;241m=\u001B[39m check(pss\u001B[38;5;241m.\u001B[39mrun_finalizer, internal_state)\n",
      "File \u001B[0;32m/opt/anaconda3/envs/uxarray/lib/python3.12/site-packages/numba/core/compiler_machinery.py:273\u001B[0m, in \u001B[0;36mPassManager._runPass.<locals>.check\u001B[0;34m(func, compiler_state)\u001B[0m\n\u001B[1;32m    272\u001B[0m \u001B[38;5;28;01mdef\u001B[39;00m \u001B[38;5;21mcheck\u001B[39m(func, compiler_state):\n\u001B[0;32m--> 273\u001B[0m     mangled \u001B[38;5;241m=\u001B[39m \u001B[43mfunc\u001B[49m\u001B[43m(\u001B[49m\u001B[43mcompiler_state\u001B[49m\u001B[43m)\u001B[49m\n\u001B[1;32m    274\u001B[0m     \u001B[38;5;28;01mif\u001B[39;00m mangled \u001B[38;5;129;01mnot\u001B[39;00m \u001B[38;5;129;01min\u001B[39;00m (\u001B[38;5;28;01mTrue\u001B[39;00m, \u001B[38;5;28;01mFalse\u001B[39;00m):\n\u001B[1;32m    275\u001B[0m         msg \u001B[38;5;241m=\u001B[39m (\u001B[38;5;124m\"\u001B[39m\u001B[38;5;124mCompilerPass implementations should return True/False. \u001B[39m\u001B[38;5;124m\"\u001B[39m\n\u001B[1;32m    276\u001B[0m                \u001B[38;5;124m\"\u001B[39m\u001B[38;5;124mCompilerPass with name \u001B[39m\u001B[38;5;124m'\u001B[39m\u001B[38;5;132;01m%s\u001B[39;00m\u001B[38;5;124m'\u001B[39m\u001B[38;5;124m did not.\u001B[39m\u001B[38;5;124m\"\u001B[39m)\n",
      "File \u001B[0;32m/opt/anaconda3/envs/uxarray/lib/python3.12/site-packages/numba/core/typed_passes.py:497\u001B[0m, in \u001B[0;36mBaseNativeLowering.run_pass\u001B[0;34m(self, state)\u001B[0m\n\u001B[1;32m    491\u001B[0m     state[\u001B[38;5;124m'\u001B[39m\u001B[38;5;124mcr\u001B[39m\u001B[38;5;124m'\u001B[39m] \u001B[38;5;241m=\u001B[39m _LowerResult(fndesc, call_helper,\n\u001B[1;32m    492\u001B[0m                                cfunc\u001B[38;5;241m=\u001B[39m\u001B[38;5;28;01mNone\u001B[39;00m, env\u001B[38;5;241m=\u001B[39menv)\n\u001B[1;32m    493\u001B[0m \u001B[38;5;28;01melse\u001B[39;00m:\n\u001B[1;32m    494\u001B[0m     \u001B[38;5;66;03m# Prepare for execution\u001B[39;00m\n\u001B[1;32m    495\u001B[0m     \u001B[38;5;66;03m# Insert native function for use by other jitted-functions.\u001B[39;00m\n\u001B[1;32m    496\u001B[0m     \u001B[38;5;66;03m# We also register its library to allow for inlining.\u001B[39;00m\n\u001B[0;32m--> 497\u001B[0m     cfunc \u001B[38;5;241m=\u001B[39m \u001B[43mtargetctx\u001B[49m\u001B[38;5;241;43m.\u001B[39;49m\u001B[43mget_executable\u001B[49m\u001B[43m(\u001B[49m\u001B[43mlibrary\u001B[49m\u001B[43m,\u001B[49m\u001B[43m \u001B[49m\u001B[43mfndesc\u001B[49m\u001B[43m,\u001B[49m\u001B[43m \u001B[49m\u001B[43menv\u001B[49m\u001B[43m)\u001B[49m\n\u001B[1;32m    498\u001B[0m     targetctx\u001B[38;5;241m.\u001B[39minsert_user_function(cfunc, fndesc, [library])\n\u001B[1;32m    499\u001B[0m     state[\u001B[38;5;124m'\u001B[39m\u001B[38;5;124mcr\u001B[39m\u001B[38;5;124m'\u001B[39m] \u001B[38;5;241m=\u001B[39m _LowerResult(fndesc, call_helper,\n\u001B[1;32m    500\u001B[0m                                cfunc\u001B[38;5;241m=\u001B[39mcfunc, env\u001B[38;5;241m=\u001B[39menv)\n",
      "File \u001B[0;32m/opt/anaconda3/envs/uxarray/lib/python3.12/site-packages/numba/core/cpu.py:239\u001B[0m, in \u001B[0;36mCPUContext.get_executable\u001B[0;34m(self, library, fndesc, env)\u001B[0m\n\u001B[1;32m    226\u001B[0m \u001B[38;5;250m\u001B[39m\u001B[38;5;124;03m\"\"\"\u001B[39;00m\n\u001B[1;32m    227\u001B[0m \u001B[38;5;124;03mReturns\u001B[39;00m\n\u001B[1;32m    228\u001B[0m \u001B[38;5;124;03m-------\u001B[39;00m\n\u001B[0;32m   (...)\u001B[0m\n\u001B[1;32m    236\u001B[0m \u001B[38;5;124;03m    an execution environment (from _dynfunc)\u001B[39;00m\n\u001B[1;32m    237\u001B[0m \u001B[38;5;124;03m\"\"\"\u001B[39;00m\n\u001B[1;32m    238\u001B[0m \u001B[38;5;66;03m# Code generation\u001B[39;00m\n\u001B[0;32m--> 239\u001B[0m fnptr \u001B[38;5;241m=\u001B[39m \u001B[43mlibrary\u001B[49m\u001B[38;5;241;43m.\u001B[39;49m\u001B[43mget_pointer_to_function\u001B[49m\u001B[43m(\u001B[49m\n\u001B[1;32m    240\u001B[0m \u001B[43m    \u001B[49m\u001B[43mfndesc\u001B[49m\u001B[38;5;241;43m.\u001B[39;49m\u001B[43mllvm_cpython_wrapper_name\u001B[49m\u001B[43m)\u001B[49m\n\u001B[1;32m    242\u001B[0m \u001B[38;5;66;03m# Note: we avoid reusing the original docstring to avoid encoding\u001B[39;00m\n\u001B[1;32m    243\u001B[0m \u001B[38;5;66;03m# issues on Python 2, see issue #1908\u001B[39;00m\n\u001B[1;32m    244\u001B[0m doc \u001B[38;5;241m=\u001B[39m \u001B[38;5;124m\"\u001B[39m\u001B[38;5;124mcompiled wrapper for \u001B[39m\u001B[38;5;132;01m%r\u001B[39;00m\u001B[38;5;124m\"\u001B[39m \u001B[38;5;241m%\u001B[39m (fndesc\u001B[38;5;241m.\u001B[39mqualname,)\n",
      "File \u001B[0;32m/opt/anaconda3/envs/uxarray/lib/python3.12/site-packages/numba/core/codegen.py:989\u001B[0m, in \u001B[0;36mJITCodeLibrary.get_pointer_to_function\u001B[0;34m(self, name)\u001B[0m\n\u001B[1;32m    975\u001B[0m \u001B[38;5;28;01mdef\u001B[39;00m \u001B[38;5;21mget_pointer_to_function\u001B[39m(\u001B[38;5;28mself\u001B[39m, name):\n\u001B[1;32m    976\u001B[0m \u001B[38;5;250m    \u001B[39m\u001B[38;5;124;03m\"\"\"\u001B[39;00m\n\u001B[1;32m    977\u001B[0m \u001B[38;5;124;03m    Generate native code for function named *name* and return a pointer\u001B[39;00m\n\u001B[1;32m    978\u001B[0m \u001B[38;5;124;03m    to the start of the function (as an integer).\u001B[39;00m\n\u001B[0;32m   (...)\u001B[0m\n\u001B[1;32m    987\u001B[0m \u001B[38;5;124;03m        - non-zero if the symbol is defined.\u001B[39;00m\n\u001B[1;32m    988\u001B[0m \u001B[38;5;124;03m    \"\"\"\u001B[39;00m\n\u001B[0;32m--> 989\u001B[0m     \u001B[38;5;28;43mself\u001B[39;49m\u001B[38;5;241;43m.\u001B[39;49m\u001B[43m_ensure_finalized\u001B[49m\u001B[43m(\u001B[49m\u001B[43m)\u001B[49m\n\u001B[1;32m    990\u001B[0m     ee \u001B[38;5;241m=\u001B[39m \u001B[38;5;28mself\u001B[39m\u001B[38;5;241m.\u001B[39m_codegen\u001B[38;5;241m.\u001B[39m_engine\n\u001B[1;32m    991\u001B[0m     \u001B[38;5;28;01mif\u001B[39;00m \u001B[38;5;129;01mnot\u001B[39;00m ee\u001B[38;5;241m.\u001B[39mis_symbol_defined(name):\n",
      "File \u001B[0;32m/opt/anaconda3/envs/uxarray/lib/python3.12/site-packages/numba/core/codegen.py:567\u001B[0m, in \u001B[0;36mCodeLibrary._ensure_finalized\u001B[0;34m(self)\u001B[0m\n\u001B[1;32m    565\u001B[0m \u001B[38;5;28;01mdef\u001B[39;00m \u001B[38;5;21m_ensure_finalized\u001B[39m(\u001B[38;5;28mself\u001B[39m):\n\u001B[1;32m    566\u001B[0m     \u001B[38;5;28;01mif\u001B[39;00m \u001B[38;5;129;01mnot\u001B[39;00m \u001B[38;5;28mself\u001B[39m\u001B[38;5;241m.\u001B[39m_finalized:\n\u001B[0;32m--> 567\u001B[0m         \u001B[38;5;28;43mself\u001B[39;49m\u001B[38;5;241;43m.\u001B[39;49m\u001B[43mfinalize\u001B[49m\u001B[43m(\u001B[49m\u001B[43m)\u001B[49m\n",
      "File \u001B[0;32m/opt/anaconda3/envs/uxarray/lib/python3.12/site-packages/numba/core/codegen.py:762\u001B[0m, in \u001B[0;36mCPUCodeLibrary.finalize\u001B[0;34m(self)\u001B[0m\n\u001B[1;32m    756\u001B[0m         \u001B[38;5;28mself\u001B[39m\u001B[38;5;241m.\u001B[39m_final_module\u001B[38;5;241m.\u001B[39mlink_in(\n\u001B[1;32m    757\u001B[0m             library\u001B[38;5;241m.\u001B[39m_get_module_for_linking(), preserve\u001B[38;5;241m=\u001B[39m\u001B[38;5;28;01mTrue\u001B[39;00m,\n\u001B[1;32m    758\u001B[0m         )\n\u001B[1;32m    760\u001B[0m \u001B[38;5;66;03m# Optimize the module after all dependences are linked in above,\u001B[39;00m\n\u001B[1;32m    761\u001B[0m \u001B[38;5;66;03m# to allow for inlining.\u001B[39;00m\n\u001B[0;32m--> 762\u001B[0m \u001B[38;5;28;43mself\u001B[39;49m\u001B[38;5;241;43m.\u001B[39;49m\u001B[43m_optimize_final_module\u001B[49m\u001B[43m(\u001B[49m\u001B[43m)\u001B[49m\n\u001B[1;32m    764\u001B[0m \u001B[38;5;28mself\u001B[39m\u001B[38;5;241m.\u001B[39m_final_module\u001B[38;5;241m.\u001B[39mverify()\n\u001B[1;32m    765\u001B[0m \u001B[38;5;28mself\u001B[39m\u001B[38;5;241m.\u001B[39m_finalize_final_module()\n",
      "File \u001B[0;32m/opt/anaconda3/envs/uxarray/lib/python3.12/site-packages/numba/core/codegen.py:682\u001B[0m, in \u001B[0;36mCPUCodeLibrary._optimize_final_module\u001B[0;34m(self)\u001B[0m\n\u001B[1;32m    679\u001B[0m full_name \u001B[38;5;241m=\u001B[39m \u001B[38;5;124m\"\u001B[39m\u001B[38;5;124mModule passes (full optimization)\u001B[39m\u001B[38;5;124m\"\u001B[39m\n\u001B[1;32m    680\u001B[0m \u001B[38;5;28;01mwith\u001B[39;00m \u001B[38;5;28mself\u001B[39m\u001B[38;5;241m.\u001B[39m_recorded_timings\u001B[38;5;241m.\u001B[39mrecord(full_name):\n\u001B[1;32m    681\u001B[0m     \u001B[38;5;66;03m# The full optimisation suite is then run on the refop pruned IR\u001B[39;00m\n\u001B[0;32m--> 682\u001B[0m     \u001B[38;5;28;43mself\u001B[39;49m\u001B[38;5;241;43m.\u001B[39;49m\u001B[43m_codegen\u001B[49m\u001B[38;5;241;43m.\u001B[39;49m\u001B[43m_mpm_full\u001B[49m\u001B[38;5;241;43m.\u001B[39;49m\u001B[43mrun\u001B[49m\u001B[43m(\u001B[49m\u001B[38;5;28;43mself\u001B[39;49m\u001B[38;5;241;43m.\u001B[39;49m\u001B[43m_final_module\u001B[49m\u001B[43m)\u001B[49m\n",
      "File \u001B[0;32m/opt/anaconda3/envs/uxarray/lib/python3.12/site-packages/llvmlite/binding/passmanagers.py:698\u001B[0m, in \u001B[0;36mModulePassManager.run\u001B[0;34m(self, module, remarks_file, remarks_format, remarks_filter)\u001B[0m\n\u001B[1;32m    683\u001B[0m \u001B[38;5;250m\u001B[39m\u001B[38;5;124;03m\"\"\"\u001B[39;00m\n\u001B[1;32m    684\u001B[0m \u001B[38;5;124;03mRun optimization passes on the given module.\u001B[39;00m\n\u001B[1;32m    685\u001B[0m \n\u001B[0;32m   (...)\u001B[0m\n\u001B[1;32m    695\u001B[0m \u001B[38;5;124;03m    The filter that should be applied to the remarks output.\u001B[39;00m\n\u001B[1;32m    696\u001B[0m \u001B[38;5;124;03m\"\"\"\u001B[39;00m\n\u001B[1;32m    697\u001B[0m \u001B[38;5;28;01mif\u001B[39;00m remarks_file \u001B[38;5;129;01mis\u001B[39;00m \u001B[38;5;28;01mNone\u001B[39;00m:\n\u001B[0;32m--> 698\u001B[0m     \u001B[38;5;28;01mreturn\u001B[39;00m \u001B[43mffi\u001B[49m\u001B[38;5;241;43m.\u001B[39;49m\u001B[43mlib\u001B[49m\u001B[38;5;241;43m.\u001B[39;49m\u001B[43mLLVMPY_RunPassManager\u001B[49m\u001B[43m(\u001B[49m\u001B[38;5;28;43mself\u001B[39;49m\u001B[43m,\u001B[49m\u001B[43m \u001B[49m\u001B[43mmodule\u001B[49m\u001B[43m)\u001B[49m\n\u001B[1;32m    699\u001B[0m \u001B[38;5;28;01melse\u001B[39;00m:\n\u001B[1;32m    700\u001B[0m     r \u001B[38;5;241m=\u001B[39m ffi\u001B[38;5;241m.\u001B[39mlib\u001B[38;5;241m.\u001B[39mLLVMPY_RunPassManagerWithRemarks(\n\u001B[1;32m    701\u001B[0m         \u001B[38;5;28mself\u001B[39m, module, _encode_string(remarks_format),\n\u001B[1;32m    702\u001B[0m         _encode_string(remarks_filter),\n\u001B[1;32m    703\u001B[0m         _encode_string(remarks_file))\n",
      "File \u001B[0;32m/opt/anaconda3/envs/uxarray/lib/python3.12/site-packages/llvmlite/binding/ffi.py:192\u001B[0m, in \u001B[0;36m_lib_fn_wrapper.__call__\u001B[0;34m(self, *args, **kwargs)\u001B[0m\n\u001B[1;32m    190\u001B[0m \u001B[38;5;28;01mdef\u001B[39;00m \u001B[38;5;21m__call__\u001B[39m(\u001B[38;5;28mself\u001B[39m, \u001B[38;5;241m*\u001B[39margs, \u001B[38;5;241m*\u001B[39m\u001B[38;5;241m*\u001B[39mkwargs):\n\u001B[1;32m    191\u001B[0m     \u001B[38;5;28;01mwith\u001B[39;00m \u001B[38;5;28mself\u001B[39m\u001B[38;5;241m.\u001B[39m_lock:\n\u001B[0;32m--> 192\u001B[0m         \u001B[38;5;28;01mreturn\u001B[39;00m \u001B[38;5;28;43mself\u001B[39;49m\u001B[38;5;241;43m.\u001B[39;49m\u001B[43m_cfn\u001B[49m\u001B[43m(\u001B[49m\u001B[38;5;241;43m*\u001B[39;49m\u001B[43margs\u001B[49m\u001B[43m,\u001B[49m\u001B[43m \u001B[49m\u001B[38;5;241;43m*\u001B[39;49m\u001B[38;5;241;43m*\u001B[39;49m\u001B[43mkwargs\u001B[49m\u001B[43m)\u001B[49m\n",
      "\u001B[0;31mKeyboardInterrupt\u001B[0m: "
     ]
    }
   ],
   "execution_count": 1
  },
  {
   "cell_type": "markdown",
   "id": "440680ba-dacf-4617-b0c5-beea08f78198",
   "metadata": {},
   "source": [
    "## HoloViz Packages\n",
    "\n",
    "UXarray's plotting API is written using `hvPlot`, which uses `Datashader` and `HoloViews` under the hood. These packages enable scalable and interactive visualizations. In order to plot directly alongside UXarray, we can import `hvplot.xarray`, which attaches a `.hvplot()` accessor to Xarray objects, which can be composed with UXarray's plots.\n",
    "\n"
   ]
  },
  {
   "cell_type": "code",
   "execution_count": null,
   "id": "a422173e-4e89-48d9-83fe-1fc5bc2740c2",
   "metadata": {},
   "outputs": [],
   "source": [
    "import holoviews as hv\n",
    "import hvplot.xarray\n",
    "hv.extension(\"bokeh\")"
   ]
  },
  {
   "cell_type": "markdown",
   "id": "5e00234e-3984-47b5-9968-5485f9a94e38",
   "metadata": {},
   "source": [
    "## Configure visualization tools"
   ]
  },
  {
   "cell_type": "code",
   "execution_count": null,
   "id": "b654be71-a194-4c61-8e47-ae78bcef07cb",
   "metadata": {},
   "outputs": [],
   "source": [
    "# common border lines\n",
    "coast_lines = gf.coastline(projection=ccrs.PlateCarree(), line_width=1, scale=\"50m\")\n",
    "state_lines = gf.states(projection=ccrs.PlateCarree(), line_width=1, line_color='gray', scale=\"50m\")"
   ]
  },
  {
   "cell_type": "markdown",
   "id": "d6c3ecd6-d4ac-4c09-89fe-a28f59b990ef",
   "metadata": {},
   "source": [
    ":::{hint}\n",
    "\n",
    "We use the unstructured-grid analysis data hosted by the Jetstream2 S3 bucket repository using UXaray. The data is executed by [MPAS](https://mpas-dev.github.io/) over the CONUS (contiguous United States) with a resolution of 12 kilometres, which is stored in the NetCDF format. \n",
    "\n",
    "For more information about the `UXarray` and unstructured grid, please go to [Working with unstructured grids with UXarray](https://uxarray.readthedocs.io/en/v2023.08.0/examples/001-working-with-unstructured-grids.html).\n",
    "\n",
    ":::"
   ]
  },
  {
   "cell_type": "markdown",
   "id": "7e23a731-9e24-4f4d-b0d2-e792105d384b",
   "metadata": {},
   "source": [
    "## Retrieve/load  MPAS/JEDI data\n",
    "\n",
    "\n",
    "The example MPAS/JEDI data are stored at [jetstream2](https://par.nsf.gov/biblio/10296117-jetstream2-accelerating-cloud-computing-via-jetstream). We need to retreive those data first.   \n",
    "There are two ways to retrieve MPAS data:\n",
    "- 1. Download all example data from JetStream2 to local and them load them locally. This approach allows downloading the data once per machine and reuse it in notebooks.\n",
    "- 2. Stream the JetStream2 S3 objects on demand. In this case, each notebook (including restarting a notebook) will retrieve the required data separately as needed."
   ]
  },
  {
   "cell_type": "code",
   "execution_count": null,
   "id": "ec8a6829-ab19-4b0d-ba6f-8b188623bd2a",
   "metadata": {},
   "outputs": [],
   "source": [
    "# choose the data_load_method, check the above cell for details. Default to method 2; use 1 if running this on your own machine\n",
    "data_load_method = 2  # 1 or 2"
   ]
  },
  {
   "cell_type": "markdown",
   "id": "b34771bc-e222-4f8a-802c-a6ffab3330b9",
   "metadata": {},
   "source": [
    "### Method 1: Download all example data once and reuse it in mulptile notebooks"
   ]
  },
  {
   "cell_type": "code",
   "execution_count": null,
   "id": "d2f02501-f052-4e06-b6f3-ee0be46294d8",
   "metadata": {},
   "outputs": [],
   "source": [
    "%%time\n",
    "local_dir=\"/tmp\"\n",
    "\n",
    "if data_load_method == 1 and not os.path.exists(local_dir + \"/conus12km/bkg/mpasout.2024-05-06_01.00.00.nc\"):\n",
    "    jetstream_url = 'https://js2.jetstream-cloud.org:8001/'\n",
    "    fs = s3fs.S3FileSystem(anon=True, asynchronous=False,client_kwargs=dict(endpoint_url=jetstream_url))\n",
    "    conus12_path = 's3://pythia/mpas/conus12km'\n",
    "    fs.get(conus12_path, local_dir, recursive=True)\n",
    "    print(\"Data downloading completed\")\n",
    "else:\n",
    "    print(\"Skip..., either data is available in local or data_load_method is NOT 1\")"
   ]
  },
  {
   "cell_type": "code",
   "execution_count": null,
   "id": "c22fb535-88dc-4580-94de-2bfe4d31f7c0",
   "metadata": {},
   "outputs": [],
   "source": [
    "# Set file path\n",
    "if data_load_method == 1:\n",
    "    grid_file = local_dir + \"/conus12km/conus12km.invariant.nc_L60_GFS\"\n",
    "    ana_file = local_dir + \"/conus12km/bkg/mpasout.2024-05-06_01.00.00.nc\"\n",
    "    bkg_file = local_dir + \"/conus12km/ana/mpasout.2024-05-06_01.00.00.nc\"\n",
    "    # jdiag_file = local_dir + \"/conus12km/jdiag_aircar_t133.nc\"  #q133.nc or uv233.nc"
   ]
  },
  {
   "cell_type": "markdown",
   "id": "be9d2ab4-536d-49fb-9abb-868892f2d7bf",
   "metadata": {},
   "source": [
    "### Method 2: Stream the JetStream2 S3 objects on demand"
   ]
  },
  {
   "cell_type": "code",
   "execution_count": null,
   "id": "98004f21-d612-4f5e-843e-19da707708a1",
   "metadata": {},
   "outputs": [],
   "source": [
    "%%time\n",
    "if data_load_method == 2:\n",
    "    jetstream_url = 'https://js2.jetstream-cloud.org:8001/'\n",
    "    fs = s3fs.S3FileSystem(anon=True, asynchronous=False,client_kwargs=dict(endpoint_url=jetstream_url))\n",
    "    conus12_path = 's3://pythia/mpas/conus12km'\n",
    "    \n",
    "    grid_url=f\"{conus12_path}/conus12km.invariant.nc_L60_GFS\"\n",
    "    bkg_url=f\"{conus12_path}/bkg/mpasout.2024-05-06_01.00.00.nc\"\n",
    "    ana_url=f\"{conus12_path}/ana/mpasout.2024-05-06_01.00.00.nc\"\n",
    "    # jdiag_url=f\"{conus12_path}/jdiag_aircar_t133.nc\"\n",
    "    \n",
    "    grid_file = fs.open(grid_url)\n",
    "    ana_file = fs.open(ana_url)\n",
    "    bkg_file = fs.open(bkg_url)\n",
    "    # jdiag_file = fs.open(jdiag_url)\n",
    "else:\n",
    "    print(\"Skip..., data_load_method is NOT 2\")"
   ]
  },
  {
   "cell_type": "markdown",
   "id": "6ba64259-b1a0-466d-b370-164b900e28da",
   "metadata": {},
   "source": [
    ":::{warning}\n",
    "Depending on the network conditions, loading the data can take a few minutes.\n",
    ":::"
   ]
  },
  {
   "cell_type": "markdown",
   "id": "b9a5b871-21de-40e7-b111-1856a44c7e37",
   "metadata": {},
   "source": [
    "### Loading the data into UXarray datasets\n",
    "\n",
    "We use the UXarray data structures for working with the data. This package supports data defined over unstructured grid and provides utilities for modifying and visualizing it. The available fucntionality are discussed in [`UxDataset` documentation](https://uxarray.readthedocs.io/en/latest/generated/uxarray.UxDataset.html#uxarray.UxDataset).    \n",
    "For more information about the `UXarray` and unstructured grid, please go to [Working with unstructured grids with UXarray](https://uxarray.readthedocs.io/en/v2023.08.0/examples/001-working-with-unstructured-grids.html)."
   ]
  },
  {
   "cell_type": "code",
   "execution_count": null,
   "id": "1becbfda-786f-4aa6-a42e-dcbd122b6ad5",
   "metadata": {},
   "outputs": [],
   "source": [
    "uxds = ux.open_dataset(grid_file, bkg_file)\n",
    "\n",
    "# We will extract the potential temperature `theta` from the analysis data from MPAS and convert it from Kelvin to Celsius.\n",
    "uxvar = uxds['theta'].isel(Time=0) - 273.15   ## Kelvin to Celsius"
   ]
  },
  {
   "cell_type": "markdown",
   "id": "2ea8a302-a32a-41b7-9ba2-be258b603942",
   "metadata": {},
   "source": [
    "### basic information of used dataset"
   ]
  },
  {
   "cell_type": "code",
   "execution_count": null,
   "id": "4ec14576-cd8b-430d-bae6-18bd44579747",
   "metadata": {},
   "outputs": [],
   "source": [
    "min_lat,max_lat = float(uxvar.uxgrid.face_lat.min()),float(uxvar.uxgrid.face_lat.max())\n",
    "min_lon,max_lon = float(uxvar.uxgrid.face_lon.min()),float(uxvar.uxgrid.face_lon.max())\n",
    "print( f\"The data is over \"+\n",
    "      f\"{abs(min_lat):.1f}°{'N' if min_lat >= 0 else 'S'}~{abs(max_lat):.1f}°{'N' if max_lat >= 0 else 'S'}, \"\n",
    "      f\"{min_lon:.1f}°{'E' if min_lon >= 0 else 'W'}~{max_lon:.1f}°{'E' if max_lon >= 0 else 'W'}, \"+\n",
    "      \"\\n\"+\n",
    "     \"with a resolution of {:d} horizontal grids * {:d} vertical levels.\".format(uxvar.shape[-2],uxvar.shape[-1]))"
   ]
  },
  {
   "cell_type": "markdown",
   "id": "3272fe80-0e8a-458e-891e-4880271aee7f",
   "metadata": {},
   "source": [
    "### Indexing and selecting"
   ]
  },
  {
   "cell_type": "markdown",
   "id": "ba35b3e8-c833-44a4-b39a-ee11f73939c6",
   "metadata": {},
   "source": [
    "#### Subset a latitudinal or longitudinal band"
   ]
  },
  {
   "cell_type": "code",
   "execution_count": null,
   "id": "650f7156-d41a-4e35-b937-7cb91f1728b9",
   "metadata": {},
   "outputs": [],
   "source": [
    "\n",
    "uxvar_latitudinal_slice=uxvar.isel(nVertLevels=0).subset.constant_latitude_interval(lats=(int(min_lat+10),int(max_lat-10)))\n",
    "plot_lat=hv.operation.contours(\n",
    "        uxvar_latitudinal_slice.plot(),filled=True,\n",
    "        ).opts(        \n",
    "            xlim=(int(min_lon-5),int(max_lon)+5),ylim=(int(min_lat-5),int(max_lat)+5),\n",
    "            cmap=\"inferno\",line_color=None, \n",
    "            height=500, width=800,        \n",
    "            colorbar=True,colorbar_position='bottom'\n",
    "            )\n",
    "\n",
    "uxvar_longitudinal_slice=uxvar.isel(nVertLevels=0).subset.constant_longitude_interval(lons=(int(min_lon+30),int(max_lon-30)))\n",
    "plot_lon=hv.operation.contours(\n",
    "        uxvar_longitudinal_slice.plot(),filled=True,\n",
    "        ).opts(        \n",
    "            xlim=(int(min_lon-5),int(max_lon)+5),ylim=(int(min_lat-5),int(max_lat)+5),\n",
    "            cmap=\"reds\",line_color=None, \n",
    "            height=500, width=800,        \n",
    "            colorbar=True,colorbar_position='left'\n",
    "            )\n",
    "\n",
    "\n",
    "\n",
    "(plot_lat * plot_lon* coast_lines * state_lines).opts(\n",
    "        title=\"Latitudinal and Longitudinal Slices of Potential Temperature at Level 0\",\n",
    "        shared_axes=True,\n",
    "        )\n",
    "\n"
   ]
  },
  {
   "cell_type": "markdown",
   "id": "6eda8134-9ad6-458e-8124-891b26138012",
   "metadata": {},
   "source": [
    "## Vertical cross section\n",
    "\n",
    "Based on `UXarray`, we will generate cross-sections:\n",
    "\n",
    "- along an arbitrary great‑circle arcs (GCAs) between two point over the sphere surface.\n",
    "- along a constant longitude line\n",
    "- along a constant latitude line\n",
    "\n",
    "We will also mark the lines or arcs over a map.\n",
    "\n",
    ":::{hint}\n",
    "We assume that you have already gone over the previous section, **[Basic MPAS analysis and visualization with UXarray](mpas-basic)**. If not and if you need to learn about basic indexing, selecting, and generating horizontal figures of variables, we recommend to check that section first.\n",
    ":::"
   ]
  },
  {
   "cell_type": "markdown",
   "id": "d2564759-c114-494e-b28e-d7a0aff13d51",
   "metadata": {},
   "source": [
    "### Random Great Circle Arc (GCA)\n",
    "\n",
    "Let us use UXarray's vertical cross-section function to get a cross-section over a great circle arc:"
   ]
  },
  {
   "cell_type": "code",
   "execution_count": null,
   "id": "5eb33310-4d07-491e-93f1-cfcefa11fb63",
   "metadata": {},
   "outputs": [],
   "source": [
    "%%time\n",
    "\n",
    "start_point = (-56.,46.) # (start_lon, start_lat)\n",
    "end_point = (-80., 30.) # (end_lon,end_lat)\n",
    "step_between_points = 100\n",
    "\n",
    "cross_section_gca = uxvar.cross_section(start=start_point, end=end_point, steps=step_between_points)"
   ]
  },
  {
   "cell_type": "markdown",
   "id": "7176b6e0-a913-4f5e-93cc-805f6f4efc46",
   "metadata": {},
   "source": [
    "UXarray's cross-section returns an `xarray.DataArray` that can then be plotted:"
   ]
  },
  {
   "cell_type": "code",
   "execution_count": null,
   "id": "4c931b8d-6876-41a7-8a3d-9c7b1e04fbf4",
   "metadata": {},
   "outputs": [],
   "source": [
    "hlabelticks = [\n",
    "    f\"{abs(lat):.1f}°{'N' if lat >= 0 else 'S'}\\n{abs(lon):.1f}°{'E' if lon >= 0 else 'W'}\"\n",
    "    for lat, lon in zip(cross_section_gca['lat'], cross_section_gca['lon'])\n",
    "]\n",
    "\n",
    "tick_stride=10\n",
    "\n",
    "cross_section_gca=cross_section_gca.assign_coords({\n",
    "    'steps':cross_section_gca['steps'].values,'nVertLevels':range(cross_section_gca.shape[1])})\n",
    "\n",
    "cross_section_gca.hvplot.contourf(\n",
    "        x='steps',y='nVertLevels', \n",
    "        cmap='inferno_r',levels=range(5,300,20),\n",
    "        title=\"Cross-section from \"+\n",
    "            f\"({abs(start_point[1]):.1f}°{'S' if start_point[1] < 0 else 'N'},{abs(start_point[0]):.1f}°{'W' if start_point[0] < 0 else 'E'})\"+\n",
    "            \" to \"+\n",
    "            f\"({abs(end_point[1]):.1f}°{'S' if end_point[1] < 0 else 'N'},{abs(end_point[0]):.1f}°{'W' if end_point[0] < 0 else 'E'})\"\n",
    "    ).opts(\n",
    "    xlabel='steps',\n",
    "    xticks=list(zip(cross_section_gca['steps'].values[::tick_stride],hlabelticks[::tick_stride]))\n",
    ")"
   ]
  },
  {
   "cell_type": "markdown",
   "id": "1456f39d-6bf5-46b7-ae1b-88f9bc1bde25",
   "metadata": {},
   "source": [
    "### Constant Latitude"
   ]
  },
  {
   "cell_type": "code",
   "execution_count": null,
   "id": "20d627ac-591e-4c62-8c71-d9de3474eb08",
   "metadata": {},
   "outputs": [],
   "source": [
    "lat=43.3\n",
    "step_between_points = 400\n",
    "\n",
    "cross_section_lat = uxvar.cross_section(lat=lat, steps=step_between_points)\n",
    "\n",
    "hlabelticks = [\n",
    "    f\"{abs(lon):.1f}°{'E' if lon >= 0 else 'W'}\" for lon in cross_section_lat['lon']\n",
    "]\n",
    "tick_stride=10\n",
    "cross_section_lat=cross_section_lat.assign_coords({\n",
    "    'steps': cross_section_lat['lon'].values,\n",
    "    'nVertLevels':range(cross_section_lat.shape[1])})\n",
    "\n",
    "tick_stride=10\n",
    "cross_section_lat.hvplot.contourf(\n",
    "        x='steps',y='nVertLevels', \n",
    "        cmap='inferno_r',levels=range(5,300,20),\n",
    "        title=f\"Cross-section at {abs(lat):.1f}°{'S' if lat < 0 else 'N'}\"\n",
    "    ).opts(\n",
    "    xlabel='longitudes',\n",
    "    xticks=list(zip(cross_section_lat['lon'].values[::tick_stride],hlabelticks[::tick_stride]))\n",
    ")"
   ]
  },
  {
   "cell_type": "markdown",
   "id": "f4401882-a72a-4a73-ad9f-2c74f636853c",
   "metadata": {},
   "source": [
    "### Constant Longitude"
   ]
  },
  {
   "cell_type": "code",
   "execution_count": null,
   "id": "b50fa21d-0a15-455a-a857-3a53b2257cde",
   "metadata": {
    "scrolled": true
   },
   "outputs": [],
   "source": [
    "%%time\n",
    "lon=-83.3\n",
    "step_between_points = 400\n",
    "cross_section_lon = uxvar.cross_section(lon=lon, steps=step_between_points)\n",
    "\n",
    "hlabelticks = [\n",
    "    f\"{abs(lat):.1f}°{'N' if lat >= 0 else 'S'}\" for lat in cross_section_lon['lat']\n",
    "]\n",
    "\n",
    "# Create labeled coordinates for plotting\n",
    "cross_section_lon = cross_section_lon.assign_coords({\n",
    "    'steps': cross_section_lon['lat'].values,\n",
    "    'nVertLevels': range(cross_section_lon['nVertLevels'].shape[0])\n",
    "})\n",
    "\n",
    "tick_stride=10\n",
    "cross_section_lon.hvplot.contourf(\n",
    "        x='steps',y='nVertLevels', \n",
    "        cmap='inferno_r',levels=range(5,300,20),\n",
    "        title=f\"Cross-section at {abs(lon):.1f}°{'W' if lon < 0 else 'E'}\"\n",
    "    ).opts(\n",
    "    xlabel='latitudes',\n",
    "    xticks=list(zip(cross_section_lon['steps'].values[::tick_stride],hlabelticks[::tick_stride]))\n",
    ")\n",
    "    "
   ]
  },
  {
   "cell_type": "markdown",
   "id": "02fee149-22ca-4cea-a85e-1b2bbd306112",
   "metadata": {},
   "source": [
    "### Perspective view of cross-sections"
   ]
  },
  {
   "cell_type": "code",
   "execution_count": null,
   "id": "d0243470-b4c5-451b-bdfc-95c2d2281331",
   "metadata": {},
   "outputs": [],
   "source": [
    "\n",
    "import plotly.graph_objects as go\n",
    "\n",
    "\n",
    "#plotting parameters\n",
    "cmap_name='rdbu_r'\n",
    "geography_color='gray'\n",
    "cmin,cmax=0,50\n",
    "# coordinate parameters\n",
    "i_lev=0\n",
    "\n"
   ]
  },
  {
   "cell_type": "markdown",
   "id": "d656b7b6-25fb-43bd-abb9-3023bdc326c3",
   "metadata": {},
   "source": [
    "#### Create geography figures"
   ]
  },
  {
   "cell_type": "code",
   "execution_count": null,
   "id": "20249d5c-7920-485d-aa58-f795444e62ef",
   "metadata": {
    "scrolled": true
   },
   "outputs": [],
   "source": [
    "\n",
    "# Load shapefiles or use built-in geopandas datasets\n",
    "states = gp.read_file(\"~/.local/share/cartopy/shapefiles/natural_earth/cultural/ne_50m_admin_1_states_provinces_lakes.shp\")\n",
    "coasts = gp.read_file(\"~/.local/share/cartopy/shapefiles/natural_earth/physical/ne_50m_coastline.shp\")  \n",
    "\n",
    "def extract_polygon_boundaries(gdf):\n",
    "    boundaries = []\n",
    "    for geom in gdf.geometry:   \n",
    "        if geom.geom_type == 'Polygon':\n",
    "            boundaries.append(geom.exterior)\n",
    "        elif geom.geom_type == 'MultiPolygon':\n",
    "            for poly in geom.geoms: boundaries.append(poly.exterior)\n",
    "    return boundaries\n",
    "\n",
    "\n",
    "def extract_linestring_boundaries(gdf):\n",
    "    lines = []\n",
    "    for geom in gdf.geometry:\n",
    "        if geom.geom_type == 'MultiLineString':\n",
    "            for line in geom.geoms:lines.append(line)\n",
    "        elif geom.geom_type == 'LineString':\n",
    "            lines.append(geom)\n",
    "    return lines\n",
    "    \n",
    "def make_3d_trace(line,i_lev,min_lat,max_lat,min_lon,max_lon,color='white', width=3):\n",
    "    lons, lats= line.xy\n",
    "    lons,lats=np.array(lons),np.array(lats)\n",
    "    lon_final=lons#[(lons>=min_lon)&(lons<=max_lon)&(lats>=min_lat)&(lons<=max_lat)]\n",
    "    lat_final=lats#[(lons>=min_lon)&(lons<=max_lon)&(lats>=min_lat)&(lons<=max_lat)]\n",
    "    lev_final=[i_lev]*lon_final.size\n",
    "    return go.Scatter3d(x=lon_final, y=lat_final, z=lev_final,mode='lines',line=dict(color=color, width=width),showlegend=False )\n",
    "\n",
    "boundary_traces = [make_3d_trace(line, i_lev+2,min_lat,max_lat,min_lon,max_lon,color=geography_color) for line in extract_polygon_boundaries(states)]\n",
    "boundary_traces = [trace for trace in boundary_traces if not (len(trace['x']) == 0 and len(trace['y']) == 0)]\n",
    "\n",
    "coast_traces = [make_3d_trace(line, i_lev+2,min_lat,max_lat,min_lon,max_lon,color=geography_color) for line in extract_linestring_boundaries(coasts)]\n",
    "coast_traces = [trace for trace in coast_traces if not (len(trace['x']) == 0 and len(trace['y']) == 0)]\n"
   ]
  },
  {
   "cell_type": "markdown",
   "id": "ad75375b-27c3-40fb-baf4-9861d46dcbf6",
   "metadata": {},
   "source": [
    "#### Create horizontal figures and crossections"
   ]
  },
  {
   "cell_type": "code",
   "execution_count": null,
   "id": "c7503021-f8f1-4bbb-b5a5-1ea4fd30c150",
   "metadata": {},
   "outputs": [],
   "source": [
    "uxvar_lev0=uxvar.isel(nVertLevels=i_lev)\n",
    "x = uxvar_lev0.uxgrid.face_lon.values  # longitudes\n",
    "y = uxvar_lev0.uxgrid.face_lat.values  # latitudes\n",
    "z = i_lev+np.zeros_like(x)                 # project onto z=0\n",
    "values = uxvar_lev0.values.transpose()           # scalar field\n",
    "\n",
    "horizontal_figure=go.Scatter3d(\n",
    "    name=f'At Level {i_lev:d}',\n",
    "    x=x,y=y,z=z,\n",
    "    mode='markers',marker=dict(size=3,color=values,colorscale=cmap_name,cmin=cmin,cmax=cmax)\n",
    ")\n",
    "\n",
    "\n",
    "# cross-section along a constant longtiude\n",
    "\n",
    "# coordinate parameters\n",
    "lon=-83.3\n",
    "step_between_points = 400\n",
    "long_line_x = [lon, lon]\n",
    "long_line_y = [min_lat, max_lat]\n",
    "long_line_z = [i_lev, i_lev]\n",
    "\n",
    "cross_section_lon = uxvar.cross_section(lon=lon, steps=step_between_points)\n",
    "\n",
    "Long_Line=go.Scatter3d(\n",
    "    x=long_line_x, y=long_line_y,z=long_line_z,\n",
    "    mode='lines',line=dict(color='black', width=12),name='Longitude Line'\n",
    ")\n",
    "\n",
    "# Create labeled coordinates for plotting\n",
    "cross_section_lon = cross_section_lon.assign_coords({\n",
    "    'steps': cross_section_lon['lat'].values,\n",
    "    'nVertLevels': range(cross_section_lon['nVertLevels'].shape[0])\n",
    "})\n",
    "\n",
    "# Get coordinate arrays and create meshgrid\n",
    "LAT, LEV = np.meshgrid(cross_section_lon['steps'].values, cross_section_lon['nVertLevels'].values, indexing='ij')  \n",
    "LON = lon + np.zeros_like(LAT) \n",
    "\n",
    "# Flatten for Scatter3d\n",
    "x,y,z= LON.flatten(), LAT.flatten(), LEV.flatten()  # flip vertical axis if needed\n",
    "values = cross_section_lon.values.flatten()\n",
    "\n",
    "# Mask out NaNs\n",
    "mask = ~np.isnan(values)\n",
    "x,y,z,values = x[mask],y[mask], z[mask],values[mask]\n",
    "const_lon_figure=go.Scatter3d(\n",
    "    name= f\"Along {lon:.1f}°{'E' if lon >= 0 else 'W'}\",\n",
    "    x=x,y=y,z=z,mode='markers',opacity=0.8,marker=dict(size=4,color=values,colorscale=cmap_name,cmin=cmin,cmax=cmax)\n",
    ")\n",
    "\n",
    "# cross-section along a constant latitude\n",
    "\n",
    "\n",
    "# coordinate parameters\n",
    "\n",
    "lat=43.3\n",
    "step_between_points = 400\n",
    "lat_line_x = [min_lon, max_lon]\n",
    "lat_line_y = [lat-0.5, lat-0.5] # slightly deviate the coordinates to show the line out of the background\n",
    "lat_line_z = [i_lev+1, i_lev+1] # slightly deviate the coordinates to show the line out of the background\n",
    "\n",
    "Lati_Line=go.Scatter3d(\n",
    "    x=lat_line_x,y=lat_line_y,z=lat_line_z,\n",
    "    mode='lines',line=dict(color='black', width=12),name='Latitude Line'\n",
    ")\n",
    "\n",
    "cross_section_lat = uxvar.cross_section(lat=lat, steps=step_between_points)\n",
    "\n",
    "# Create labeled coordinates for plotting\n",
    "cross_section_lat = cross_section_lat.assign_coords({\n",
    "    'steps': cross_section_lat['lon'].values,\n",
    "    'nVertLevels': range(cross_section_lat['nVertLevels'].shape[0])\n",
    "})\n",
    "\n",
    "# Get coordinate arrays and create meshgrid\n",
    "LON, LEV = np.meshgrid(cross_section_lat['steps'].values, cross_section_lat['nVertLevels'].values, indexing='ij')  \n",
    "LAT = lat + np.zeros_like(LON) \n",
    "\n",
    "# Flatten for Scatter3d\n",
    "x,y,z= LON.flatten(), LAT.flatten(), LEV.flatten() \n",
    "values = cross_section_lat.values.flatten()\n",
    "\n",
    "# Mask out NaNs\n",
    "mask = ~np.isnan(values)\n",
    "x,y,z,values = x[mask],y[mask], z[mask],values[mask]\n",
    "\n",
    "const_lat_figure=go.Scatter3d(\n",
    "    name= f\"Along {lat:.1f}°{'N' if lat >= 0 else 'S'}\",\n",
    "    x=x,y=y,z=z,mode='markers',marker=dict(size=4,color=values,colorscale=cmap_name,cmin=cmin,cmax=cmax,colorbar=dict(title='Value',len=0.6))\n",
    ")"
   ]
  },
  {
   "cell_type": "markdown",
   "id": "13f39aec-cdd9-4c98-9132-eded1da85f7f",
   "metadata": {},
   "source": [
    "#### Updated the figure \n",
    "\n",
    "Use go.Mesh3d to create a smoother cross-section. It will take a bit more time to render."
   ]
  },
  {
   "cell_type": "code",
   "execution_count": null,
   "id": "b70d8b17-5d12-4edd-9c84-d4dddcb66fa8",
   "metadata": {},
   "outputs": [],
   "source": [
    "\n",
    "# coordinate parameters\n",
    "\n",
    "lat=43.3\n",
    "step_between_points = 400\n",
    "lat_line_x = [min_lon, max_lon]\n",
    "lat_line_y = [lat-0.5, lat-0.5] # slightly deviate the coordinates to show the line out of the background\n",
    "lat_line_z = [i_lev+1, i_lev+1] # slightly deviate the coordinates to show the line out of the background\n",
    "\n",
    "Lati_Line=go.Scatter3d(\n",
    "    x=lat_line_x,y=lat_line_y,z=lat_line_z,\n",
    "    mode='lines',line=dict(color='black', width=12),name='Latitude Line'\n",
    ")\n",
    "\n",
    "cross_section_lat = uxvar.cross_section(lat=lat, steps=step_between_points)\n",
    "\n",
    "\n",
    "\n",
    "cross_section_lat = uxvar.cross_section(lat=lat, steps=step_between_points)\n",
    "\n",
    "# Create labeled coordinates for plotting\n",
    "cross_section_lat = cross_section_lat.assign_coords({\n",
    "    'steps': cross_section_lat['lon'].values,\n",
    "    'nVertLevels': range(cross_section_lat['nVertLevels'].shape[0])\n",
    "})\n",
    "\n",
    "# Get coordinate arrays and create meshgrid\n",
    "LON, LEV = np.meshgrid(cross_section_lat['steps'].values, cross_section_lat['nVertLevels'].values, indexing='ij')  \n",
    "LAT = lat + np.zeros_like(LON) \n",
    "\n",
    "# Flatten for Scatter3d\n",
    "x,y,z= LON.flatten(), LAT.flatten(), LEV.flatten() \n",
    "values = cross_section_lat.values.flatten()\n",
    "\n",
    "# Build triangle indices before masking\n",
    "nstep, nlev = len(cross_section_lat['steps']), len(cross_section_lat['nVertLevels'])\n",
    "i, j, k = [], [], []\n",
    "for s in range(nstep - 1):\n",
    "    for l in range(nlev - 1):\n",
    "        idx = s * nlev + l\n",
    "        quad = [idx, idx + 1, idx + nlev, idx + nlev + 1]\n",
    "        if not np.any(np.isnan(values[quad])):\n",
    "            i += [quad[0], quad[1]]\n",
    "            j += [quad[1], quad[3]]\n",
    "            k += [quad[2], quad[2]]\n",
    "\n",
    "# Mask points and remap indices\n",
    "valid = ~np.isnan(values)\n",
    "x, y, z, values = x[valid], y[valid], z[valid], values[valid]\n",
    "remap = {old: new for new, old in enumerate(np.where(valid)[0])}\n",
    "i, j, k = [remap[idx] for idx in i], [remap[idx] for idx in j], [remap[idx] for idx in k]\n",
    "\n",
    "# Add to figure\n",
    "const_lat_figure = go.Mesh3d(\n",
    "    name=f\"Along {lat:.1f}°{'N' if lat >= 0 else 'S'}\",\n",
    "    x=x, y=y, z=z,i=i, j=j, k=k,intensity=values,\n",
    "    colorscale=cmap_name,cmin=cmin, cmax=cmax, colorbar=dict(title='Value', len=0.6),showlegend=True,#showscale=True,    \n",
    "    lighting=dict(ambient=1.0),lightposition=dict(x=100, y=200, z=LEV.max()),\n",
    "    flatshading=True, opacity=1.0,\n",
    ")\n"
   ]
  },
  {
   "cell_type": "markdown",
   "id": "19c059d5-394c-4513-a2bc-36029ceb9b60",
   "metadata": {},
   "source": [
    "#### Select and plot figures"
   ]
  },
  {
   "cell_type": "code",
   "execution_count": null,
   "id": "61da104c-9a23-45f0-aae4-568d684138de",
   "metadata": {},
   "outputs": [],
   "source": [
    "\n",
    "fig = go.Figure()\n",
    "fig.add_trace(horizontal_figure)\n",
    "\n",
    "for trace in boundary_traces:fig.add_trace(trace)\n",
    "for trace in coast_traces:fig.add_trace(trace)\n",
    "\n",
    "# fig.add_trace(const_lon_figure)\n",
    "# fig.add_trace(Long_Line)\n",
    "\n",
    "fig.add_trace(const_lat_figure)\n",
    "fig.add_trace(Lati_Line)\n",
    "\n",
    "xmin,xmax=min_lon-1, max_lon+1\n",
    "ymin,ymax=min_lat-1, max_lat+5\n",
    "\n",
    "fig.update_layout(\n",
    "    title='UXarray Cross Sections',\n",
    "    scene=dict(\n",
    "        xaxis_title='Longitude',yaxis_title='Latitude',zaxis_title='Vertical Level',\n",
    "        zaxis=dict(range=[LEV.min(),LEV.max()],backgroundcolor=\"rgba(0,0,0,0)\",  gridcolor=\"gray\",    # Grid color for visibility\n",
    "                    showbackground=True,zerolinecolor=\"gray\"),\n",
    "        xaxis=dict(range=[xmin,xmax],backgroundcolor=\"rgba(0,0,0,0)\",  gridcolor=\"gray\",  \n",
    "                    showbackground=True,zerolinecolor=\"gray\"), \n",
    "        yaxis=dict(range=[ymin,ymax],backgroundcolor=\"rgba(0,0,0,0)\",  gridcolor=\"gray\",   \n",
    "                    showbackground=True,zerolinecolor=\"gray\"),  \n",
    "        camera=dict(eye=dict(x=-1.5, y=-3, z=0.4)),\n",
    "        aspectmode='manual',\n",
    "        aspectratio=dict(x=1., y=2*(ymax-ymin)/(xmax-xmin), z=0.3),  # Compress z-axis\n",
    "\n",
    "        bgcolor=\"rgba(0,0,0,0)\" # Transparent background for the entire scene\n",
    "                     \n",
    "    ),\n",
    "    width=1000, height=700\n",
    ")\n",
    "\n",
    "fig.show()\n"
   ]
  },
  {
   "cell_type": "markdown",
   "id": "dee6f1d3-d6b8-4d4a-b09a-94b64ea2df18",
   "metadata": {},
   "source": [
    "## Zonal Average\n",
    "\n",
    "In this session we use the first level and extract its zonal averages at each latitude, with a bin width of 1$^\\circ$:"
   ]
  },
  {
   "cell_type": "code",
   "execution_count": null,
   "id": "618f8dd9-2ead-40b5-8010-a7954f543041",
   "metadata": {},
   "outputs": [],
   "source": [
    "uxvar_slice=uxvar.isel(nVertLevels=0)\n",
    "\n",
    "zonal_mean_uxvar=uxvar_slice.zonal_mean((int(min_lat)+1,int(max_lat), 1))\n"
   ]
  },
  {
   "cell_type": "code",
   "execution_count": null,
   "id": "f6f67e71-649b-462a-bccc-085dad8c6463",
   "metadata": {},
   "outputs": [],
   "source": [
    "(\n",
    "    hv.operation.contours(\n",
    "        uxvar_slice.plot(),\n",
    "        filled=True,\n",
    "        ).opts(        \n",
    "        xlim=(int(min_lon-5),int(max_lon)+5),ylim=(int(min_lat-5),int(max_lat)+5),\n",
    "        cmap=\"inferno\",line_color=None, \n",
    "        height=250, width=500,        \n",
    "        colorbar=True,colorbar_position='left'\n",
    "            )* coast_lines * state_lines\n",
    "    \n",
    "    + zonal_mean_uxvar.plot.line(\n",
    "        x=\"theta_zonal_mean\",y=\"latitudes\",\n",
    "        height=250,width=150,\n",
    "        ylabel=\"\",\n",
    "        ylim=(int(min_lat-5),int(max_lat)+5),\n",
    "        grid=True,\n",
    "        )\n",
    "    \n",
    "    ).opts(\n",
    "    title=\"Combined Raster and Zonal Average Plot\",\n",
    "    shared_axes=True,\n",
    "      )\n",
    "\n",
    "\n"
   ]
  },
  {
   "cell_type": "markdown",
   "id": "b51cd9e0-771a-481c-9e29-986d947c6330",
   "metadata": {},
   "source": [
    "`zonal_mean` uses a face-weighted average. It accounts for the area of each grid cell, ensuring that larger cells contribute proportionally more to the mean. This is crucial for MPAS grids, which are unstructured and vary in size."
   ]
  },
  {
   "cell_type": "markdown",
   "id": "6fcdfe3a-dce1-47ab-822e-fc62a902fae8",
   "metadata": {},
   "source": [
    "### Decompose into zonal averages and zonal anomalies\n",
    "The total field $\\theta_{i,j}$ at any grid could be decomposed into the zonal average, $\\bar{\\theta_i}$, and the deviations from the zonal average $\\theta^\\prime_{i,j}$, where $i,j$ represent the latitudinal and longitudinal coordinates, correspondinly.\n",
    "$$\n",
    "\\theta_{i,j}=\\bar{\\theta_{i}}+\\theta^{\\prime}_{i,j}\n",
    "$$\n",
    "\n",
    "Why this matters?\n",
    "\n",
    "The *eddy* components, or the zonal asymmetrical components, often capture localized variations beyond the zonal mean state. This decomposition is useful when analyzing atmospheric circulation patterns.\n",
    "\n",
    ":::{warning}\n",
    "This method provides a **rough** check of zonal anomalies by assigning fine-grid values to coarse zonal bins using simple binning logic. It’s useful for quick diagnostics, but it does not yield the accurate zonal anomaly which requires remapping operations. See other notebooks for more references.\n",
    ":::"
   ]
  },
  {
   "cell_type": "code",
   "execution_count": null,
   "id": "b606a6b6-44d2-45bd-89f4-410e7d57e4e7",
   "metadata": {},
   "outputs": [],
   "source": [
    "# Get latitudes for each face\n",
    "\n",
    "face_lats = uxvar_slice.uxgrid.face_lat.values  # shape: (n_face,)\n",
    "\n",
    "#display(zonal_mean_uxvar)\n",
    "\n",
    "lat_bins = zonal_mean_uxvar['latitudes'] \n",
    "lat_bin_indices = np.digitize(face_lats, lat_bins) - 1 \n",
    "\n",
    "# Clip to valid range\n",
    "lat_bin_indices = np.clip(lat_bin_indices, 0, len(lat_bins) - 1)\n",
    "\n",
    "# Map zonal mean to each face\n",
    "zonal_mean_per_face = zonal_mean_uxvar.values[lat_bin_indices]\n",
    "\n",
    "# Subtract to get anomaly\n",
    "uxvar_anomaly = uxvar_slice - zonal_mean_per_face\n",
    "(\n",
    "    hv.operation.contours(\n",
    "        uxvar_anomaly.plot(),\n",
    "        filled=True,\n",
    "        ).opts(        \n",
    "        xlim=(int(min_lon-5),int(max_lon)+5),ylim=(int(min_lat-5),int(max_lat)+5),\n",
    "        cmap=\"coolwarm\",line_color=None, \n",
    "        height=250, width=500,        \n",
    "        colorbar=True,colorbar_position='left'\n",
    "            )* coast_lines * state_lines\n",
    "    \n",
    "    + zonal_mean_uxvar.plot.line(\n",
    "        x=\"theta_zonal_mean\",\n",
    "        y=\"latitudes\",\n",
    "\n",
    "        height=250,\n",
    "        width=150,\n",
    "        ylabel=\"\",\n",
    "        ylim=(int(min_lat-5),int(max_lat)+5),\n",
    "        grid=True,\n",
    "    )\n",
    ").opts(\n",
    "    title=\"Combined Zonal Anomaly & Zonal Average Plot\",\n",
    "      )\n"
   ]
  },
  {
   "cell_type": "code",
   "execution_count": null,
   "id": "0afc007f-6103-44cf-a6a0-c3f62d712b89",
   "metadata": {},
   "outputs": [],
   "source": []
  }
 ],
 "metadata": {
  "kernelspec": {
   "display_name": "Python 3 (ipykernel)",
   "language": "python",
   "name": "python3"
  },
  "language_info": {
   "codemirror_mode": {
    "name": "ipython",
    "version": 3
   },
   "file_extension": ".py",
   "mimetype": "text/x-python",
   "name": "python",
   "nbconvert_exporter": "python",
   "pygments_lexer": "ipython3",
   "version": "3.11.11"
  },
  "widgets": {
   "application/vnd.jupyter.widget-state+json": {
    "state": {},
    "version_major": 2,
    "version_minor": 0
   }
  }
 },
 "nbformat": 4,
 "nbformat_minor": 5
}
