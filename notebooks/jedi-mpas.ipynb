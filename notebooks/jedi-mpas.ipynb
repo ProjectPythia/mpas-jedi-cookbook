{
 "cells": [
  {
   "cell_type": "markdown",
   "id": "d42403d2-1f38-40d8-8a16-bce3c99b59f8",
   "metadata": {},
   "source": [
    "# Visualization of JEDI analysis with UXarray in the model space"
   ]
  },
  {
   "cell_type": "markdown",
   "id": "c4291d90-50a8-48b4-a763-7ece16499cdb",
   "metadata": {},
   "source": [
    "<img src=\"images/jedi-mpas.png\"\n",
    "     width=\"30%\"\n",
    "     alt=\"jedi-mpas\"\n",
    "     align=\"right\"\n",
    "/>\n",
    "\n",
    "### In this section, you'll learn:\n",
    "\n",
    "* Analyze the and visualize the performance of the data assimilation method used.\n",
    "\n",
    "### Related Documentation\n",
    "\n",
    "* [URL title](URL)\n",
    "* \n",
    "\n",
    "### Prerequisites\n",
    "\n",
    "| Concepts | Importance | Notes |\n",
    "| --- | --- | --- |\n",
    "| [URL title](URL) | Necessary OR Helpful?  | |\n",
    "\n",
    "**Time to learn**: 30 minutes?\n",
    "\n",
    "-----"
   ]
  },
  {
   "cell_type": "markdown",
   "id": "45ab765a-e1ea-4fe3-ab57-5c51179d6e7b",
   "metadata": {},
   "source": [
    "## Import packages"
   ]
  },
  {
   "cell_type": "code",
   "execution_count": null,
   "id": "e5786447-ca78-45ed-be6e-fc43fcce58b3",
   "metadata": {},
   "outputs": [],
   "source": [
    "%%time \n",
    "\n",
    "# autoload external python modules if they changed\n",
    "%load_ext autoreload\n",
    "%autoreload 2\n",
    "\n",
    "# add ../funcs to the current path\n",
    "import sys, os\n",
    "sys.path.append(os.path.join(os.getcwd(), \"..\")) \n",
    "\n",
    "# import modules\n",
    "import warnings\n",
    "import math\n",
    "\n",
    "import cartopy.crs as ccrs\n",
    "import geoviews as gv\n",
    "import geoviews.feature as gf\n",
    "import holoviews as hv\n",
    "import hvplot.xarray\n",
    "from holoviews import opts\n",
    "import matplotlib as mpl\n",
    "import matplotlib.pyplot as plt\n",
    "from matplotlib.colors import ListedColormap\n",
    "\n",
    "import s3fs\n",
    "\n",
    "import geopandas as gp\n",
    "import numpy as np\n",
    "import uxarray as ux\n",
    "import xarray as xr"
   ]
  },
  {
   "cell_type": "markdown",
   "id": "5e00234e-3984-47b5-9968-5485f9a94e38",
   "metadata": {},
   "source": [
    "## Configure visualization tools"
   ]
  },
  {
   "cell_type": "code",
   "execution_count": null,
   "id": "b654be71-a194-4c61-8e47-ae78bcef07cb",
   "metadata": {},
   "outputs": [],
   "source": [
    "# hv.extension(\"bokeh\")\n",
    "# hv.extension(\"matplotlib\")\n",
    "\n",
    "\n",
    "# common border lines\n",
    "coast_lines = gf.coastline(projection=ccrs.PlateCarree(), line_width=1, scale=\"50m\")\n",
    "state_lines = gf.states(projection=ccrs.PlateCarree(), line_width=1, line_color='gray', scale=\"50m\")\n"
   ]
  },
  {
   "cell_type": "markdown",
   "id": "22d951cb-6723-41dc-b3f3-6184ad8ef822",
   "metadata": {},
   "source": [
    "## Load MPAS data\n",
    "Depending on the network, the data loading process may take a few minutes.    \n",
    "\n",
    "There are two ways to load MPAS data:\n",
    "- 1. Download all example data from JetStream2 to local and them load them locally. This approach allows you to download the data once and reuse it in notebooks.\n",
    "- 2. Access the JetStream2 S3 objects on demand. In this case, each notebook (incluidng restarting a notebook) will download the required data as needed, which may lead to repeated downloads."
   ]
  },
  {
   "cell_type": "code",
   "execution_count": null,
   "id": "061b8f46-c02e-4d77-98cb-a59c13805078",
   "metadata": {},
   "outputs": [],
   "source": [
    "data_load_method = 1  # or 2"
   ]
  },
  {
   "cell_type": "markdown",
   "id": "4d04c9bb-08e5-481e-80ec-f085ab1e0003",
   "metadata": {},
   "source": [
    "### Download all example data to your local disk"
   ]
  },
  {
   "cell_type": "code",
   "execution_count": null,
   "id": "7ba69199-549e-49cf-975f-442f39062bb5",
   "metadata": {},
   "outputs": [],
   "source": [
    "%%time\n",
    "# This cell only needs to run once in a machine and can be converted to a MarkDown cell before publishing the cookbook\n",
    "\n",
    "if data_load_method == 1:\n",
    "    jetstream_url = 'https://js2.jetstream-cloud.org:8001/'\n",
    "    fs = s3fs.S3FileSystem(anon=True, asynchronous=False,client_kwargs=dict(endpoint_url=jetstream_url))\n",
    "    conus12_path = 's3://pythia/mpas/conus12km'\n",
    "    local_dir=\"/tmp\"\n",
    "    fs.get(conus12_path, local_dir, recursive=True)"
   ]
  },
  {
   "cell_type": "code",
   "execution_count": null,
   "id": "c3eb550f-9e06-444e-9351-aeef9d16df98",
   "metadata": {},
   "outputs": [],
   "source": [
    "# path to the MPAS data\n",
    "if data_load_method == 1:\n",
    "    grid_file = local_dir + \"/conus12km/conus12km.invariant.nc_L60_GFS\"\n",
    "    ana_file = local_dir + \"/conus12km/bkg/mpasout.2024-05-06_01.00.00.nc\"\n",
    "    bkg_file = local_dir + \"/conus12km/ana/mpasout.2024-05-06_01.00.00.nc\""
   ]
  },
  {
   "cell_type": "markdown",
   "id": "e3a3342e-72de-48bc-afa7-cdb0e90cdaa7",
   "metadata": {},
   "source": [
    "### Access JetStream2 and S3 objects on demand  "
   ]
  },
  {
   "cell_type": "code",
   "execution_count": null,
   "id": "8475cc6c-fb4c-453a-b7c0-4d483b6c838e",
   "metadata": {},
   "outputs": [],
   "source": [
    "%%time\n",
    "## **!! skip this section if data has been downloaded to local in the above !!**\n",
    "if data_load_method == 2:\n",
    "    jetstream_url = 'https://js2.jetstream-cloud.org:8001/'\n",
    "    fs = s3fs.S3FileSystem(anon=True, asynchronous=False,client_kwargs=dict(endpoint_url=jetstream_url))\n",
    "    conus12_path = 's3://pythia/mpas/conus12km'\n",
    "    \n",
    "    grid_url=f\"{conus12_path}/conus12km.invariant.nc_L60_GFS\"\n",
    "    bkg_url=f\"{conus12_path}/bkg/mpasout.2024-05-06_01.00.00.nc\"\n",
    "    ana_url=f\"{conus12_path}/ana/mpasout.2024-05-06_01.00.00.nc\"\n",
    "    \n",
    "    grid_file = fs.open(grid_url)\n",
    "    ana_file = fs.open(ana_url)\n",
    "    bkg_file = fs.open(bkg_url)\n",
    "else:\n",
    "    print(\"No action here, as example data has been downloaded to local in the above\")"
   ]
  },
  {
   "cell_type": "markdown",
   "id": "c6343763-279d-4c11-bf45-eb6d9eded131",
   "metadata": {},
   "source": [
    "### Open UXarray datasets"
   ]
  },
  {
   "cell_type": "code",
   "execution_count": null,
   "id": "f629cbc1-9f14-41f6-b41e-179a0724fc70",
   "metadata": {},
   "outputs": [],
   "source": [
    "%%time \n",
    "uxds_a = ux.open_dataset(grid_file, ana_file)\n",
    "uxds_b = ux.open_dataset(grid_file, bkg_file)"
   ]
  },
  {
   "cell_type": "code",
   "execution_count": null,
   "id": "0b2b3767-d635-412d-96d0-3ec0950e136c",
   "metadata": {},
   "outputs": [],
   "source": [
    "uxds_a"
   ]
  },
  {
   "cell_type": "code",
   "execution_count": null,
   "id": "cf654237-7bda-4c08-9dda-413e9a159a06",
   "metadata": {},
   "outputs": [],
   "source": []
  },
  {
   "cell_type": "code",
   "execution_count": null,
   "id": "20f70a26-bf17-466a-b9a8-8d3e335cb782",
   "metadata": {},
   "outputs": [],
   "source": [
    "i_lev = 0   # `nVertLevels` index\n",
    "i_time = 0  # `Time` index"
   ]
  },
  {
   "cell_type": "markdown",
   "id": "d2fef896-7789-49d1-acb6-da2158bd3499",
   "metadata": {},
   "source": [
    "## plot temperature analysis increments at different levels"
   ]
  },
  {
   "cell_type": "code",
   "execution_count": null,
   "id": "96226942-5fef-4f5e-a881-eb50984e2852",
   "metadata": {},
   "outputs": [],
   "source": [
    "%%time \n",
    "# Select variable of interest\n",
    "var_name = \"theta\"\n",
    "uxdiff0 = uxds_a[var_name] - uxds_b[var_name]\n",
    "uxvar = uxdiff0"
   ]
  },
  {
   "cell_type": "code",
   "execution_count": null,
   "id": "a655ffb2-2d93-4421-801a-1bfc3b3ad839",
   "metadata": {},
   "outputs": [],
   "source": []
  },
  {
   "cell_type": "code",
   "execution_count": null,
   "id": "9c362d1f-498d-40a7-baa8-064838830e22",
   "metadata": {},
   "outputs": [],
   "source": [
    "# contour horizontal cross sections\n",
    "def hslice_contour(ux_hslice, title, cmin=None, cmax=None, width=800, height=500, clevs=20, cmap=\"coolwarm\", \n",
    "                   symmetric_cmap=False, colorbar=True):\n",
    "    # Get min and max\n",
    "    amin = ux_hslice.min().item()\n",
    "    amax = ux_hslice.max().item()\n",
    "    title += f\" min={amin:.1f} max={amax:.1f}\"\n",
    "    if cmin is None:\n",
    "        cmin = math.floor(amin)\n",
    "    if cmax is None:\n",
    "        cmax = math.ceil(amax)\n",
    "    if symmetric_cmap:  # to get a symmetric color map when cmin < 0, cmax >0\n",
    "        cmax = max(abs(cmin), cmax)\n",
    "        cmin = -cmax\n",
    "\n",
    "    if isinstance(cmap, str):\n",
    "        cmap = plt.get_cmap(cmap)\n",
    "\n",
    "    # generate contour plot\n",
    "    contour_plot = hv.operation.contours(\n",
    "        ux_hslice.plot(),\n",
    "        levels=np.linspace(cmin, cmax, num=clevs),  # levels=np.arange(cmin, cmax, 0.5)\n",
    "        filled=True\n",
    "    ).opts(\n",
    "        line_color=None,  # line_width=0.001\n",
    "        width=width, height=height,\n",
    "        cmap=cmap,\n",
    "        clim=(cmin, cmax),\n",
    "        colorbar=colorbar,  # cmap=\"inferno\"\n",
    "        show_legend=False, tools=['hover'], title=title,\n",
    "    )\n",
    "\n",
    "    return contour_plot"
   ]
  },
  {
   "cell_type": "code",
   "execution_count": null,
   "id": "95c73063-7159-4d8a-891e-644af9b9bee7",
   "metadata": {},
   "outputs": [],
   "source": [
    "from matplotlib.colors import ListedColormap, BoundaryNorm, to_rgba\n",
    "edges = [-4, -3.5, -3, -2.5, -2, -1.5, -1, -0.5, 0, 0.5, 1.0, 1.5, 2, 2.5, 3, 3.5, 4]\n",
    "colors = [\n",
    "    \"#313695\",  # [-4,-3.5]\n",
    "    \"#3f72b4\",  # [-3.5,-3]\n",
    "    \"#5a9bd5\",  # [-3,-2.5]\n",
    "    \"#81bfe0\",  # [-2.5,-2]\n",
    "    \"#a6d8e7\",  # [-2,-1.5]\n",
    "    \"#cae6ef\",  # [-1.5,-1]\n",
    "    \"#e4f1f5\",  # [-1,-0.5]\n",
    "    \"#f2f9fc\",  # [-0.5,-0.1]  ← slightly pale blue\n",
    "    \"#fcf2f2\",  # [0.1,0.5]     ← slightly pale pink\n",
    "    \"#f9d6d4\",  # [0.5,1.0]\n",
    "    \"#f5b5b1\",  # [1.0,1.5]\n",
    "    \"#ee8a85\",  # [1.5,2.0]\n",
    "    \"#e75e5a\",  # [2.0,2.5]\n",
    "    \"#d73027\",  # [2.5,3.0]\n",
    "    \"#a50026\",  # [3.0,3.5]\n",
    "    \"#67001f\",   # [3.5,4.0]\n",
    "]\n",
    "cmap = ListedColormap(colors)\n"
   ]
  },
  {
   "cell_type": "code",
   "execution_count": null,
   "id": "340f7961-2c04-42e7-8854-d208ea639e42",
   "metadata": {},
   "outputs": [],
   "source": [
    "%%time\n",
    "\n",
    "nt=0  # time dimension\n",
    "plot_levels = [0, 19, 29, 39, 42, 49, 58]  # [0, 29, 42]  # [0, 19, 29, 39, 49, 58]\n",
    "\n",
    "zero_shift = 0.0\n",
    "\n",
    "plots = []\n",
    "for lev in plot_levels:\n",
    "    dat = uxvar.isel(Time=nt, nVertLevels=lev)\n",
    "    tmp = hslice_contour(\n",
    "        dat.where((dat > 0.1) | (dat < -0.1)),\n",
    "        title=f'lev={lev}',\n",
    "        cmap=cmap,\n",
    "        colorbar=True,\n",
    "        cmax=4,\n",
    "        cmin=-4\n",
    "    ) \n",
    "    \n",
    "    plots.append(tmp * coast_lines * state_lines)\n",
    "from IPython.display import display, Markdown\n",
    "\n",
    "display(Markdown(\n",
    "    r\"**Small increments** $\\left[ -0.1 \\ \\text{to} \\ 0.1 \\right]$ **neglected**  <br>\"\n",
    "    r\"Indicated in white spaces\"\n",
    "))\n",
    "for p in plots:\n",
    "   display(p)"
   ]
  },
  {
   "cell_type": "code",
   "execution_count": null,
   "id": "141a2ad4-0f0e-42a4-b16c-86c421a636ec",
   "metadata": {},
   "outputs": [],
   "source": []
  },
  {
   "cell_type": "markdown",
   "id": "f6733ae8-62da-4ecc-9f79-4d0834e9414c",
   "metadata": {},
   "source": [
    "## Zoomed into Colorado using the subset capability"
   ]
  },
  {
   "cell_type": "code",
   "execution_count": null,
   "id": "6f8eed75-c9d2-4162-b6bd-2502c79f61be",
   "metadata": {},
   "outputs": [],
   "source": [
    "uxvar = uxds_a['theta'] - 273.15   ## Kelvin to Celsius"
   ]
  },
  {
   "cell_type": "code",
   "execution_count": null,
   "id": "14f201f3-900a-4517-abf2-ad55efd967e1",
   "metadata": {},
   "outputs": [],
   "source": [
    "%%time\n",
    "\n",
    "lon_center = -105.03\n",
    "lat_center = 39.0\n",
    "lon_incr = 5 # degree\n",
    "lat_incr = 3 # degree\n",
    "lon_bounds = (lon_center - lon_incr, lon_center + lon_incr)\n",
    "lat_bounds = (lat_center - lat_incr, lat_center + lat_incr)\n",
    "\n",
    "### subset to a small domain\n",
    "uxdiff1 = uxdiff0.subset.bounding_box(lon_bounds, lat_bounds,)\n",
    "uxvar = uxdiff1\n",
    "\n",
    "\n",
    "nt=0  # time dimension\n",
    "plot_levels = [0, 29, 42]  # [0, 19, 29, 39, 49, 58]\n",
    "\n",
    "plots = []\n",
    "for lev in plot_levels:\n",
    "    tmp = hslice_contour(uxvar.isel(Time=nt, nVertLevels=lev), title=f'lev={lev}', width=700, height=500)  # for the subdomain\n",
    "    \n",
    "    # overlay state_lines\n",
    "    plots.append(tmp * coast_lines * state_lines)  \n",
    "    \n",
    "    # overlay county lines, this takes longer time to render\n",
    "    # plots.append(tmp * coast_lines.opts(xlim=(lon_bounds[0], lon_bounds[1]), ylim=(lat_bounds[0], lat_bounds[1])))\n",
    "\n",
    "# plots share one toolbar, which facilitates doing sync'ed zoom-in/out\n",
    "# hv.Layout(plots).cols(1)\n",
    "\n",
    "# each plot has its own toolbar, which facilitates controlling each plot individually\n",
    "for p in plots:\n",
    "   display(p)"
   ]
  },
  {
   "cell_type": "code",
   "execution_count": null,
   "id": "e38de3ad-41fe-4922-aa2f-df4ee44473b4",
   "metadata": {},
   "outputs": [],
   "source": [
    "# Random Great Circle Arc (GCA)"
   ]
  },
  {
   "cell_type": "code",
   "execution_count": null,
   "id": "3735efc8-eb02-4d1e-b1d3-8fa0129cfec7",
   "metadata": {},
   "outputs": [],
   "source": [
    "%%time\n",
    "\n",
    "start_point = (-110, 20)\n",
    "end_point = (-70, 50)\n",
    "var_name = \"theta\"\n",
    "uxdiff0 = uxds_a[var_name].isel(Time=0) - uxds_b[var_name].isel(Time=0)\n",
    "uxvar = uxdiff0\n",
    "cross_section_gca = uxvar.cross_section(start=start_point, end=end_point, steps=100)"
   ]
  },
  {
   "cell_type": "code",
   "execution_count": null,
   "id": "56ecb253-043d-40fa-8ece-0a0a1d27d9e9",
   "metadata": {},
   "outputs": [],
   "source": [
    "hlabelticks = [\n",
    "    f\"{abs(lat):.1f}°{'N' if lat >= 0 else 'S'}\\n{abs(lon):.1f}°{'E' if lon >= 0 else 'W'}\"\n",
    "    for lat, lon in zip(cross_section_gca['lat'], cross_section_gca['lon'])\n",
    "]"
   ]
  },
  {
   "cell_type": "code",
   "execution_count": null,
   "id": "3b9f3262-5e4e-423b-8ff6-dca8abbaa1e6",
   "metadata": {},
   "outputs": [],
   "source": [
    "# cross_section_gca.isel(Time=0).transpose().plot.contourf()\n",
    "%matplotlib inline\n",
    "\n",
    "\n",
    "fig= plt.figure(figsize=(8,3))\n",
    "gs= fig.add_gridspec(1,1)\n",
    "ax = fig.add_subplot(gs[0,0])\n",
    "cf=ax.contourf(cross_section_gca.transpose(),cmap='Reds',extend='both')\n",
    "tick_stride = 10\n",
    "ax.set_xticks(cross_section_gca['steps'][::tick_stride])\n",
    "ax.set_xticklabels(hlabelticks[::tick_stride])\n",
    "plt.savefig('cross_section_increments.png')"
   ]
  },
  {
   "cell_type": "code",
   "execution_count": null,
   "id": "da58627b-aefb-4c29-b956-6185add72737",
   "metadata": {},
   "outputs": [],
   "source": [
    "lon=-83.3\n",
    "cross_section_lon = uxvar.cross_section(lon=lon, steps=100)\n",
    "\n",
    "hlabelticks = [\n",
    "    f\"{abs(lat):.1f}°{'N' if lat >= 0 else 'S'}\" for lat in cross_section_lon['lat']\n",
    "]\n",
    "\n",
    "%matplotlib inline\n",
    "fig= plt.figure(figsize=(8,3))\n",
    "gs= fig.add_gridspec(1,1)\n",
    "ax = fig.add_subplot(gs[0,0])\n",
    "cf=ax.contourf(cross_section_lon.transpose(),cmap='Reds',extend='both')\n",
    "\n",
    "ax.set_xticks(cross_section_lon['steps'][::tick_stride])\n",
    "ax.set_xticklabels(hlabelticks[::tick_stride])\n",
    "plt.savefig(\"cross_section_increments2.png\")"
   ]
  },
  {
   "cell_type": "code",
   "execution_count": null,
   "id": "5986a5b4-d80d-4839-ad34-994eb2127ef6",
   "metadata": {},
   "outputs": [],
   "source": [
    "cross_section_lon = uxvar.cross_section(lon=-60., steps=100)\n",
    "cross_section_lon"
   ]
  },
  {
   "cell_type": "markdown",
   "id": "584076c9-5b5b-4cf8-a44c-7c91936e80b9",
   "metadata": {},
   "source": [
    "## Save plots to files"
   ]
  },
  {
   "cell_type": "code",
   "execution_count": null,
   "id": "1c60b17c-e42a-4682-844b-128db51e0c70",
   "metadata": {},
   "outputs": [],
   "source": [
    "hv.save(tmp, 'vslice.png')"
   ]
  }
 ],
 "metadata": {
  "kernelspec": {
   "display_name": "Python 3 (ipykernel)",
   "language": "python",
   "name": "python3"
  },
  "language_info": {
   "codemirror_mode": {
    "name": "ipython",
    "version": 3
   },
   "file_extension": ".py",
   "mimetype": "text/x-python",
   "name": "python",
   "nbconvert_exporter": "python",
   "pygments_lexer": "ipython3",
   "version": "3.12.2"
  }
 },
 "nbformat": 4,
 "nbformat_minor": 5
}
