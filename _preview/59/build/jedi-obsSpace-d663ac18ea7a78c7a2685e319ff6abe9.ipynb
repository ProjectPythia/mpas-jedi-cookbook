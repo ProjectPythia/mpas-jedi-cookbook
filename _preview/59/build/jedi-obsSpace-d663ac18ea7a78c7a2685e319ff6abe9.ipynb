{
 "cells": [
  {
   "cell_type": "markdown",
   "id": "0",
   "metadata": {},
   "source": [
    "# Visualization of JEDI analysis in the observation space"
   ]
  },
  {
   "cell_type": "markdown",
   "id": "1",
   "metadata": {},
   "source": [
    "```{image} images/jedi-obsSpace.png\n",
    ":alt: JEDI\n",
    ":width: 400px\n",
    ":align: center\n",
    "```\n",
    "\n",
    "### In this section, you'll learn:\n",
    "\n",
    "* Generate data assimilation statistics and visualize them in the observation space\n",
    "\n",
    "<!--\n",
    "### Related Documentation\n",
    "\n",
    "* [URL title](URL)\n",
    "* \n",
    "-->\n",
    "\n",
    "### Prerequisites\n",
    "\n",
    "| Concepts | Importance | Notes |\n",
    "| --- | --- | --- |\n",
    "| Atmospheric Data Assimilation | Helpful | |\n",
    "\n",
    "**Time to learn**: 10 minutes\n",
    "\n",
    "-----"
   ]
  },
  {
   "cell_type": "markdown",
   "id": "2",
   "metadata": {},
   "source": [
    "## Import packages"
   ]
  },
  {
   "cell_type": "code",
   "execution_count": null,
   "id": "3",
   "metadata": {},
   "outputs": [],
   "source": [
    "%%time \n",
    "\n",
    "# autoload external python modules if they changed\n",
    "%load_ext autoreload\n",
    "%autoreload 2\n",
    "\n",
    "# import modules\n",
    "import os\n",
    "\n",
    "import cartopy.crs as ccrs\n",
    "import geoviews.feature as gf\n",
    "import holoviews as hv\n",
    "import matplotlib.pyplot as plt\n",
    "import matplotlib.ticker as mticker\n",
    "from matplotlib.ticker import AutoMinorLocator\n",
    "\n",
    "\n",
    "import s3fs\n",
    "import seaborn as sns  # seaborn handles NaN values automatically\n",
    "\n",
    "import numpy as np"
   ]
  },
  {
   "cell_type": "markdown",
   "id": "4",
   "metadata": {},
   "source": [
    "## Configure visualization tools"
   ]
  },
  {
   "cell_type": "code",
   "execution_count": null,
   "id": "5",
   "metadata": {},
   "outputs": [],
   "source": [
    "hv.extension(\"bokeh\")\n",
    "# hv.extension(\"matplotlib\")\n",
    "\n",
    "# common border lines\n",
    "coast_lines = gf.coastline(projection=ccrs.PlateCarree(), line_width=1, scale=\"50m\")\n",
    "state_lines = gf.states(\n",
    "    projection=ccrs.PlateCarree(), line_width=1, line_color=\"gray\", scale=\"50m\"\n",
    ")"
   ]
  },
  {
   "cell_type": "markdown",
   "id": "6",
   "metadata": {},
   "source": [
    "## Retrieve JEDI data\n",
    "The example JEDI data are stored at [jetstream2](https://par.nsf.gov/biblio/10296117-jetstream2-accelerating-cloud-computing-via-jetstream). We need to retreive those data first.   "
   ]
  },
  {
   "cell_type": "code",
   "execution_count": null,
   "id": "7",
   "metadata": {},
   "outputs": [],
   "source": [
    "%%time\n",
    "local_dir = \"/tmp/conus12km\"\n",
    "os.makedirs(local_dir, exist_ok=True)\n",
    "\n",
    "if not os.path.exists(local_dir + \"/jdiag_cris-fsr_n20.nc\"):\n",
    "    jetstream_url = \"https://js2.jetstream-cloud.org:8001/\"\n",
    "    fs = s3fs.S3FileSystem(\n",
    "        anon=True, asynchronous=False, client_kwargs=dict(endpoint_url=jetstream_url)\n",
    "    )\n",
    "    conus12_path = \"s3://pythia/mpas/conus12km\"\n",
    "    fs.get(conus12_path + \"/jdiag_aircar_t133.nc\", local_dir + \"/jdiag_aircar_t133.nc\")\n",
    "    fs.get(conus12_path + \"/jdiag_aircar_q133.nc\", local_dir + \"/jdiag_aircar_q133.nc\")\n",
    "    fs.get(\n",
    "        conus12_path + \"/jdiag_aircar_uv233.nc\", local_dir + \"/jdiag_aircar_uv233.nc\"\n",
    "    )\n",
    "    fs.get(\n",
    "        conus12_path + \"/jdiag_cris-fsr_n20.nc\", local_dir + \"/jdiag_cris-fsr_n20.nc\"\n",
    "    )\n",
    "    print(\"Data downloading completed\")\n",
    "else:\n",
    "    print(\"Skip..., data is available in local\")"
   ]
  },
  {
   "cell_type": "code",
   "execution_count": null,
   "id": "8",
   "metadata": {},
   "outputs": [],
   "source": [
    "from obsSpace import obsSpace, fit_rate, query_data, to_dataframe"
   ]
  },
  {
   "cell_type": "code",
   "execution_count": null,
   "id": "9",
   "metadata": {},
   "outputs": [],
   "source": [
    "jdiag_file = local_dir + \"/jdiag_aircar_t133.nc\"\n",
    "aircar = obsSpace(jdiag_file)"
   ]
  },
  {
   "cell_type": "code",
   "execution_count": null,
   "id": "10",
   "metadata": {},
   "outputs": [],
   "source": [
    "query_data(aircar.t)\n",
    "df = to_dataframe(aircar.t)\n",
    "df"
   ]
  },
  {
   "cell_type": "code",
   "execution_count": null,
   "id": "11",
   "metadata": {},
   "outputs": [],
   "source": [
    "# plot histogram of OmA\n",
    "\n",
    "plt.figure(figsize=(8, 5))\n",
    "# sns.histplot(df[\"oman\"], bins=50, kde=True, color=\"steelblue\")\n",
    "sns.histplot(aircar.t.oman, bins=100, kde=True, color=\"steelblue\")\n",
    "plt.title(\"Histogram of oman\")\n",
    "plt.xlabel(\"oman values\")\n",
    "plt.ylabel(\"Density\")\n",
    "plt.tight_layout()\n",
    "plt.show()"
   ]
  },
  {
   "cell_type": "code",
   "execution_count": null,
   "id": "12",
   "metadata": {},
   "outputs": [],
   "source": [
    "# overlay OMB and OMA histogram together\n",
    "\n",
    "df_long = df[[\"oman\", \"ombg\"]].melt(var_name=\"variable\", value_name=\"value\")\n",
    "\n",
    "plt.figure(figsize=(8, 5))\n",
    "sns.histplot(\n",
    "    data=df_long,\n",
    "    x=\"value\",\n",
    "    hue=\"variable\",\n",
    "    bins=50,\n",
    "    kde=True,\n",
    "    element=\"step\",\n",
    "    stat=\"count\",\n",
    ")\n",
    "plt.title(\"Overlayed Histogram: oman vs ombg\")\n",
    "plt.tight_layout()\n",
    "plt.show()"
   ]
  },
  {
   "cell_type": "code",
   "execution_count": null,
   "id": "13",
   "metadata": {},
   "outputs": [],
   "source": [
    "# overlay OMB and OMA histogram together\n",
    "\n",
    "plt.figure(figsize=(8, 5))\n",
    "sns.histplot(\n",
    "    df[\"oman\"], bins=100, kde=True, color=\"blue\", label=\"oman\", multiple=\"layer\"\n",
    ")\n",
    "sns.histplot(\n",
    "    df[\"ombg\"], bins=100, kde=True, color=\"red\", label=\"ombg\", multiple=\"layer\"\n",
    ")\n",
    "\n",
    "plt.title(\"Overlayed Histogram: oman vs ombg\")\n",
    "plt.xlabel(\"Value\")\n",
    "plt.ylabel(\"Frequency\")\n",
    "plt.legend()\n",
    "plt.tight_layout()\n",
    "plt.show()"
   ]
  },
  {
   "cell_type": "markdown",
   "id": "14",
   "metadata": {},
   "source": [
    "## fit rate and plotting"
   ]
  },
  {
   "cell_type": "code",
   "execution_count": null,
   "id": "15",
   "metadata": {},
   "outputs": [],
   "source": [
    "# 1. Filter valid data (both 'oman' and 'ombg' are not NaN)\n",
    "valid_df = df[df[\"oman\"].notna() & df[\"ombg\"].notna()].copy()\n",
    "valid_df = valid_df.dropna(\n",
    "    subset=[\"height\"]\n",
    ")  # removes any rows in valid_df where height is missing (NaN)\n",
    "print(valid_df[valid_df[\"height\"] < 0][\"height\"])  # negative height"
   ]
  },
  {
   "cell_type": "code",
   "execution_count": null,
   "id": "16",
   "metadata": {},
   "outputs": [],
   "source": [
    "dz = 1000\n",
    "grouped = fit_rate(aircar.t, dz=dz)\n",
    "\n",
    "# 5. Plot vertical profile of fit_rate vs height\n",
    "plt.figure(figsize=(7, 6))\n",
    "plt.plot(grouped[\"fit_rate\"], grouped[\"height_bin\"], marker=\"o\", color=\"blue\")\n",
    "# plt.axvline(x=0, color=\"gray\", linestyle=\"--\")  # ax vertical line\n",
    "\n",
    "plt.xlabel(\"Fit Rate (%)\")  # label change\n",
    "plt.gca().xaxis.set_major_formatter(\n",
    "    plt.FuncFormatter(lambda x, _: f\"{x * 100:.0f}%\")\n",
    ")  # format as %\n",
    "plt.ylabel(\"Height Bin (m)\")\n",
    "plt.title(\"Vertical Profile of Fit Rate\")\n",
    "\n",
    "# Fine-tune ticks\n",
    "plt.xticks(np.arange(0, 0.25, 0.05))  # , fontsize=12)\n",
    "plt.yticks(np.arange(0, 13000, dz))  # , , fontsize=12)\n",
    "# Add minor ticks\n",
    "\n",
    "plt.gca().xaxis.set_minor_locator(AutoMinorLocator())\n",
    "plt.gca().yaxis.set_minor_locator(AutoMinorLocator())\n",
    "# plt.grid(which='both', linestyle='--', linewidth=0.5)\n",
    "plt.grid(True)\n",
    "\n",
    "plt.ylim(0, 13000)  # set y-axis from 0 (bottom) to 13,000 (top)\n",
    "plt.tight_layout()\n",
    "plt.show()"
   ]
  },
  {
   "cell_type": "code",
   "execution_count": null,
   "id": "17",
   "metadata": {},
   "outputs": [],
   "source": [
    "print(grouped[\"height_bin\"])"
   ]
  },
  {
   "cell_type": "markdown",
   "id": "18",
   "metadata": {},
   "source": [
    "## Plot satellite radiance observations"
   ]
  },
  {
   "cell_type": "code",
   "execution_count": null,
   "id": "19",
   "metadata": {},
   "outputs": [],
   "source": [
    "### using a general method\n",
    "# from netCDF4 import Dataset\n",
    "# dataset = Dataset(local_dir + \"/conus12km/jdiag_cris-fsr_n20.nc\", mode='r')\n",
    "# query_dataset(dataset, meta_exclude=\"sensorCentralWavenumber_\")\n",
    "# query_dataset(dataset)\n",
    "\n",
    "### using the obsSpace class\n",
    "obsCris = obsSpace(local_dir + \"/jdiag_cris-fsr_n20.nc\")\n",
    "query_data(obsCris.bt, meta_exclude=\"sensorCentralWavenumber_\")"
   ]
  },
  {
   "cell_type": "code",
   "execution_count": null,
   "id": "20",
   "metadata": {},
   "outputs": [],
   "source": [
    "print(obsCris.bt.hofx0)"
   ]
  },
  {
   "cell_type": "code",
   "execution_count": null,
   "id": "21",
   "metadata": {},
   "outputs": [],
   "source": [
    "ncount = 0\n",
    "idx = []\n",
    "idx2 = []\n",
    "ch = 61\n",
    "for n in np.arange(len(obsCris.bt.ombg[:, ch])):\n",
    "    # if obsCris.bt.CloudDetectMinResidualIR[n,ch] == 1:\n",
    "    if obsCris.bt.ombg[n, ch] > -200 and obsCris.bt.ombg[n, ch] < 200:\n",
    "        idx.append(n)\n",
    "        ncount = ncount + 1\n",
    "\n",
    "lat = obsCris.bt.latitude[idx]\n",
    "lon = obsCris.bt.longitude[idx]\n",
    "obarray = obsCris.bt.DerivedObsValue[idx, ch]\n",
    "print(lon, lat, obarray)\n",
    "print(ncount)"
   ]
  },
  {
   "cell_type": "code",
   "execution_count": null,
   "id": "22",
   "metadata": {},
   "outputs": [],
   "source": [
    "datmi = np.nanmin(obarray)  # Min of the data\n",
    "datma = np.nanmax(obarray)  # Max of the data\n",
    "\n",
    "\n",
    "if np.nanmin(obarray) < 0:\n",
    "    cmax = datma\n",
    "    cmin = datmi\n",
    "    cmax = 310\n",
    "    cmin = 200\n",
    "    # cmax=1.0\n",
    "    # cmin=-1.0\n",
    "    cmap = \"RdBu\"\n",
    "else:\n",
    "    # cmax = omean+stdev\n",
    "    # cmin = np.maximum(omean-stdev, 0.0)\n",
    "    cma = datma\n",
    "    cmin = datmi\n",
    "    cmax = 310\n",
    "    cmin = 200\n",
    "    # cmax=1.0\n",
    "    # cmin=-1.0\n",
    "    cmap = \"RdBu\"\n",
    "    cmap = \"viridis\"\n",
    "    cmap = \"jet\"\n",
    "\n",
    "\n",
    "cmin = 200.0\n",
    "cmax = 310.0\n",
    "conus_12km = [-150, -50, 15, 55]\n",
    "\n",
    "color_map = plt.cm.get_cmap(cmap)\n",
    "reversed_color_map = color_map.reversed()\n",
    "units = \"K\"\n",
    "# units = '%'\n",
    "\n",
    "fig = plt.figure(figsize=(10, 5))"
   ]
  },
  {
   "cell_type": "code",
   "execution_count": null,
   "id": "23",
   "metadata": {},
   "outputs": [],
   "source": [
    "# Initialize the plot pointing to the projection\n",
    "# ------------------------------------------------\n",
    "ax = plt.axes(projection=ccrs.PlateCarree(central_longitude=0))\n",
    "\n",
    "# Plot grid lines\n",
    "# ----------------\n",
    "gl = ax.gridlines(\n",
    "    crs=ccrs.PlateCarree(central_longitude=0),\n",
    "    draw_labels=True,\n",
    "    linewidth=1,\n",
    "    color=\"gray\",\n",
    "    alpha=0.5,\n",
    "    linestyle=\"-\",\n",
    ")\n",
    "gl.top_labels = False\n",
    "gl.xlabel_style = {\"size\": 10, \"color\": \"black\"}\n",
    "gl.ylabel_style = {\"size\": 10, \"color\": \"black\"}\n",
    "gl.xlocator = mticker.FixedLocator([-180, -135, -90, -45, 0, 45, 90, 135, 179.9])\n",
    "ax.set_ylabel(\"Latitude\", fontsize=7)\n",
    "ax.set_xlabel(\"Longitude\", fontsize=7)\n",
    "\n",
    "# Get scatter data\n",
    "# ------------------\n",
    "# print('obarray = ', obarray)\n",
    "print(\"min/max obarray = \", min(obarray), max(obarray))\n",
    "# sc = ax.scatter(lonData, latData,\n",
    "sc = ax.scatter(\n",
    "    lon,\n",
    "    lat,\n",
    "    c=obarray,\n",
    "    s=4,\n",
    "    linewidth=0,\n",
    "    transform=ccrs.PlateCarree(),\n",
    "    cmap=cmap,\n",
    "    vmin=cmin,\n",
    "    vmax=cmax,\n",
    "    norm=None,\n",
    "    antialiased=True,\n",
    ")\n",
    "\n",
    "\n",
    "# Plot colorbar\n",
    "# --------------\n",
    "cbar = plt.colorbar(\n",
    "    sc,\n",
    "    ax=ax,\n",
    "    orientation=\"horizontal\",\n",
    "    pad=0.1,\n",
    "    fraction=0.06,\n",
    "    ticks=[200, 210, 220, 230, 240, 250, 260, 270, 280, 290, 300, 310],\n",
    ")\n",
    "# cbar = plt.colorbar(sc, ax=ax, orientation=\"horizontal\", pad=.1, fraction=0.06,ticks=[-3, -2.5, -2, -1.5, -1, -0.5, 0, 0.5, 1.0, 1.5, 2.0, 2.5, 3 ])\n",
    "# cbar = plt.colorbar(sc, ax=ax, orientation=\"horizontal\", pad=.1, fraction=0.06,ticks=[0, 10, 20, 20, 40, 50, 60, 70, 80, 90, 100])\n",
    "cbar.ax.set_ylabel(units, fontsize=10)\n",
    "# Plot globally\n",
    "# --------------\n",
    "# ax.set_global()\n",
    "# ax.set_extent(conus)\n",
    "ax.set_extent(conus_12km)\n",
    "\n",
    "# Draw coastlines\n",
    "# ----------------\n",
    "ax.coastlines()\n",
    "ax.text(0.45, -0.1, \"Longitude\", transform=ax.transAxes, ha=\"left\")\n",
    "ax.text(\n",
    "    -0.08, 0.4, \"Latitude\", transform=ax.transAxes, rotation=\"vertical\", va=\"bottom\"\n",
    ")\n",
    "\n",
    "# text = f\"Total Count:{datcont:0.0f}, Max/Min/Mean/Std: {datma:0.3f}/{datmi:0.3f}/{omean:0.3f}/{stdev:0.3f} {units}\"\n",
    "# print(text)\n",
    "# ax.text(0.67, -0.1, text, transform=ax.transAxes, va='bottom', fontsize=6.2)\n",
    "\n",
    "dpi = 150\n",
    "gl.top_labels = False\n",
    "plt.tight_layout()\n",
    "\n",
    "# show plot\n",
    "# -----------\n",
    "# pname='test.png'\n",
    "# plt.savefig(pname, dpi=dpi)"
   ]
  }
 ],
 "metadata": {
  "kernelspec": {
   "display_name": "Python 3 (ipykernel)",
   "language": "python",
   "name": "python3"
  },
  "language_info": {
   "codemirror_mode": {
    "name": "ipython",
    "version": 3
   },
   "file_extension": ".py",
   "mimetype": "text/x-python",
   "name": "python",
   "nbconvert_exporter": "python",
   "pygments_lexer": "ipython3",
   "version": "3.11.11"
  }
 },
 "nbformat": 4,
 "nbformat_minor": 5
}
