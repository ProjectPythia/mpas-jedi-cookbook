{
 "cells": [
  {
   "cell_type": "markdown",
   "id": "d42403d2-1f38-40d8-8a16-bce3c99b59f8",
   "metadata": {},
   "source": [
    "# Visualization of JEDI analysis with UXarray in the model space"
   ]
  },
  {
   "cell_type": "markdown",
   "id": "c4291d90-50a8-48b4-a763-7ece16499cdb",
   "metadata": {},
   "source": [
    "<img src=\"images/jedi-obsSpace.png\"\n",
    "     width=\"30%\"\n",
    "     alt=\"jedi-obsSpace\"\n",
    "     align=\"right\"\n",
    "/>\n",
    "\n",
    "### In this section, you'll learn:\n",
    "\n",
    "* Utilizing ...\n",
    "\n",
    "### Related Documentation\n",
    "\n",
    "* [URL title](URL)\n",
    "* \n",
    "\n",
    "### Prerequisites\n",
    "\n",
    "| Concepts | Importance | Notes |\n",
    "| --- | --- | --- |\n",
    "| [URL title](URL) | Necessary OR Helpful?  | |\n",
    "\n",
    "**Time to learn**: 30 minutes?\n",
    "\n",
    "-----"
   ]
  },
  {
   "cell_type": "markdown",
   "id": "45ab765a-e1ea-4fe3-ab57-5c51179d6e7b",
   "metadata": {},
   "source": [
    "## Import packages"
   ]
  },
  {
   "cell_type": "code",
   "execution_count": null,
   "id": "e5786447-ca78-45ed-be6e-fc43fcce58b3",
   "metadata": {},
   "outputs": [],
   "source": [
    "%%time \n",
    "\n",
    "# autoload external python modules if they changed\n",
    "%load_ext autoreload\n",
    "%autoreload 2\n",
    "\n",
    "# add ../funcs to the current path\n",
    "import sys, os\n",
    "sys.path.append(os.path.join(os.getcwd(), \"..\")) \n",
    "\n",
    "# import modules\n",
    "import warnings\n",
    "import math\n",
    "\n",
    "import cartopy.crs as ccrs\n",
    "import geoviews as gv\n",
    "import geoviews.feature as gf\n",
    "import holoviews as hv\n",
    "import hvplot.xarray\n",
    "from holoviews import opts\n",
    "import matplotlib.pyplot as plt\n",
    "\n",
    "import s3fs\n",
    "\n",
    "import geopandas as gp\n",
    "import numpy as np\n",
    "import uxarray as ux\n",
    "import xarray as xr"
   ]
  },
  {
   "cell_type": "markdown",
   "id": "5e00234e-3984-47b5-9968-5485f9a94e38",
   "metadata": {},
   "source": [
    "## Configure visualization tools"
   ]
  },
  {
   "cell_type": "code",
   "execution_count": null,
   "id": "b654be71-a194-4c61-8e47-ae78bcef07cb",
   "metadata": {},
   "outputs": [],
   "source": [
    "# hv.extension(\"bokeh\")\n",
    "# hv.extension(\"matplotlib\")\n",
    "\n",
    "\n",
    "# common border lines\n",
    "coast_lines = gf.coastline(projection=ccrs.PlateCarree(), line_width=1, scale=\"50m\")\n",
    "state_lines = gf.states(projection=ccrs.PlateCarree(), line_width=1, line_color='gray', scale=\"50m\")"
   ]
  },
  {
   "cell_type": "markdown",
   "id": "a515b7c3-0965-4e90-828f-78eaee738c66",
   "metadata": {},
   "source": [
    "## Load MPAS data\n",
    "Depending on the network, the data loading process may take a few minutes.    \n",
    "\n",
    "There are two ways to load MPAS data:\n",
    "- 1. Download all example data from JetStream2 to local and them load them locally. This approach allows you to download the data once and reuse it in notebooks.\n",
    "- 2. Access the JetStream2 S3 objects on demand. In this case, each notebook (incluidng restarting a notebook) will download the required data as needed, which may lead to repeated downloads."
   ]
  },
  {
   "cell_type": "code",
   "execution_count": null,
   "id": "180c5b77-8e9e-4acd-97e9-df8acb2aea6d",
   "metadata": {},
   "outputs": [],
   "source": [
    "data_load_method = 1  # or 2"
   ]
  },
  {
   "cell_type": "markdown",
   "id": "611a3a09-6498-4c8a-925b-2431cddf2047",
   "metadata": {},
   "source": [
    "### Download all example data to your local disk"
   ]
  },
  {
   "cell_type": "code",
   "execution_count": null,
   "id": "2fbdb732-6d5f-450d-9d97-cfe52ffc37c8",
   "metadata": {},
   "outputs": [],
   "source": [
    "%%time\n",
    "# This cell only needs to run once in a machine and can be converted to a MarkDown cell before publishing the cookbook\n",
    "\n",
    "if data_load_method == 1:\n",
    "    jetstream_url = 'https://js2.jetstream-cloud.org:8001/'\n",
    "    fs = s3fs.S3FileSystem(anon=True, asynchronous=False,client_kwargs=dict(endpoint_url=jetstream_url))\n",
    "    conus12_path = 's3://pythia/mpas/conus12km'\n",
    "    local_dir=\"/tmp\"\n",
    "    fs.get(conus12_path, local_dir, recursive=True)"
   ]
  },
  {
   "cell_type": "code",
   "execution_count": null,
   "id": "80c81c8c-5c93-4b65-b981-6bff24804302",
   "metadata": {},
   "outputs": [],
   "source": [
    "# path to the MPAS data\n",
    "if data_load_method == 1:\n",
    "    grid_file = local_dir + \"/conus12km/conus12km.invariant.nc_L60_GFS\"\n",
    "    ana_file = local_dir + \"/conus12km/bkg/mpasout.2024-05-06_01.00.00.nc\"\n",
    "    bkg_file = local_dir + \"/conus12km/ana/mpasout.2024-05-06_01.00.00.nc\""
   ]
  },
  {
   "cell_type": "markdown",
   "id": "d0ee63cb-3b61-4507-96c5-e5af9209834d",
   "metadata": {},
   "source": [
    "### access JetStream2 and S3 objects on demand  "
   ]
  },
  {
   "cell_type": "code",
   "execution_count": null,
   "id": "18b6f077-9920-401b-b03b-2e72cccd4bd9",
   "metadata": {},
   "outputs": [],
   "source": [
    "%%time\n",
    "## **!! skip this section if data has been downloaded to local in the above !!**\n",
    "if data_load_method == 2:\n",
    "    jetstream_url = 'https://js2.jetstream-cloud.org:8001/'\n",
    "    fs = s3fs.S3FileSystem(anon=True, asynchronous=False,client_kwargs=dict(endpoint_url=jetstream_url))\n",
    "    conus12_path = 's3://pythia/mpas/conus12km'\n",
    "    \n",
    "    grid_url=f\"{conus12_path}/conus12km.invariant.nc_L60_GFS\"\n",
    "    bkg_url=f\"{conus12_path}/bkg/mpasout.2024-05-06_01.00.00.nc\"\n",
    "    ana_url=f\"{conus12_path}/ana/mpasout.2024-05-06_01.00.00.nc\"\n",
    "    \n",
    "    grid_file = fs.open(grid_url)\n",
    "    ana_file = fs.open(ana_url)\n",
    "    bkg_file = fs.open(bkg_url)\n",
    "else:\n",
    "    print(\"No action here, as example data has been downloaded to local in the above\")"
   ]
  },
  {
   "cell_type": "markdown",
   "id": "3f87373f-1d77-498e-a638-0ecb0e32412e",
   "metadata": {},
   "source": [
    "### Open UXarray datasets"
   ]
  },
  {
   "cell_type": "code",
   "execution_count": null,
   "id": "3d42f533-73cc-40cc-8fe3-db0eabc5d80f",
   "metadata": {},
   "outputs": [],
   "source": [
    "%%time \n",
    "uxds_a = ux.open_dataset(grid_file, ana_file)\n",
    "uxds_b = ux.open_dataset(grid_file, bkg_file)"
   ]
  },
  {
   "cell_type": "code",
   "execution_count": null,
   "id": "cf654237-7bda-4c08-9dda-413e9a159a06",
   "metadata": {},
   "outputs": [],
   "source": [
    "uxvar = uxds_a['theta'] - 273.15   ## Kelvin to Celsius"
   ]
  },
  {
   "cell_type": "code",
   "execution_count": null,
   "id": "20f70a26-bf17-466a-b9a8-8d3e335cb782",
   "metadata": {},
   "outputs": [],
   "source": [
    "i_lev = 0   # `nVertLevels` index\n",
    "i_time = 0  # `Time` index"
   ]
  },
  {
   "cell_type": "markdown",
   "id": "d2fef896-7789-49d1-acb6-da2158bd3499",
   "metadata": {},
   "source": [
    "## plot temperature analysis increments at different levels"
   ]
  },
  {
   "cell_type": "code",
   "execution_count": null,
   "id": "fae9c4cf-f2b1-475d-ae7c-be4e48ee6af1",
   "metadata": {},
   "outputs": [],
   "source": [
    "%%time\n",
    "\n",
    "nt=0  # time dimension\n",
    "plot_levels = [0, 29, 42]  # [0, 29, 42]  # [0, 19, 29, 39, 49, 58]\n",
    "\n",
    "# Create the colormap\n",
    "# colors = ['blue', 'white', 'red']    \n",
    "# cmap = LinearSegmentedColormap.from_list('blue_white_red', colors)\n",
    "# zero_shift = 0.02 \n",
    "\n",
    "cmap = plt.get_cmap('coolwarm')\n",
    "zero_shift = 0.0\n",
    "\n",
    "plots = []\n",
    "for lev in plot_levels:\n",
    "    #  use hslice_contour0() which uses 0 divide the cool and warm colors in the plot by default\n",
    "    #\n",
    "    # tmp = hslice_contour0(\n",
    "    #     uxvar.isel(Time=nt, nVertLevels=lev), \n",
    "    #     title=f'lev={lev}', \n",
    "    #     cmap=cmap, \n",
    "    #     zero_shift=zero_shift, \n",
    "    #     clevs_multiplier=1,\n",
    "    # )  # for the whole domain  \n",
    "\n",
    "    # hslice_contour() does not dvide the cool and warm colors at 0 by default\n",
    "    # But it can be achieved by setting symmetric_cmap=True which will set symmetric cmax/cmin automatically,\n",
    "    #       or mannualy setting symmetric cmax/cmin\n",
    "    #\n",
    "    tmp = hslice_contour(\n",
    "        uxvar.isel(Time=nt, nVertLevels=lev), \n",
    "        title=f'lev={lev}',\n",
    "        symmetric_cmap=True,\n",
    "        #clevs=20,\n",
    "    )  # for the whole domain\n",
    "    \n",
    "    plots.append(tmp * coast_lines * state_lines)\n",
    "\n",
    "# plots share one toolbar, which facilitates doing sync'ed zoom-in/out\n",
    "# hv.Layout(plots).cols(1)\n",
    "\n",
    "# each plot has its own toolbar, which facilitates controlling each plot individually\n",
    "for p in plots:\n",
    "   display(p)"
   ]
  },
  {
   "cell_type": "markdown",
   "id": "f6733ae8-62da-4ecc-9f79-4d0834e9414c",
   "metadata": {},
   "source": [
    "## Zoomed into Colorado using the subset capability"
   ]
  },
  {
   "cell_type": "code",
   "execution_count": null,
   "id": "14f201f3-900a-4517-abf2-ad55efd967e1",
   "metadata": {},
   "outputs": [],
   "source": [
    "%%time\n",
    "\n",
    "lon_center = -105.03\n",
    "lat_center = 39.0\n",
    "lon_incr = 5 # degree\n",
    "lat_incr = 3 # degree\n",
    "lon_bounds = (lon_center - lon_incr, lon_center + lon_incr)\n",
    "lat_bounds = (lat_center - lat_incr, lat_center + lat_incr)\n",
    "\n",
    "### subset to a small domain\n",
    "uxdiff1 = uxdiff0.subset.bounding_box(lon_bounds, lat_bounds,)\n",
    "uxvar = uxdiff1\n",
    "\n",
    "\n",
    "nt=0  # time dimension\n",
    "plot_levels = [42]  # [0, 29, 42]  # [0, 19, 29, 39, 49, 58]\n",
    "\n",
    "plots = []\n",
    "for lev in plot_levels:\n",
    "    tmp = hslice_contour(uxvar.isel(Time=nt, nVertLevels=lev), title=f'lev={lev}', width=700, height=500)  # for the subdomain\n",
    "    \n",
    "    # overlay state_lines\n",
    "    #plots.append(tmp * coast_lines * state_lines)  \n",
    "    \n",
    "    # overlay county lines, this takes longer time to render\n",
    "    plots.append(tmp * coast_lines.opts(xlim=(lon_bounds[0], lon_bounds[1]), ylim=(lat_bounds[0], lat_bounds[1])))\n",
    "\n",
    "# plots share one toolbar, which facilitates doing sync'ed zoom-in/out\n",
    "# hv.Layout(plots).cols(1)\n",
    "\n",
    "# each plot has its own toolbar, which facilitates controlling each plot individually\n",
    "for p in plots:\n",
    "   display(p)"
   ]
  },
  {
   "cell_type": "markdown",
   "id": "b42ef48b-be1b-4d4f-93cf-79a791e84cc9",
   "metadata": {},
   "source": [
    "## vertical cross section of temperature increments"
   ]
  },
  {
   "cell_type": "code",
   "execution_count": null,
   "id": "3622dd7d-5685-4988-9ef6-81ac9dcdc79c",
   "metadata": {},
   "outputs": [],
   "source": [
    "%%time\n",
    "\n",
    "# tmp = vslice_contour(uxvar, lon=-85.77, clevels=10)\n",
    "# display(tmp)\n",
    "tmp = vslice_contour(uxvar, lat=42.63, clevels=10)\n",
    "display(tmp)"
   ]
  },
  {
   "cell_type": "markdown",
   "id": "584076c9-5b5b-4cf8-a44c-7c91936e80b9",
   "metadata": {},
   "source": [
    "## save plots to files"
   ]
  },
  {
   "cell_type": "code",
   "execution_count": null,
   "id": "1c60b17c-e42a-4682-844b-128db51e0c70",
   "metadata": {},
   "outputs": [],
   "source": [
    "hv.save(tmp, 'vslice.png')"
   ]
  }
 ],
 "metadata": {
  "kernelspec": {
   "display_name": "Python 3 (ipykernel)",
   "language": "python",
   "name": "python3"
  },
  "language_info": {
   "codemirror_mode": {
    "name": "ipython",
    "version": 3
   },
   "file_extension": ".py",
   "mimetype": "text/x-python",
   "name": "python",
   "nbconvert_exporter": "python",
   "pygments_lexer": "ipython3",
   "version": "3.11.11"
  }
 },
 "nbformat": 4,
 "nbformat_minor": 5
}
