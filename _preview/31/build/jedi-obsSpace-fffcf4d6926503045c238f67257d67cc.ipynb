{
 "cells": [
  {
   "cell_type": "markdown",
   "id": "d42403d2-1f38-40d8-8a16-bce3c99b59f8",
   "metadata": {},
   "source": [
    "# Visualization of JEDI analysis with UXarray in the model space"
   ]
  },
  {
   "cell_type": "markdown",
   "id": "c4291d90-50a8-48b4-a763-7ece16499cdb",
   "metadata": {},
   "source": [
    "<img src=\"images/jedi-obsSpace.png\"\n",
    "     width=\"30%\"\n",
    "     alt=\"jedi-obsSpace\"\n",
    "     align=\"right\"\n",
    "/>\n",
    "\n",
    "### In this section, you'll learn:\n",
    "\n",
    "* Utilizing ...\n",
    "\n",
    "### Related Documentation\n",
    "\n",
    "* [URL title](URL)\n",
    "* \n",
    "\n",
    "### Prerequisites\n",
    "\n",
    "| Concepts | Importance | Notes |\n",
    "| --- | --- | --- |\n",
    "| [URL title](URL) | Necessary OR Helpful?  | |\n",
    "\n",
    "**Time to learn**: 30 minutes?\n",
    "\n",
    "-----"
   ]
  },
  {
   "cell_type": "markdown",
   "id": "45ab765a-e1ea-4fe3-ab57-5c51179d6e7b",
   "metadata": {},
   "source": [
    "## Import packages"
   ]
  },
  {
   "cell_type": "code",
   "execution_count": null,
   "id": "e5786447-ca78-45ed-be6e-fc43fcce58b3",
   "metadata": {},
   "outputs": [],
   "source": [
    "%%time \n",
    "\n",
    "# autoload external python modules if they changed\n",
    "%load_ext autoreload\n",
    "%autoreload 2\n",
    "\n",
    "# add ../funcs to the current path\n",
    "import sys, os\n",
    "sys.path.append(os.path.join(os.getcwd(), \"..\")) \n",
    "\n",
    "# import modules\n",
    "import warnings\n",
    "import math\n",
    "\n",
    "import cartopy.crs as ccrs\n",
    "import geoviews as gv\n",
    "import geoviews.feature as gf\n",
    "import holoviews as hv\n",
    "import hvplot.xarray\n",
    "from holoviews import opts\n",
    "import matplotlib.pyplot as plt\n",
    "\n",
    "import s3fs\n",
    "import seaborn as sns  # seaborn handles NaN values automatically\n",
    "\n",
    "import geopandas as gp\n",
    "import numpy as np\n",
    "import uxarray as ux\n",
    "import xarray as xr"
   ]
  },
  {
   "cell_type": "markdown",
   "id": "5e00234e-3984-47b5-9968-5485f9a94e38",
   "metadata": {},
   "source": [
    "## Configure visualization tools"
   ]
  },
  {
   "cell_type": "code",
   "execution_count": null,
   "id": "b654be71-a194-4c61-8e47-ae78bcef07cb",
   "metadata": {},
   "outputs": [],
   "source": [
    "# hv.extension(\"bokeh\")\n",
    "# hv.extension(\"matplotlib\")\n",
    "\n",
    "\n",
    "# common border lines\n",
    "coast_lines = gf.coastline(projection=ccrs.PlateCarree(), line_width=1, scale=\"50m\")\n",
    "state_lines = gf.states(projection=ccrs.PlateCarree(), line_width=1, line_color='gray', scale=\"50m\")"
   ]
  },
  {
   "cell_type": "markdown",
   "id": "a515b7c3-0965-4e90-828f-78eaee738c66",
   "metadata": {},
   "source": [
    "## Load MPAS data\n",
    "Depending on the network, the data loading process may take a few minutes.    \n",
    "\n",
    "There are two ways to load MPAS data:\n",
    "- 1. Download all example data from JetStream2 to local and them load them locally. This approach allows you to download the data once and reuse it in notebooks.\n",
    "- 2. Access the JetStream2 S3 objects on demand. In this case, each notebook (incluidng restarting a notebook) will download the required data as needed, which may lead to repeated downloads."
   ]
  },
  {
   "cell_type": "code",
   "execution_count": null,
   "id": "180c5b77-8e9e-4acd-97e9-df8acb2aea6d",
   "metadata": {},
   "outputs": [],
   "source": [
    "data_load_method = 1  # or 2"
   ]
  },
  {
   "cell_type": "markdown",
   "id": "611a3a09-6498-4c8a-925b-2431cddf2047",
   "metadata": {},
   "source": [
    "### Download all example data to your local disk"
   ]
  },
  {
   "cell_type": "code",
   "execution_count": null,
   "id": "2fbdb732-6d5f-450d-9d97-cfe52ffc37c8",
   "metadata": {},
   "outputs": [],
   "source": [
    "%%time\n",
    "# This cell only needs to run once in a machine and can be converted to a MarkDown cell before publishing the cookbook\n",
    "\n",
    "local_dir=\"/tmp\"\n",
    "if data_load_method == 1 and not os.path.exists(local_dir + \"/conus12km/bkg/mpasout.2024-05-06_01.00.00.nc\"):\n",
    "    jetstream_url = 'https://js2.jetstream-cloud.org:8001/'\n",
    "    fs = s3fs.S3FileSystem(anon=True, asynchronous=False,client_kwargs=dict(endpoint_url=jetstream_url))\n",
    "    conus12_path = 's3://pythia/mpas/conus12km'\n",
    "    fs.get(conus12_path, local_dir, recursive=True)\n",
    "    print(\"Data downloading completed\")\n",
    "else:\n",
    "    print(\"Skip..., either data is available in local or data_load_method is NOT 1\")"
   ]
  },
  {
   "cell_type": "code",
   "execution_count": null,
   "id": "80c81c8c-5c93-4b65-b981-6bff24804302",
   "metadata": {},
   "outputs": [],
   "source": [
    "# path to the MPAS data\n",
    "if data_load_method == 1:\n",
    "    grid_file = local_dir + \"/conus12km/conus12km.invariant.nc_L60_GFS\"\n",
    "    ana_file = local_dir + \"/conus12km/bkg/mpasout.2024-05-06_01.00.00.nc\"\n",
    "    bkg_file = local_dir + \"/conus12km/ana/mpasout.2024-05-06_01.00.00.nc\"\n",
    "    jdiag_file = local_dir + \"/conus12km/jdiag_aircar_t133.nc\"  #q133.nc or uv233.nc"
   ]
  },
  {
   "cell_type": "markdown",
   "id": "d0ee63cb-3b61-4507-96c5-e5af9209834d",
   "metadata": {},
   "source": [
    "### access JetStream2 and S3 objects on demand  "
   ]
  },
  {
   "cell_type": "code",
   "execution_count": null,
   "id": "18b6f077-9920-401b-b03b-2e72cccd4bd9",
   "metadata": {},
   "outputs": [],
   "source": [
    "%%time\n",
    "## **!! skip this section if data has been downloaded to local in the above !!**\n",
    "if data_load_method == 2:\n",
    "    jetstream_url = 'https://js2.jetstream-cloud.org:8001/'\n",
    "    fs = s3fs.S3FileSystem(anon=True, asynchronous=False,client_kwargs=dict(endpoint_url=jetstream_url))\n",
    "    conus12_path = 's3://pythia/mpas/conus12km'\n",
    "    \n",
    "    # grid_url=f\"{conus12_path}/conus12km.invariant.nc_L60_GFS\"\n",
    "    # bkg_url=f\"{conus12_path}/bkg/mpasout.2024-05-06_01.00.00.nc\"\n",
    "    # ana_url=f\"{conus12_path}/ana/mpasout.2024-05-06_01.00.00.nc\"\n",
    "    jdiag_url=f\"{conus12_path}/jdiag_aircar_t133.nc\"\n",
    "    \n",
    "    # grid_file = fs.open(grid_url)\n",
    "    # ana_file = fs.open(ana_url)\n",
    "    # bkg_file = fs.open(bkg_url)\n",
    "    jdiag_file = fs.open(jdiag_url)\n",
    "else:\n",
    "    print(\"Skip..., data_load_method is NOT 2\")"
   ]
  },
  {
   "cell_type": "code",
   "execution_count": null,
   "id": "b756825d-8dc9-4f21-8ebe-4545fc9f995e",
   "metadata": {},
   "outputs": [],
   "source": [
    "from obsSpace import obsSpace, fit_rate, query_data, to_dataframe"
   ]
  },
  {
   "cell_type": "code",
   "execution_count": null,
   "id": "e093cc64-5369-40d4-bae4-b9b4fdca07c1",
   "metadata": {},
   "outputs": [],
   "source": [
    "aircar = obsSpace(jdiag_file)"
   ]
  },
  {
   "cell_type": "code",
   "execution_count": null,
   "id": "c87c7a05-219d-469c-9530-8dfd1eba28bf",
   "metadata": {},
   "outputs": [],
   "source": [
    "query_data(aircar.t)\n",
    "\n",
    "df = to_dataframe(aircar.t)\n",
    "df"
   ]
  },
  {
   "cell_type": "code",
   "execution_count": null,
   "id": "505cf5a5-17bf-4b38-8400-2d36eb84fc0d",
   "metadata": {},
   "outputs": [],
   "source": [
    "# plot histogram of OmA\n",
    "\n",
    "plt.figure(figsize=(8, 5))\n",
    "#sns.histplot(df[\"oman\"], bins=50, kde=True, color=\"steelblue\")\n",
    "sns.histplot(aircar.t.oman, bins=100, kde=True, color=\"steelblue\")\n",
    "plt.title(\"Histogram of oman\")\n",
    "plt.xlabel(\"oman values\")\n",
    "plt.ylabel(\"Density\")\n",
    "plt.tight_layout()\n",
    "plt.show()"
   ]
  },
  {
   "cell_type": "code",
   "execution_count": null,
   "id": "d55995aa-6540-43f3-9a16-8cec0ad23571",
   "metadata": {},
   "outputs": [],
   "source": [
    "# overlay OMB and OMA histogram together\n",
    "\n",
    "df_long = df[[\"oman\", \"ombg\"]].melt(var_name=\"variable\", value_name=\"value\")\n",
    "\n",
    "plt.figure(figsize=(8, 5))\n",
    "sns.histplot(data=df_long, x=\"value\", hue=\"variable\", bins=50, kde=True, element=\"step\", stat=\"count\")\n",
    "plt.title(\"Overlayed Histogram: oman vs ombg\")\n",
    "plt.tight_layout()\n",
    "plt.show()"
   ]
  },
  {
   "cell_type": "code",
   "execution_count": null,
   "id": "c4e62522-dd47-463d-929f-e18d54fe333e",
   "metadata": {},
   "outputs": [],
   "source": [
    "# overlay OMB and OMA histogram together\n",
    "\n",
    "plt.figure(figsize=(8, 5))\n",
    "sns.histplot(df[\"oman\"], bins=100, kde=True, color=\"blue\", label=\"oman\", multiple=\"layer\")\n",
    "sns.histplot(df[\"ombg\"], bins=100, kde=True, color=\"red\", label=\"ombg\", multiple=\"layer\")\n",
    "\n",
    "plt.title(\"Overlayed Histogram: oman vs ombg\")\n",
    "plt.xlabel(\"Value\")\n",
    "plt.ylabel(\"Frequency\")\n",
    "plt.legend()\n",
    "plt.tight_layout()\n",
    "plt.show()"
   ]
  },
  {
   "cell_type": "markdown",
   "id": "c189822c-d8df-48f5-9d85-67ec96390381",
   "metadata": {},
   "source": [
    "## fit rate and plotting"
   ]
  },
  {
   "cell_type": "code",
   "execution_count": null,
   "id": "b9b4ff8c-5975-46b7-b227-29057c0e7756",
   "metadata": {},
   "outputs": [],
   "source": [
    "# 1. Filter valid data (both 'oman' and 'ombg' are not NaN)\n",
    "valid_df = df[df[\"oman\"].notna() & df[\"ombg\"].notna()].copy()\n",
    "valid_df = valid_df.dropna(subset=[\"height\"])  # removes any rows in valid_df where height is missing (NaN)\n",
    "print(valid_df[valid_df[\"height\"] < 0][\"height\"])   # negative height"
   ]
  },
  {
   "cell_type": "code",
   "execution_count": null,
   "id": "c19be0ac-d95e-499b-a929-7121a0b1a04d",
   "metadata": {},
   "outputs": [],
   "source": [
    "dz = 1000\n",
    "grouped = fit_rate(aircar.t, dz=dz)\n",
    "\n",
    "# 5. Plot vertical profile of fit_rate vs height\n",
    "plt.figure(figsize=(7, 6))\n",
    "plt.plot(grouped[\"fit_rate\"], grouped[\"height_bin\"], marker=\"o\", color=\"blue\")\n",
    "# plt.axvline(x=0, color=\"gray\", linestyle=\"--\")  # ax vertical line\n",
    "\n",
    "plt.xlabel(\"Fit Rate (%)\")  # label change\n",
    "plt.gca().xaxis.set_major_formatter(plt.FuncFormatter(lambda x, _: f'{x*100:.0f}%'))  # format as %\n",
    "plt.ylabel(\"Height Bin (m)\")\n",
    "plt.title(\"Vertical Profile of Fit Rate\")\n",
    "\n",
    "# Fine-tune ticks\n",
    "plt.xticks(np.arange(0, 0.25, 0.05))  #, fontsize=12)\n",
    "plt.yticks(np.arange(0, 13000, dz))  #, , fontsize=12)\n",
    "# Add minor ticks\n",
    "from matplotlib.ticker import AutoMinorLocator\n",
    "plt.gca().xaxis.set_minor_locator(AutoMinorLocator())\n",
    "plt.gca().yaxis.set_minor_locator(AutoMinorLocator())\n",
    "# plt.grid(which='both', linestyle='--', linewidth=0.5)\n",
    "plt.grid(True)\n",
    "\n",
    "plt.ylim(0, 13000)  # set y-axis from 0 (bottom) to 13,000 (top)\n",
    "plt.tight_layout()\n",
    "plt.show()"
   ]
  },
  {
   "cell_type": "code",
   "execution_count": null,
   "id": "7623eed8-c3de-4150-8911-87906ac61fa8",
   "metadata": {},
   "outputs": [],
   "source": [
    "print(grouped[\"height_bin\"])"
   ]
  }
 ],
 "metadata": {
  "kernelspec": {
   "display_name": "Python 3 (ipykernel)",
   "language": "python",
   "name": "python3"
  },
  "language_info": {
   "codemirror_mode": {
    "name": "ipython",
    "version": 3
   },
   "file_extension": ".py",
   "mimetype": "text/x-python",
   "name": "python",
   "nbconvert_exporter": "python",
   "pygments_lexer": "ipython3",
   "version": "3.11.11"
  }
 },
 "nbformat": 4,
 "nbformat_minor": 5
}
