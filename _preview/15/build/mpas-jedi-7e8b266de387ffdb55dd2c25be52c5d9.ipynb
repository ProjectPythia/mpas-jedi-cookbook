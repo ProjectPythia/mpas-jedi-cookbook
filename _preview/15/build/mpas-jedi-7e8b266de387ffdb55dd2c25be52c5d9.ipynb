{
 "cells": [
  {
   "cell_type": "markdown",
   "id": "d42403d2-1f38-40d8-8a16-bce3c99b59f8",
   "metadata": {},
   "source": [
    "# Title of this first notebook"
   ]
  },
  {
   "cell_type": "markdown",
   "id": "c4291d90-50a8-48b4-a763-7ece16499cdb",
   "metadata": {},
   "source": [
    "<img src=\"path or URL to some visual here\"\n",
    "     width=\"30%\"\n",
    "     alt=\"MPAS-JEDI visual\"\n",
    "     align=\"right\"\n",
    "/>\n",
    "\n",
    "### In this section, you'll learn:\n",
    "\n",
    "* Utilizing ...\n",
    "\n",
    "### Related Documentation\n",
    "\n",
    "* [URL title](URL)\n",
    "* \n",
    "\n",
    "### Prerequisites\n",
    "\n",
    "| Concepts | Importance | Notes |\n",
    "| --- | --- | --- |\n",
    "| [URL title](URL) | Necessary OR Helpful?  | |\n",
    "\n",
    "**Time to learn**: 30 minutes?\n",
    "\n",
    "-----"
   ]
  },
  {
   "cell_type": "markdown",
   "id": "45ab765a-e1ea-4fe3-ab57-5c51179d6e7b",
   "metadata": {},
   "source": [
    "## House keeping, load modules, define functions"
   ]
  },
  {
   "cell_type": "code",
   "execution_count": null,
   "id": "71152de6-94f3-4bdb-b46f-426e0108edfb",
   "metadata": {},
   "outputs": [],
   "source": [
    "%%time \n",
    "\n",
    "# autoload external python modules if they changed\n",
    "%load_ext autoreload\n",
    "%autoreload 2\n",
    "# add ../funcs to the current path\n",
    "import sys, os\n",
    "sys.path.append(os.path.join(os.getcwd(), \"..\")) \n",
    "\n",
    "# import modules\n",
    "import warnings\n",
    "import math\n",
    "import cartopy.crs as ccrs\n",
    "import geoviews.feature as gf\n",
    "import holoviews as hv\n",
    "import hvplot.xarray\n",
    "from holoviews import opts\n",
    "import uxarray as ux\n",
    "import xarray as xr\n",
    "import numpy as np\n",
    "import matplotlib.pyplot as plt\n",
    "hv.extension(\"bokeh\")\n",
    "# hv.extension(\"matplotlib\")\n",
    "\n",
    "import geoviews as gv\n",
    "import geoviews.feature as gf\n",
    "import cartopy.crs as ccrs\n",
    "import geopandas as gp\n",
    "import s3fs\n",
    "\n",
    "# common border lines\n",
    "coast_lines = gf.coastline(projection=ccrs.PlateCarree(), line_width=1, scale=\"50m\")\n",
    "state_lines = gf.states(projection=ccrs.PlateCarree(), line_width=1, line_color='gray', scale=\"50m\")"
   ]
  },
  {
   "cell_type": "code",
   "execution_count": null,
   "id": "784472d9-2439-49e9-8e20-82859442b884",
   "metadata": {},
   "outputs": [],
   "source": [
    "# contour horizontal cross sections\n",
    "def hslice_contour(ux_hslice, title, cmin=None, cmax=None, width=800, height=500, clevs=20, cmap=\"coolwarm\", symmetric_cmap=False):\n",
    "    # Get min and max\n",
    "    amin = ux_hslice.min().item()\n",
    "    amax = ux_hslice.max().item()\n",
    "    title += f\" min={amin:.1f} max={amax:.1f}\"\n",
    "    if cmin is None:\n",
    "        cmin = math.floor(amin)\n",
    "    if cmax is None:\n",
    "        cmax = math.ceil(amax)\n",
    "    if symmetric_cmap:  # to get a symmetric color map when cmin < 0, cmax >0\n",
    "        cmax = max(abs(cmin), cmax)\n",
    "        cmin = -cmax\n",
    "\n",
    "    if isinstance(cmap, str):\n",
    "        cmap = plt.get_cmap(cmap)\n",
    "\n",
    "    # generate contour plot\n",
    "    contour_plot = hv.operation.contours(\n",
    "        ux_hslice.plot(),\n",
    "        levels=np.linspace(cmin, cmax, num=clevs),  # levels=np.arange(cmin, cmax, 0.5)\n",
    "        filled=True\n",
    "    ).opts(\n",
    "        line_color=None,  # line_width=0.001\n",
    "        width=width, height=height,\n",
    "        cmap='coolwarm',\n",
    "        clim=(cmin, cmax),\n",
    "        colorbar=True,  # cmap=\"inferno\"\n",
    "        show_legend=False, tools=['hover'], title=title,\n",
    "    )\n",
    "\n",
    "    return contour_plot\n",
    "\n",
    "# contour vertical cross sections along a given latitude or logitude \n",
    "def vslice_contour(uxvar, lon=None, lat=None, cmin=None, cmax=None, width=600, height=530, clevels=20):\n",
    "    if lon is None and lat is None:\n",
    "        print(\"Need to specify either a const lon or a const lat\")\n",
    "        return\n",
    "\n",
    "    if lon is not None:  # along constant lon\n",
    "        ux_vslice = uxvar.isel(Time=0).cross_section.constant_longitude(lon)\n",
    "    elif lat is not None:  # along constant lat\n",
    "        ux_vslice = uxvar.isel(Time=0).cross_section.constant_latitude(lat)\n",
    "\n",
    "    # temporary uxarray bug fix and it will be updated in a new UXarray fix soon\n",
    "    del ux_vslice.uxgrid._ds['edge_node_connectivity']\n",
    "    del ux_vslice.uxgrid._ds['edge_lon']\n",
    "    del ux_vslice.uxgrid._ds['face_lon']\n",
    "\n",
    "    # sort lats or lons\n",
    "    if lon is not None:  # along constant lon\n",
    "        sort_indices = ux_vslice.uxgrid.face_lat.argsort()\n",
    "    elif lat is not None:  # along constant lat\n",
    "        sort_indices = ux_vslice.uxgrid.face_lon.argsort()\n",
    "    sorted_lons = ux_vslice.uxgrid.face_lon[sort_indices]\n",
    "    sorted_lats = ux_vslice.uxgrid.face_lat[sort_indices]\n",
    "\n",
    "    # remap faces\n",
    "    face_indices = []\n",
    "    for mylon, mylat in zip(sorted_lons, sorted_lats):\n",
    "        face_idx = ux_vslice.uxgrid.get_faces_containing_point(point_lonlat=np.array([mylon.item(), mylat.item()]))\n",
    "        face_indices.append(face_idx)\n",
    "\n",
    "    face_indices = np.array(face_indices).squeeze()\n",
    "    if lon is not None:  # along constant lon\n",
    "        face_DataArray = xr.DataArray(data=np.array(face_indices), dims=['lat'])\n",
    "    elif lat is not None:  # along constant lat\n",
    "        face_DataArray = xr.DataArray(data=np.array(face_indices), dims=['lon'])\n",
    "\n",
    "    ux_vslice_selected = ux_vslice.isel(n_face=face_DataArray, ignore_grid=True)\n",
    "    # Get min and max\n",
    "    amin = ux_vslice_selected.min().item()\n",
    "    amax = ux_vslice.max().item()\n",
    "    if cmin is None:\n",
    "        cmin = math.floor(amin)\n",
    "    if cmax is None:\n",
    "        cmax = math.ceil(amax)\n",
    "\n",
    "    levels = np.linspace(cmin, cmax, num=clevels)\n",
    "    if lon is not None:  # along constant lon\n",
    "        title = f\"constant_lon={lon} min={amin:.1f} max={amax:.1f}\"\n",
    "    if lat is not None:  # along constant lat\n",
    "        title = f\"constant_lat={lat} min={amin:.1f} max={amax:.1f}\"\n",
    "\n",
    "    # ux_vslice_selected.to_xarray().transpose().plot.contourf()  # plot using matplotlib\n",
    "    # plt.title(f\"lon = {lon}\")  # add a title to matplotlib\n",
    "\n",
    "    # return the slice array with a lat dim\n",
    "    # ux_vslice_selected = ux_vslice_selected.assign_coords(lats=xr.DataArray(data=sorted_lats, dims=['lat']))\n",
    "    # return ux_vslice_selected.to_xarray().transpose() # return the slice array\n",
    "\n",
    "    return ux_vslice_selected.to_xarray().transpose().hvplot.contourf(levels=levels, width=width, height=height, title=title)  # aspect=1"
   ]
  },
  {
   "cell_type": "markdown",
   "id": "6fdf6ee5-3639-4d57-894f-6cd047f7a2ce",
   "metadata": {},
   "source": [
    "## load MPAS data\n",
    "**Depending on the network, the data loading process may take 1, 2 or a few minutes**"
   ]
  },
  {
   "cell_type": "code",
   "execution_count": null,
   "id": "bb8c6b96-622d-4835-bf5f-a5cb8ea90bfd",
   "metadata": {},
   "outputs": [],
   "source": [
    "%%time\n",
    "\n",
    "jetstream_url = 'https://js2.jetstream-cloud.org:8001/'\n",
    "fs = s3fs.S3FileSystem(anon=True, asynchronous=False,client_kwargs=dict(endpoint_url=jetstream_url))\n",
    "conus12_path = 's3://pythia/mpas/conus12km'\n",
    "\n",
    "grid_url=f\"{conus12_path}/conus12km.invariant.nc_L60_GFS\"\n",
    "bkg_url=f\"{conus12_path}/bkg/mpasout.2024-05-06_01.00.00.nc\"\n",
    "ana_url=f\"{conus12_path}/ana/mpasout.2024-05-06_01.00.00.nc\"\n",
    "\n",
    "grid_file = fs.open(grid_url)\n",
    "ana_file = fs.open(ana_url)\n",
    "bkg_file = fs.open(bkg_url)\n",
    "\n",
    "uxds_a = ux.open_dataset(grid_file, ana_file)\n",
    "uxds_b = ux.open_dataset(grid_file, bkg_file)"
   ]
  },
  {
   "cell_type": "markdown",
   "id": "0c49ff2c-6a5d-46f9-ab3a-e33f02101954",
   "metadata": {},
   "source": [
    "## Make a horizontal temperature plot"
   ]
  },
  {
   "cell_type": "code",
   "execution_count": null,
   "id": "7d2e7583-db70-4c47-8c90-6fbaa248dcfb",
   "metadata": {},
   "outputs": [],
   "source": [
    "%%time\n",
    "\n",
    "uxvar0 = uxds_a['theta'] - 273.15\n",
    "uxvar = uxvar0\n",
    "nt = 0  # time dimension\n",
    "lev = 0  # vertical level\n",
    "plot = hslice_contour(uxvar.isel(Time=nt, nVertLevels=lev), title=f'lev={lev}') #, symmetric_cmap=True)\n",
    "plot * coast_lines * state_lines"
   ]
  },
  {
   "cell_type": "markdown",
   "id": "6eda8134-9ad6-458e-8124-891b26138012",
   "metadata": {},
   "source": [
    "## Make a vertical cross section plot"
   ]
  },
  {
   "cell_type": "code",
   "execution_count": null,
   "id": "a22d00f9-c715-47b2-b541-b932c7300356",
   "metadata": {},
   "outputs": [],
   "source": [
    "%%time\n",
    "\n",
    "tmp = vslice_contour(uxvar, lat=42.63, clevels=10)\n",
    "display(tmp)"
   ]
  },
  {
   "cell_type": "markdown",
   "id": "08503943-9a42-4d6b-ac51-fc3c3a479ea8",
   "metadata": {},
   "source": [
    "## compute the analysis increments from the JEDI data assimilation\n",
    "JEDI updates the background atmospheric state (`uxds_b`) with observation innovations and gets a new atmospheric state called analysis (`uxds_a`).  \n",
    "The difference of `uxds_a` - `uxds_b` is called \"analysis increments\""
   ]
  },
  {
   "cell_type": "code",
   "execution_count": null,
   "id": "83870527-8104-4f7c-a5c5-ee123fb75247",
   "metadata": {},
   "outputs": [],
   "source": [
    "%%time \n",
    "\n",
    "var_name = \"theta\"\n",
    "uxdiff0 = uxds_a[var_name] - uxds_b[var_name]\n",
    "uxvar = uxdiff0"
   ]
  },
  {
   "cell_type": "markdown",
   "id": "d2fef896-7789-49d1-acb6-da2158bd3499",
   "metadata": {},
   "source": [
    "## plot temperature analysis increments at different levels"
   ]
  },
  {
   "cell_type": "code",
   "execution_count": null,
   "id": "fae9c4cf-f2b1-475d-ae7c-be4e48ee6af1",
   "metadata": {},
   "outputs": [],
   "source": [
    "%%time\n",
    "\n",
    "nt=0  # time dimension\n",
    "plot_levels = [0, 29, 42]  # [0, 29, 42]  # [0, 19, 29, 39, 49, 58]\n",
    "\n",
    "# Create the colormap\n",
    "# colors = ['blue', 'white', 'red']    \n",
    "# cmap = LinearSegmentedColormap.from_list('blue_white_red', colors)\n",
    "# zero_shift = 0.02 \n",
    "\n",
    "cmap = plt.get_cmap('coolwarm')\n",
    "zero_shift = 0.0\n",
    "\n",
    "plots = []\n",
    "for lev in plot_levels:\n",
    "    #  use hslice_contour0() which uses 0 divide the cool and warm colors in the plot by default\n",
    "    #\n",
    "    # tmp = hslice_contour0(\n",
    "    #     uxvar.isel(Time=nt, nVertLevels=lev), \n",
    "    #     title=f'lev={lev}', \n",
    "    #     cmap=cmap, \n",
    "    #     zero_shift=zero_shift, \n",
    "    #     clevs_multiplier=1,\n",
    "    # )  # for the whole domain  \n",
    "\n",
    "    # hslice_contour() does not dvide the cool and warm colors at 0 by default\n",
    "    # But it can be achieved by setting symmetric_cmap=True which will set symmetric cmax/cmin automatically,\n",
    "    #       or mannualy setting symmetric cmax/cmin\n",
    "    #\n",
    "    tmp = hslice_contour(\n",
    "        uxvar.isel(Time=nt, nVertLevels=lev), \n",
    "        title=f'lev={lev}',\n",
    "        symmetric_cmap=True,\n",
    "        #clevs=20,\n",
    "    )  # for the whole domain\n",
    "    \n",
    "    plots.append(tmp * coast_lines * state_lines)\n",
    "\n",
    "# plots share one toolbar, which facilitates doing sync'ed zoom-in/out\n",
    "# hv.Layout(plots).cols(1)\n",
    "\n",
    "# each plot has its own toolbar, which facilitates controlling each plot individually\n",
    "for p in plots:\n",
    "   display(p)"
   ]
  },
  {
   "cell_type": "markdown",
   "id": "f6733ae8-62da-4ecc-9f79-4d0834e9414c",
   "metadata": {},
   "source": [
    "## Zoomed into Colorado using the subset capability"
   ]
  },
  {
   "cell_type": "code",
   "execution_count": null,
   "id": "14f201f3-900a-4517-abf2-ad55efd967e1",
   "metadata": {},
   "outputs": [],
   "source": [
    "%%time\n",
    "\n",
    "lon_center = -105.03\n",
    "lat_center = 39.0\n",
    "lon_incr = 5 # degree\n",
    "lat_incr = 3 # degree\n",
    "lon_bounds = (lon_center - lon_incr, lon_center + lon_incr)\n",
    "lat_bounds = (lat_center - lat_incr, lat_center + lat_incr)\n",
    "\n",
    "### subset to a small domain\n",
    "uxdiff1 = uxdiff0.subset.bounding_box(lon_bounds, lat_bounds,)\n",
    "uxvar = uxdiff1\n",
    "\n",
    "\n",
    "nt=0  # time dimension\n",
    "plot_levels = [42]  # [0, 29, 42]  # [0, 19, 29, 39, 49, 58]\n",
    "\n",
    "plots = []\n",
    "for lev in plot_levels:\n",
    "    tmp = hslice_contour(uxvar.isel(Time=nt, nVertLevels=lev), title=f'lev={lev}', width=700, height=500)  # for the subdomain\n",
    "    \n",
    "    # overlay state_lines\n",
    "    #plots.append(tmp * coast_lines * state_lines)  \n",
    "    \n",
    "    # overlay county lines, this takes longer time to render\n",
    "    plots.append(tmp * coast_lines.opts(xlim=(lon_bounds[0], lon_bounds[1]), ylim=(lat_bounds[0], lat_bounds[1])))\n",
    "\n",
    "# plots share one toolbar, which facilitates doing sync'ed zoom-in/out\n",
    "# hv.Layout(plots).cols(1)\n",
    "\n",
    "# each plot has its own toolbar, which facilitates controlling each plot individually\n",
    "for p in plots:\n",
    "   display(p)"
   ]
  },
  {
   "cell_type": "markdown",
   "id": "b42ef48b-be1b-4d4f-93cf-79a791e84cc9",
   "metadata": {},
   "source": [
    "## vertical cross section of temperature increments"
   ]
  },
  {
   "cell_type": "code",
   "execution_count": null,
   "id": "3622dd7d-5685-4988-9ef6-81ac9dcdc79c",
   "metadata": {},
   "outputs": [],
   "source": [
    "%%time\n",
    "\n",
    "# tmp = vslice_contour(uxvar, lon=-85.77, clevels=10)\n",
    "# display(tmp)\n",
    "tmp = vslice_contour(uxvar, lat=42.63, clevels=10)\n",
    "display(tmp)"
   ]
  },
  {
   "cell_type": "markdown",
   "id": "584076c9-5b5b-4cf8-a44c-7c91936e80b9",
   "metadata": {},
   "source": [
    "## save plots to files"
   ]
  },
  {
   "cell_type": "code",
   "execution_count": null,
   "id": "1c60b17c-e42a-4682-844b-128db51e0c70",
   "metadata": {},
   "outputs": [],
   "source": [
    "hv.save(tmp, 'vslice.png')"
   ]
  }
 ],
 "metadata": {
  "kernelspec": {
   "display_name": "Python 3 (ipykernel)",
   "language": "python",
   "name": "python3"
  },
  "language_info": {
   "codemirror_mode": {
    "name": "ipython",
    "version": 3
   },
   "file_extension": ".py",
   "mimetype": "text/x-python",
   "name": "python",
   "nbconvert_exporter": "python",
   "pygments_lexer": "ipython3",
   "version": "3.11.11"
  }
 },
 "nbformat": 4,
 "nbformat_minor": 5
}
