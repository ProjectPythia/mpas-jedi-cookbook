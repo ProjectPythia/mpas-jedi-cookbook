{
 "cells": [
  {
   "cell_type": "markdown",
   "id": "d42403d2-1f38-40d8-8a16-bce3c99b59f8",
   "metadata": {},
   "source": [
    "# Advanced MPAS Analysis & Visualization with UXarray"
   ]
  },
  {
   "cell_type": "markdown",
   "id": "c4291d90-50a8-48b4-a763-7ece16499cdb",
   "metadata": {},
   "source": [
    "<img src=\"path or URL to some visual here\"\n",
    "     width=\"30%\"\n",
    "     alt=\"MPAS advanced visual\"\n",
    "     align=\"right\"\n",
    "/>\n",
    "\n",
    "### In this section, you'll learn:\n",
    "\n",
    "* Utilizing ...\n",
    "\n",
    "### Related Documentation\n",
    "\n",
    "* [URL title](URL)\n",
    "* \n",
    "\n",
    "### Prerequisites\n",
    "\n",
    "| Concepts | Importance | Notes |\n",
    "| --- | --- | --- |\n",
    "| [URL title](URL) | Necessary OR Helpful?  | |\n",
    "\n",
    "**Time to learn**: 30 minutes?\n",
    "\n",
    "-----"
   ]
  },
  {
   "cell_type": "markdown",
   "id": "45ab765a-e1ea-4fe3-ab57-5c51179d6e7b",
   "metadata": {},
   "source": [
    "## Import packages"
   ]
  },
  {
   "cell_type": "code",
   "execution_count": null,
   "id": "e5786447-ca78-45ed-be6e-fc43fcce58b3",
   "metadata": {},
   "outputs": [],
   "source": [
    "%%time \n",
    "\n",
    "# autoload external python modules if they changed\n",
    "%load_ext autoreload\n",
    "%autoreload 2\n",
    "\n",
    "# add ../funcs to the current path\n",
    "import sys, os\n",
    "sys.path.append(os.path.join(os.getcwd(), \"..\")) \n",
    "\n",
    "# import modules\n",
    "import warnings\n",
    "import math\n",
    "\n",
    "import cartopy.crs as ccrs\n",
    "import geoviews as gv\n",
    "import geoviews.feature as gf\n",
    "import holoviews as hv\n",
    "import hvplot.xarray\n",
    "from holoviews import opts\n",
    "import matplotlib.pyplot as plt\n",
    "\n",
    "import s3fs\n",
    "\n",
    "import geopandas as gp\n",
    "import numpy as np\n",
    "import uxarray as ux\n",
    "import xarray as xr"
   ]
  },
  {
   "cell_type": "markdown",
   "id": "5e00234e-3984-47b5-9968-5485f9a94e38",
   "metadata": {},
   "source": [
    "## Configure visualization tools"
   ]
  },
  {
   "cell_type": "code",
   "execution_count": null,
   "id": "b654be71-a194-4c61-8e47-ae78bcef07cb",
   "metadata": {},
   "outputs": [],
   "source": [
    "# hv.extension(\"bokeh\")\n",
    "# hv.extension(\"matplotlib\")\n",
    "\n",
    "\n",
    "# common border lines\n",
    "coast_lines = gf.coastline(projection=ccrs.PlateCarree(), line_width=1, scale=\"50m\")\n",
    "state_lines = gf.states(projection=ccrs.PlateCarree(), line_width=1, line_color='gray', scale=\"50m\")"
   ]
  },
  {
   "cell_type": "markdown",
   "id": "6fdf6ee5-3639-4d57-894f-6cd047f7a2ce",
   "metadata": {},
   "source": [
    "## Load MPAS data\n",
    "Depending on the network, the data loading process may take a few minutes"
   ]
  },
  {
   "cell_type": "markdown",
   "id": "d77d663d-79a7-45b1-9ff3-8752f6853f3b",
   "metadata": {},
   "source": [
    "### Data paths to the JetStream2 and S3 objects"
   ]
  },
  {
   "cell_type": "code",
   "execution_count": null,
   "id": "03124b28-8ea3-4c7b-91c2-a9f2919f3021",
   "metadata": {},
   "outputs": [],
   "source": [
    "%%time\n",
    "\n",
    "jetstream_url = 'https://js2.jetstream-cloud.org:8001/'\n",
    "fs = s3fs.S3FileSystem(anon=True, asynchronous=False,client_kwargs=dict(endpoint_url=jetstream_url))\n",
    "conus12_path = 's3://pythia/mpas/conus12km'\n",
    "\n",
    "grid_url=f\"{conus12_path}/conus12km.invariant.nc_L60_GFS\"\n",
    "bkg_url=f\"{conus12_path}/bkg/mpasout.2024-05-06_01.00.00.nc\"\n",
    "ana_url=f\"{conus12_path}/ana/mpasout.2024-05-06_01.00.00.nc\"\n",
    "\n",
    "grid_file = fs.open(grid_url)\n",
    "ana_file = fs.open(ana_url)\n",
    "bkg_file = fs.open(bkg_url)"
   ]
  },
  {
   "cell_type": "markdown",
   "id": "21553ae5-4686-4f12-8fa8-e31d359f2156",
   "metadata": {},
   "source": [
    "### Open UXarray datasets"
   ]
  },
  {
   "cell_type": "code",
   "execution_count": null,
   "id": "f629cbc1-9f14-41f6-b41e-179a0724fc70",
   "metadata": {},
   "outputs": [],
   "source": [
    "%%time \n",
    "\n",
    "uxds_a = ux.open_dataset(grid_file, ana_file)\n",
    "uxds_b = ux.open_dataset(grid_file, bkg_file)"
   ]
  },
  {
   "cell_type": "code",
   "execution_count": null,
   "id": "cf654237-7bda-4c08-9dda-413e9a159a06",
   "metadata": {},
   "outputs": [],
   "source": [
    "uxvar = uxds_a['theta'] - 273.15   ## Kelvin to Celsius"
   ]
  },
  {
   "cell_type": "markdown",
   "id": "3272fe80-0e8a-458e-891e-4880271aee7f",
   "metadata": {},
   "source": [
    "Also, for simplicity, let's focus at the vertical level and time indices of 0. "
   ]
  },
  {
   "cell_type": "code",
   "execution_count": null,
   "id": "20f70a26-bf17-466a-b9a8-8d3e335cb782",
   "metadata": {},
   "outputs": [],
   "source": [
    "i_lev = 0   # `nVertLevels` index\n",
    "i_time = 0  # `Time` index"
   ]
  },
  {
   "cell_type": "markdown",
   "id": "6eda8134-9ad6-458e-8124-891b26138012",
   "metadata": {},
   "source": [
    "## Vertical cross section"
   ]
  },
  {
   "cell_type": "code",
   "execution_count": null,
   "id": "a22d00f9-c715-47b2-b541-b932c7300356",
   "metadata": {},
   "outputs": [],
   "source": [
    "# %%time\n",
    "\n",
    "# tmp = vslice_contour(uxvar, lat=42.63, clevels=10)\n",
    "# display(tmp)"
   ]
  },
  {
   "cell_type": "markdown",
   "id": "d66955e9-f567-46ec-8156-7db2ea0997ad",
   "metadata": {},
   "source": [
    "Let us use UXarray's vertical cross-section function to get a cross-section over a great circle arc:"
   ]
  },
  {
   "cell_type": "code",
   "execution_count": null,
   "id": "1a7c6c9e-51d7-4324-b200-565fca7625e6",
   "metadata": {},
   "outputs": [],
   "source": [
    "%%time\n",
    "\n",
    "start_point = (-120, 20)\n",
    "end_point = (-70, 50)\n",
    "\n",
    "cross_section_gca = uxvar.cross_section(start=start_point, end=end_point, steps=100)"
   ]
  },
  {
   "cell_type": "markdown",
   "id": "7176b6e0-a913-4f5e-93cc-805f6f4efc46",
   "metadata": {},
   "source": [
    "UXarray's cross-section returns an `xarray.DataArray` that can then be plotted:"
   ]
  },
  {
   "cell_type": "code",
   "execution_count": null,
   "id": "4c931b8d-6876-41a7-8a3d-9c7b1e04fbf4",
   "metadata": {},
   "outputs": [],
   "source": [
    "cross_section_gca.isel(Time=0).transpose().plot.contourf()"
   ]
  },
  {
   "cell_type": "code",
   "execution_count": null,
   "id": "f4af86f0-9333-45e8-b40d-f659481c515b",
   "metadata": {},
   "outputs": [],
   "source": []
  }
 ],
 "metadata": {
  "kernelspec": {
   "display_name": "Python 3 (ipykernel)",
   "language": "python",
   "name": "python3"
  },
  "language_info": {
   "codemirror_mode": {
    "name": "ipython",
    "version": 3
   },
   "file_extension": ".py",
   "mimetype": "text/x-python",
   "name": "python",
   "nbconvert_exporter": "python",
   "pygments_lexer": "ipython3",
   "version": "3.11.11"
  }
 },
 "nbformat": 4,
 "nbformat_minor": 5
}
