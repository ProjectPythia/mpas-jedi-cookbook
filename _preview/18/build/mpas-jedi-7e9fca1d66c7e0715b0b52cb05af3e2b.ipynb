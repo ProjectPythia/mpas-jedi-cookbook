{
 "cells": [
  {
   "cell_type": "markdown",
   "id": "d42403d2-1f38-40d8-8a16-bce3c99b59f8",
   "metadata": {},
   "source": [
    "# Title of this first notebook"
   ]
  },
  {
   "cell_type": "markdown",
   "id": "c4291d90-50a8-48b4-a763-7ece16499cdb",
   "metadata": {},
   "source": [
    "<img src=\"path or URL to some visual here\"\n",
    "     width=\"30%\"\n",
    "     alt=\"MPAS-JEDI visual\"\n",
    "     align=\"right\"\n",
    "/>\n",
    "\n",
    "### In this section, you'll learn:\n",
    "\n",
    "* Utilizing ...\n",
    "\n",
    "### Related Documentation\n",
    "\n",
    "* [URL title](URL)\n",
    "* \n",
    "\n",
    "### Prerequisites\n",
    "\n",
    "| Concepts | Importance | Notes |\n",
    "| --- | --- | --- |\n",
    "| [URL title](URL) | Necessary OR Helpful?  | |\n",
    "\n",
    "**Time to learn**: 30 minutes?\n",
    "\n",
    "-----"
   ]
  },
  {
   "cell_type": "markdown",
   "id": "45ab765a-e1ea-4fe3-ab57-5c51179d6e7b",
   "metadata": {},
   "source": [
    "## Import packages"
   ]
  },
  {
   "cell_type": "code",
   "execution_count": null,
   "id": "e5786447-ca78-45ed-be6e-fc43fcce58b3",
   "metadata": {},
   "outputs": [],
   "source": [
    "%%time \n",
    "\n",
    "# autoload external python modules if they changed\n",
    "%load_ext autoreload\n",
    "%autoreload 2\n",
    "\n",
    "# add ../funcs to the current path\n",
    "import sys, os\n",
    "sys.path.append(os.path.join(os.getcwd(), \"..\")) \n",
    "\n",
    "# import modules\n",
    "import warnings\n",
    "import math\n",
    "\n",
    "import cartopy.crs as ccrs\n",
    "import geoviews as gv\n",
    "import geoviews.feature as gf\n",
    "import holoviews as hv\n",
    "import hvplot.xarray\n",
    "from holoviews import opts\n",
    "import matplotlib.pyplot as plt\n",
    "\n",
    "import s3fs\n",
    "\n",
    "import geopandas as gp\n",
    "import numpy as np\n",
    "import uxarray as ux\n",
    "import xarray as xr"
   ]
  },
  {
   "cell_type": "markdown",
   "id": "5e00234e-3984-47b5-9968-5485f9a94e38",
   "metadata": {},
   "source": [
    "## Configure visualization tools"
   ]
  },
  {
   "cell_type": "code",
   "execution_count": null,
   "id": "b654be71-a194-4c61-8e47-ae78bcef07cb",
   "metadata": {},
   "outputs": [],
   "source": [
    "# hv.extension(\"bokeh\")\n",
    "# hv.extension(\"matplotlib\")\n",
    "\n",
    "# common border lines\n",
    "coast_lines = gf.coastline(projection=ccrs.PlateCarree(), line_width=1, scale=\"50m\")\n",
    "state_lines = gf.states(projection=ccrs.PlateCarree(), line_width=1, line_color='gray', scale=\"50m\")"
   ]
  },
  {
   "cell_type": "markdown",
   "id": "7e3dc6e4-05b4-4c94-b046-29560ec0375c",
   "metadata": {},
   "source": [
    "## Convenience functions"
   ]
  },
  {
   "cell_type": "code",
   "execution_count": null,
   "id": "784472d9-2439-49e9-8e20-82859442b884",
   "metadata": {},
   "outputs": [],
   "source": [
    "# contour horizontal cross sections\n",
    "def hslice_contour(ux_hslice, title, cmin=None, cmax=None, width=800, height=500, clevs=20, cmap=\"coolwarm\", symmetric_cmap=False):\n",
    "    # Get min and max\n",
    "    amin = ux_hslice.min().item()\n",
    "    amax = ux_hslice.max().item()\n",
    "    title += f\" min={amin:.1f} max={amax:.1f}\"\n",
    "    if cmin is None:\n",
    "        cmin = math.floor(amin)\n",
    "    if cmax is None:\n",
    "        cmax = math.ceil(amax)\n",
    "    if symmetric_cmap:  # to get a symmetric color map when cmin < 0, cmax >0\n",
    "        cmax = max(abs(cmin), cmax)\n",
    "        cmin = -cmax\n",
    "\n",
    "    if isinstance(cmap, str):\n",
    "        cmap = plt.get_cmap(cmap)\n",
    "\n",
    "    # generate contour plot\n",
    "    contour_plot = hv.operation.contours(\n",
    "        ux_hslice.plot(),\n",
    "        levels=np.linspace(cmin, cmax, num=clevs),  # levels=np.arange(cmin, cmax, 0.5)\n",
    "        filled=True\n",
    "    ).opts(\n",
    "        line_color=None,  # line_width=0.001\n",
    "        width=width, height=height,\n",
    "        cmap='coolwarm',\n",
    "        clim=(cmin, cmax),\n",
    "        colorbar=True,  # cmap=\"inferno\"\n",
    "        show_legend=False, tools=['hover'], title=title,\n",
    "    )\n",
    "\n",
    "    return contour_plot\n",
    "\n",
    "    # OERO: See the vertical cross section part below re how to use UXarray's new function\n",
    "# # contour vertical cross sections along a given latitude or logitude \n",
    "# def vslice_contour(uxvar, lon=None, lat=None, cmin=None, cmax=None, width=600, height=530, clevels=20):\n",
    "#     if lon is None and lat is None:\n",
    "#         print(\"Need to specify either a const lon or a const lat\")\n",
    "#         return\n",
    "\n",
    "#     if lon is not None:  # along constant lon\n",
    "#         ux_vslice = uxvar.isel(Time=0).cross_section.constant_longitude(lon)\n",
    "#     elif lat is not None:  # along constant lat\n",
    "#         ux_vslice = uxvar.isel(Time=0).cross_section.constant_latitude(lat)\n",
    "\n",
    "#     # temporary uxarray bug fix and it will be updated in a new UXarray fix soon\n",
    "#     del ux_vslice.uxgrid._ds['edge_node_connectivity']\n",
    "#     del ux_vslice.uxgrid._ds['edge_lon']\n",
    "#     del ux_vslice.uxgrid._ds['face_lon']\n",
    "\n",
    "#     # sort lats or lons\n",
    "#     if lon is not None:  # along constant lon\n",
    "#         sort_indices = ux_vslice.uxgrid.face_lat.argsort()\n",
    "#     elif lat is not None:  # along constant lat\n",
    "#         sort_indices = ux_vslice.uxgrid.face_lon.argsort()\n",
    "#     sorted_lons = ux_vslice.uxgrid.face_lon[sort_indices]\n",
    "#     sorted_lats = ux_vslice.uxgrid.face_lat[sort_indices]\n",
    "\n",
    "#     # remap faces\n",
    "#     face_indices = []\n",
    "#     for mylon, mylat in zip(sorted_lons, sorted_lats):\n",
    "#         face_idx = ux_vslice.uxgrid.get_faces_containing_point(points=np.array([mylon.item(), mylat.item()]))\n",
    "#         face_indices.append(face_idx)\n",
    "\n",
    "#     face_indices = np.array(face_indices).squeeze()\n",
    "#     if lon is not None:  # along constant lon\n",
    "#         face_DataArray = xr.DataArray(data=np.array(face_indices), dims=['lat'])\n",
    "#     elif lat is not None:  # along constant lat\n",
    "#         face_DataArray = xr.DataArray(data=np.array(face_indices), dims=['lon'])\n",
    "\n",
    "#     ux_vslice_selected = ux_vslice.isel(n_face=face_DataArray, ignore_grid=True)\n",
    "#     # Get min and max\n",
    "#     amin = ux_vslice_selected.min().item()\n",
    "#     amax = ux_vslice.max().item()\n",
    "#     if cmin is None:\n",
    "#         cmin = math.floor(amin)\n",
    "#     if cmax is None:\n",
    "#         cmax = math.ceil(amax)\n",
    "\n",
    "#     levels = np.linspace(cmin, cmax, num=clevels)\n",
    "#     if lon is not None:  # along constant lon\n",
    "#         title = f\"constant_lon={lon} min={amin:.1f} max={amax:.1f}\"\n",
    "#     if lat is not None:  # along constant lat\n",
    "#         title = f\"constant_lat={lat} min={amin:.1f} max={amax:.1f}\"\n",
    "\n",
    "#     # ux_vslice_selected.to_xarray().transpose().plot.contourf()  # plot using matplotlib\n",
    "#     # plt.title(f\"lon = {lon}\")  # add a title to matplotlib\n",
    "\n",
    "#     # return the slice array with a lat dim\n",
    "#     # ux_vslice_selected = ux_vslice_selected.assign_coords(lats=xr.DataArray(data=sorted_lats, dims=['lat']))\n",
    "#     # return ux_vslice_selected.to_xarray().transpose() # return the slice array\n",
    "\n",
    "#     return ux_vslice_selected.to_xarray().transpose().hvplot.contourf(levels=levels, width=width, height=height, title=title)  # aspect=1"
   ]
  },
  {
   "cell_type": "markdown",
   "id": "6fdf6ee5-3639-4d57-894f-6cd047f7a2ce",
   "metadata": {},
   "source": [
    "## Load MPAS data\n",
    "Depending on the network, the data loading process may take a few minutes.    \n",
    "\n",
    "There are two ways to load MPAS data:\n",
    "- 1. Download all example data from JetStream2 to local and them load them locally. This approach allows you to download the data once and reuse it in notebooks.\n",
    "- 2. Access the JetStream2 S3 objects on demand. In this case, each notebook (incluidng restarting a notebook) will download the required data as needed, which may lead to repeated downloads."
   ]
  },
  {
   "cell_type": "code",
   "execution_count": null,
   "id": "d3848e8f-c836-44ed-ad1b-8f4d63e30bd8",
   "metadata": {},
   "outputs": [],
   "source": [
    "data_load_method = 1  # or 2"
   ]
  },
  {
   "cell_type": "markdown",
   "id": "9aded3cd-525e-40eb-b722-c958c25f544a",
   "metadata": {},
   "source": [
    "### Download all example data to your local disk"
   ]
  },
  {
   "cell_type": "code",
   "execution_count": null,
   "id": "ecc1a789-c3a8-4a0d-b9ff-6527ec561039",
   "metadata": {},
   "outputs": [],
   "source": [
    "%%time\n",
    "# This cell only needs to run once in a machine and can be converted to a MarkDown cell before publishing the cookbook\n",
    "\n",
    "if data_load_method == 1:\n",
    "    jetstream_url = 'https://js2.jetstream-cloud.org:8001/'\n",
    "    fs = s3fs.S3FileSystem(anon=True, asynchronous=False,client_kwargs=dict(endpoint_url=jetstream_url))\n",
    "    conus12_path = 's3://pythia/mpas/conus12km'\n",
    "    local_dir=\"/tmp\"\n",
    "    fs.get(conus12_path, local_dir, recursive=True)"
   ]
  },
  {
   "cell_type": "code",
   "execution_count": null,
   "id": "ec7c7316-b811-444c-a6b0-37031c90e9eb",
   "metadata": {},
   "outputs": [],
   "source": [
    "# path to the MPAS data\n",
    "if data_load_method == 1:\n",
    "    grid_file = local_dir + \"/conus12km/conus12km.invariant.nc_L60_GFS\"\n",
    "    ana_file = local_dir + \"/conus12km/bkg/mpasout.2024-05-06_01.00.00.nc\"\n",
    "    bkg_file = local_dir + \"/conus12km/ana/mpasout.2024-05-06_01.00.00.nc\""
   ]
  },
  {
   "cell_type": "markdown",
   "id": "d77d663d-79a7-45b1-9ff3-8752f6853f3b",
   "metadata": {},
   "source": [
    "### access JetStream2 and S3 objects on demand  "
   ]
  },
  {
   "cell_type": "code",
   "execution_count": null,
   "id": "03124b28-8ea3-4c7b-91c2-a9f2919f3021",
   "metadata": {},
   "outputs": [],
   "source": [
    "%%time\n",
    "## **!! skip this section if data has been downloaded to local in the above !!**\n",
    "if data_load_method == 2:\n",
    "    jetstream_url = 'https://js2.jetstream-cloud.org:8001/'\n",
    "    fs = s3fs.S3FileSystem(anon=True, asynchronous=False,client_kwargs=dict(endpoint_url=jetstream_url))\n",
    "    conus12_path = 's3://pythia/mpas/conus12km'\n",
    "    \n",
    "    grid_url=f\"{conus12_path}/conus12km.invariant.nc_L60_GFS\"\n",
    "    bkg_url=f\"{conus12_path}/bkg/mpasout.2024-05-06_01.00.00.nc\"\n",
    "    ana_url=f\"{conus12_path}/ana/mpasout.2024-05-06_01.00.00.nc\"\n",
    "    \n",
    "    grid_file = fs.open(grid_url)\n",
    "    ana_file = fs.open(ana_url)\n",
    "    bkg_file = fs.open(bkg_url)\n",
    "else:\n",
    "    print(\"No action here, as example data has been downloaded to local in the above\")"
   ]
  },
  {
   "cell_type": "markdown",
   "id": "21553ae5-4686-4f12-8fa8-e31d359f2156",
   "metadata": {},
   "source": [
    "### Open UXarray datasets"
   ]
  },
  {
   "cell_type": "code",
   "execution_count": null,
   "id": "f629cbc1-9f14-41f6-b41e-179a0724fc70",
   "metadata": {},
   "outputs": [],
   "source": [
    "%%time \n",
    "uxds_a = ux.open_dataset(grid_file, ana_file)\n",
    "uxds_b = ux.open_dataset(grid_file, bkg_file)"
   ]
  },
  {
   "cell_type": "markdown",
   "id": "06be8aa9-9b7a-4d28-9cbb-c532658dd067",
   "metadata": {},
   "source": [
    "#### (Experimental) UXarray adataset could be opened with chunks for better performance \n",
    "Applies the suggestion [here](https://uxarray.readthedocs.io/en/latest/user-guide/parallel-load-ux-with-dask.html#opening-a-single-data-file). Currently, it doesn not seem to be significantly better performance though. Uxarray team needs to look into this."
   ]
  },
  {
   "cell_type": "code",
   "execution_count": null,
   "id": "750e617b-1cba-40c4-8f4b-9958a2625b35",
   "metadata": {},
   "outputs": [],
   "source": [
    "# %%time\n",
    "\n",
    "# uxds_a_chunked = ux.open_dataset(grid_file, ana_file, chunks=-1)\n",
    "# uxds_b_chunked = ux.open_dataset(grid_file, bkg_file, chunks=-1)"
   ]
  },
  {
   "cell_type": "markdown",
   "id": "0c49ff2c-6a5d-46f9-ab3a-e33f02101954",
   "metadata": {},
   "source": [
    "## Regional temperature contour"
   ]
  },
  {
   "cell_type": "markdown",
   "id": "9ca5cb63-17db-4c31-bc03-75da72ff867f",
   "metadata": {},
   "source": [
    "Let us use the `theta` (potential temperature) variable from this dataset, which has a `(Time, n_face, nVertLevels)`, i.e. `Time * Number of grid faces * Number of vertical levels` dimensionality to have a look at a regional, horizontal plot."
   ]
  },
  {
   "cell_type": "code",
   "execution_count": null,
   "id": "cf654237-7bda-4c08-9dda-413e9a159a06",
   "metadata": {},
   "outputs": [],
   "source": [
    "uxvar = uxds_a['theta'] - 273.15   ## Kelvin to Celsius"
   ]
  },
  {
   "cell_type": "markdown",
   "id": "3272fe80-0e8a-458e-891e-4880271aee7f",
   "metadata": {},
   "source": [
    "Also, for simplicity, let's focus at the vertical level and time indices of 0. "
   ]
  },
  {
   "cell_type": "code",
   "execution_count": null,
   "id": "20f70a26-bf17-466a-b9a8-8d3e335cb782",
   "metadata": {},
   "outputs": [],
   "source": [
    "i_lev = 0   # `nVertLevels` index\n",
    "i_time = 0  # `Time` index"
   ]
  },
  {
   "cell_type": "code",
   "execution_count": null,
   "id": "7d2e7583-db70-4c47-8c90-6fbaa248dcfb",
   "metadata": {},
   "outputs": [],
   "source": [
    "%%time\n",
    "\n",
    "plot = hslice_contour(uxvar.isel(Time=0, nVertLevels=i_lev), title=f'Contour plot for potential temperature over a region: lev={i_lev}') #, symmetric_cmap=True)\n",
    "plot * coast_lines * state_lines"
   ]
  },
  {
   "cell_type": "markdown",
   "id": "6eda8134-9ad6-458e-8124-891b26138012",
   "metadata": {},
   "source": [
    "## Vertical cross section"
   ]
  },
  {
   "cell_type": "code",
   "execution_count": null,
   "id": "a22d00f9-c715-47b2-b541-b932c7300356",
   "metadata": {},
   "outputs": [],
   "source": [
    "# %%time\n",
    "\n",
    "# tmp = vslice_contour(uxvar, lat=42.63, clevels=10)\n",
    "# display(tmp)"
   ]
  },
  {
   "cell_type": "markdown",
   "id": "d66955e9-f567-46ec-8156-7db2ea0997ad",
   "metadata": {},
   "source": [
    "Let us use UXarray's vertical cross-section function to get a cross-section over a great circle arc:"
   ]
  },
  {
   "cell_type": "code",
   "execution_count": null,
   "id": "1a7c6c9e-51d7-4324-b200-565fca7625e6",
   "metadata": {},
   "outputs": [],
   "source": [
    "%%time\n",
    "\n",
    "start_point = (-120, 20)\n",
    "end_point = (-70, 50)\n",
    "\n",
    "cross_section_gca = uxvar.cross_section(start=start_point, end=end_point, steps=100)"
   ]
  },
  {
   "cell_type": "markdown",
   "id": "7176b6e0-a913-4f5e-93cc-805f6f4efc46",
   "metadata": {},
   "source": [
    "UXarray's cross-section returns an `xarray.DataArray` that can then be plotted:"
   ]
  },
  {
   "cell_type": "code",
   "execution_count": null,
   "id": "4c931b8d-6876-41a7-8a3d-9c7b1e04fbf4",
   "metadata": {},
   "outputs": [],
   "source": [
    "cross_section_gca.isel(Time=0).transpose().plot.contourf()"
   ]
  },
  {
   "cell_type": "markdown",
   "id": "08503943-9a42-4d6b-ac51-fc3c3a479ea8",
   "metadata": {},
   "source": [
    "## compute the analysis increments from the JEDI data assimilation\n",
    "JEDI updates the background atmospheric state (`uxds_b`) with observation innovations and gets a new atmospheric state called analysis (`uxds_a`).  \n",
    "The difference of `uxds_a` - `uxds_b` is called \"analysis increments\""
   ]
  },
  {
   "cell_type": "code",
   "execution_count": null,
   "id": "83870527-8104-4f7c-a5c5-ee123fb75247",
   "metadata": {},
   "outputs": [],
   "source": [
    "%%time \n",
    "\n",
    "var_name = \"theta\"\n",
    "uxdiff0 = uxds_a[var_name] - uxds_b[var_name]\n",
    "uxvar = uxdiff0"
   ]
  },
  {
   "cell_type": "markdown",
   "id": "d2fef896-7789-49d1-acb6-da2158bd3499",
   "metadata": {},
   "source": [
    "## plot temperature analysis increments at different levels"
   ]
  },
  {
   "cell_type": "code",
   "execution_count": null,
   "id": "fae9c4cf-f2b1-475d-ae7c-be4e48ee6af1",
   "metadata": {},
   "outputs": [],
   "source": [
    "%%time\n",
    "\n",
    "nt=0  # time dimension\n",
    "plot_levels = [0, 29, 42]  # [0, 29, 42]  # [0, 19, 29, 39, 49, 58]\n",
    "\n",
    "# Create the colormap\n",
    "# colors = ['blue', 'white', 'red']    \n",
    "# cmap = LinearSegmentedColormap.from_list('blue_white_red', colors)\n",
    "# zero_shift = 0.02 \n",
    "\n",
    "cmap = plt.get_cmap('coolwarm')\n",
    "zero_shift = 0.0\n",
    "\n",
    "plots = []\n",
    "for lev in plot_levels:\n",
    "    #  use hslice_contour0() which uses 0 divide the cool and warm colors in the plot by default\n",
    "    #\n",
    "    # tmp = hslice_contour0(\n",
    "    #     uxvar.isel(Time=nt, nVertLevels=lev), \n",
    "    #     title=f'lev={lev}', \n",
    "    #     cmap=cmap, \n",
    "    #     zero_shift=zero_shift, \n",
    "    #     clevs_multiplier=1,\n",
    "    # )  # for the whole domain  \n",
    "\n",
    "    # hslice_contour() does not dvide the cool and warm colors at 0 by default\n",
    "    # But it can be achieved by setting symmetric_cmap=True which will set symmetric cmax/cmin automatically,\n",
    "    #       or mannualy setting symmetric cmax/cmin\n",
    "    #\n",
    "    tmp = hslice_contour(\n",
    "        uxvar.isel(Time=nt, nVertLevels=lev), \n",
    "        title=f'lev={lev}',\n",
    "        symmetric_cmap=True,\n",
    "        #clevs=20,\n",
    "    )  # for the whole domain\n",
    "    \n",
    "    plots.append(tmp * coast_lines * state_lines)\n",
    "\n",
    "# plots share one toolbar, which facilitates doing sync'ed zoom-in/out\n",
    "# hv.Layout(plots).cols(1)\n",
    "\n",
    "# each plot has its own toolbar, which facilitates controlling each plot individually\n",
    "for p in plots:\n",
    "   display(p)"
   ]
  },
  {
   "cell_type": "markdown",
   "id": "f6733ae8-62da-4ecc-9f79-4d0834e9414c",
   "metadata": {},
   "source": [
    "## Zoomed into Colorado using the subset capability"
   ]
  },
  {
   "cell_type": "code",
   "execution_count": null,
   "id": "14f201f3-900a-4517-abf2-ad55efd967e1",
   "metadata": {},
   "outputs": [],
   "source": [
    "%%time\n",
    "\n",
    "lon_center = -105.03\n",
    "lat_center = 39.0\n",
    "lon_incr = 5 # degree\n",
    "lat_incr = 3 # degree\n",
    "lon_bounds = (lon_center - lon_incr, lon_center + lon_incr)\n",
    "lat_bounds = (lat_center - lat_incr, lat_center + lat_incr)\n",
    "\n",
    "### subset to a small domain\n",
    "uxdiff1 = uxdiff0.subset.bounding_box(lon_bounds, lat_bounds,)\n",
    "uxvar = uxdiff1\n",
    "\n",
    "\n",
    "nt=0  # time dimension\n",
    "plot_levels = [42]  # [0, 29, 42]  # [0, 19, 29, 39, 49, 58]\n",
    "\n",
    "plots = []\n",
    "for lev in plot_levels:\n",
    "    tmp = hslice_contour(uxvar.isel(Time=nt, nVertLevels=lev), title=f'lev={lev}', width=700, height=500)  # for the subdomain\n",
    "    \n",
    "    # overlay state_lines\n",
    "    #plots.append(tmp * coast_lines * state_lines)  \n",
    "    \n",
    "    # overlay county lines, this takes longer time to render\n",
    "    plots.append(tmp * coast_lines.opts(xlim=(lon_bounds[0], lon_bounds[1]), ylim=(lat_bounds[0], lat_bounds[1])))\n",
    "\n",
    "# plots share one toolbar, which facilitates doing sync'ed zoom-in/out\n",
    "# hv.Layout(plots).cols(1)\n",
    "\n",
    "# each plot has its own toolbar, which facilitates controlling each plot individually\n",
    "for p in plots:\n",
    "   display(p)"
   ]
  },
  {
   "cell_type": "markdown",
   "id": "b42ef48b-be1b-4d4f-93cf-79a791e84cc9",
   "metadata": {},
   "source": [
    "## vertical cross section of temperature increments"
   ]
  },
  {
   "cell_type": "code",
   "execution_count": null,
   "id": "3622dd7d-5685-4988-9ef6-81ac9dcdc79c",
   "metadata": {},
   "outputs": [],
   "source": [
    "%%time\n",
    "\n",
    "# tmp = vslice_contour(uxvar, lon=-85.77, clevels=10)\n",
    "# display(tmp)\n",
    "tmp = vslice_contour(uxvar, lat=42.63, clevels=10)\n",
    "display(tmp)"
   ]
  },
  {
   "cell_type": "markdown",
   "id": "584076c9-5b5b-4cf8-a44c-7c91936e80b9",
   "metadata": {},
   "source": [
    "## save plots to files"
   ]
  },
  {
   "cell_type": "code",
   "execution_count": null,
   "id": "1c60b17c-e42a-4682-844b-128db51e0c70",
   "metadata": {},
   "outputs": [],
   "source": [
    "hv.save(tmp, 'vslice.png')"
   ]
  }
 ],
 "metadata": {
  "kernelspec": {
   "display_name": "Python 3 (ipykernel)",
   "language": "python",
   "name": "python3"
  },
  "language_info": {
   "codemirror_mode": {
    "name": "ipython",
    "version": 3
   },
   "file_extension": ".py",
   "mimetype": "text/x-python",
   "name": "python",
   "nbconvert_exporter": "python",
   "pygments_lexer": "ipython3",
   "version": "3.11.11"
  }
 },
 "nbformat": 4,
 "nbformat_minor": 5
}
