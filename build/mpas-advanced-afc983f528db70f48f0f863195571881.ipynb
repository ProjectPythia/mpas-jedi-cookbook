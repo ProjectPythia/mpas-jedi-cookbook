{
 "cells": [
  {
   "cell_type": "markdown",
   "id": "d42403d2-1f38-40d8-8a16-bce3c99b59f8",
   "metadata": {},
   "source": [
    "# Advanced MPAS Analysis & Visualization with UXarray"
   ]
  },
  {
   "cell_type": "markdown",
   "id": "c4291d90-50a8-48b4-a763-7ece16499cdb",
   "metadata": {},
   "source": [
    "<img src=\"path or URL to some visual here\"\n",
    "     width=\"30%\"\n",
    "     alt=\"MPAS advanced visual\"\n",
    "     align=\"right\"\n",
    "/>\n",
    "\n",
    "### In this section, you'll learn:\n",
    "\n",
    "* Utilizing the UXarray package to perform advanced analysis over MPAS data, such as cross-sections and zonal averages, etc.\n",
    "* Using Matplotlib and hvPlot to visualize analysis.\n",
    "\n",
    "### Related Documentation\n",
    "\n",
    "* [URL title](URL)\n",
    "* \n",
    "\n",
    "### Prerequisites\n",
    "\n",
    "| Concepts | Importance | Notes |\n",
    "| --- | --- | --- |\n",
    "| [UXarray](https://uxarray--1321.org.readthedocs.build/en/1321/index.html#) | Necessary  | |\n",
    "| [SciPy](https://scipy.org/) | Helpful  | |\n",
    "| [HoloViews](https://holoviews.org/) | Helpful | |\n",
    "\n",
    "\n",
    "**Time to learn**: 30 minutes?\n",
    "\n",
    "-----"
   ]
  },
  {
   "cell_type": "markdown",
   "id": "45ab765a-e1ea-4fe3-ab57-5c51179d6e7b",
   "metadata": {},
   "source": [
    "## Import packages\n"
   ]
  },
  {
   "cell_type": "code",
   "execution_count": null,
   "id": "e5786447-ca78-45ed-be6e-fc43fcce58b3",
   "metadata": {},
   "outputs": [],
   "source": [
    "%%time \n",
    "\n",
    "# autoload external python modules if they changed\n",
    "%load_ext autoreload\n",
    "%autoreload 2\n",
    "\n",
    "# add ../funcs to the current path\n",
    "import sys, os\n",
    "sys.path.append(os.path.join(os.getcwd(), \"..\")) \n",
    "\n",
    "import warnings\n",
    "import math\n",
    "\n",
    "import cartopy.crs as ccrs\n",
    "import geoviews as gv\n",
    "import geoviews.feature as gf\n",
    "import matplotlib.pyplot as plt\n",
    "\n",
    "import s3fs\n",
    "\n",
    "import geopandas as gp\n",
    "import numpy as np\n",
    "import uxarray as ux\n",
    "import xarray as xr"
   ]
  },
  {
   "cell_type": "markdown",
   "id": "440680ba-dacf-4617-b0c5-beea08f78198",
   "metadata": {},
   "source": [
    "#### UXarray and hvPlot\n",
    "`hvPlot` is a high-level API built on `HoloViews` that provides interactive plots. It is integrated with `UXarray` with a `.hvplot()` similar to `.plot()` in `Pandas` library, but will produce more interactive figures. Import the relevant packages if you want to use the `hvplot` API."
   ]
  },
  {
   "cell_type": "code",
   "execution_count": null,
   "id": "a422173e-4e89-48d9-83fe-1fc5bc2740c2",
   "metadata": {},
   "outputs": [],
   "source": [
    "%%time \n",
    "import holoviews as hv\n",
    "import hvplot.xarray\n",
    "from holoviews import opts\n",
    "\n",
    "hv.extension(\"bokeh\")\n",
    "hv.extension(\"matplotlib\")\n"
   ]
  },
  {
   "cell_type": "markdown",
   "id": "5e00234e-3984-47b5-9968-5485f9a94e38",
   "metadata": {},
   "source": [
    "## Configure visualization tools"
   ]
  },
  {
   "cell_type": "code",
   "execution_count": null,
   "id": "b654be71-a194-4c61-8e47-ae78bcef07cb",
   "metadata": {},
   "outputs": [],
   "source": [
    "# common border lines\n",
    "coast_lines = gf.coastline(projection=ccrs.PlateCarree(), line_width=1, scale=\"50m\")\n",
    "state_lines = gf.states(projection=ccrs.PlateCarree(), line_width=1, line_color='gray', scale=\"50m\")"
   ]
  },
  {
   "cell_type": "markdown",
   "id": "6fdf6ee5-3639-4d57-894f-6cd047f7a2ce",
   "metadata": {},
   "source": [
    "## Load MPAS data\n",
    "\n",
    "Let us use the unstructured-grid analysis data hosted by the Jetstream2 S3 bucket repository using UXaray. The data is executed by [MPAS](https://mpas-dev.github.io/) over the CONUS (contiguous United States) with a resolution of 12 kilometres, which is stored in the NetCDF format. Depending on the network, the data loading process may take a few minutes.\n",
    "\n",
    "For more information about the `UXarray` and unstructured grid, please go to [Working with unstructured grids with UXarray](https://uxarray.readthedocs.io/en/v2023.08.0/examples/001-working-with-unstructured-grids.html)."
   ]
  },
  {
   "cell_type": "markdown",
   "id": "d77d663d-79a7-45b1-9ff3-8752f6853f3b",
   "metadata": {},
   "source": [
    "### Data paths to the JetStream2 and S3 objects"
   ]
  },
  {
   "cell_type": "code",
   "execution_count": null,
   "id": "03124b28-8ea3-4c7b-91c2-a9f2919f3021",
   "metadata": {},
   "outputs": [],
   "source": [
    "%%time\n",
    "\n",
    "jetstream_url = 'https://js2.jetstream-cloud.org:8001/'\n",
    "fs = s3fs.S3FileSystem(anon=True, asynchronous=False,client_kwargs=dict(endpoint_url=jetstream_url))\n",
    "conus12_path = 's3://pythia/mpas/conus12km'\n",
    "\n",
    "grid_url=f\"{conus12_path}/conus12km.invariant.nc_L60_GFS\"\n",
    "ana_url=f\"{conus12_path}/ana/mpasout.2024-05-06_01.00.00.nc\"\n",
    "\n",
    "grid_file = fs.open(grid_url)\n",
    "ana_file = fs.open(ana_url) # ana is short for analysis data from MPAS, which is improved from the 'background' "
   ]
  },
  {
   "cell_type": "markdown",
   "id": "21553ae5-4686-4f12-8fa8-e31d359f2156",
   "metadata": {},
   "source": [
    "### Open UXarray datasets\n",
    "We will extract the potential temperature `theta` from the analysis data from MPAS and convert it from Kelvin to Celsius."
   ]
  },
  {
   "cell_type": "code",
   "execution_count": null,
   "id": "f629cbc1-9f14-41f6-b41e-179a0724fc70",
   "metadata": {},
   "outputs": [],
   "source": [
    "%%time \n",
    "uxds_a = ux.open_dataset(grid_file, ana_file)\n",
    "uxvar = uxds_a['theta'] - 273.15   ## Kelvin to Celsius"
   ]
  },
  {
   "cell_type": "markdown",
   "id": "3272fe80-0e8a-458e-891e-4880271aee7f",
   "metadata": {},
   "source": [
    "### Indexing and selecting parameters\n",
    "Also, for simplicity, let's focus on the time indices of 0. "
   ]
  },
  {
   "cell_type": "code",
   "execution_count": null,
   "id": "20f70a26-bf17-466a-b9a8-8d3e335cb782",
   "metadata": {},
   "outputs": [],
   "source": [
    "i_time = 0  # `Time` index\n",
    "uxvar = uxvar.isel(Time=0)"
   ]
  },
  {
   "cell_type": "markdown",
   "id": "6eda8134-9ad6-458e-8124-891b26138012",
   "metadata": {},
   "source": [
    "## Vertical cross section\n",
    "\n",
    "Based on `UXarray`, we will generate cross-sections:\n",
    "\n",
    "- along an arbitrary great‑circle arcs (GCAs) between two point over the sphere surface.\n",
    "- along a constant longitude or latitude line and\n",
    "\n",
    "We will also mark the lines or arcs over a map.\n",
    "\n",
    ":::{hint}\n",
    "We assume that you have already gone over the previous section, **[Basic MPAS analysis and visualization with UXarray](mpas-basic)**. If not and if you need to learn about basic indexing, selecting, and generating horizontal figures of variables, we recommend to check that section first.\n",
    ":::"
   ]
  },
  {
   "cell_type": "markdown",
   "id": "b59886b4-ec83-4f41-8fbf-e217b0eab610",
   "metadata": {},
   "source": [
    "### Plot Parameters"
   ]
  },
  {
   "cell_type": "code",
   "execution_count": null,
   "id": "1ce8973a-85ee-439c-b538-d904999ff335",
   "metadata": {},
   "outputs": [],
   "source": [
    "# for matplotlib\n",
    "tick_stride=10\n",
    "\n",
    "# for hvplot"
   ]
  },
  {
   "cell_type": "markdown",
   "id": "d2564759-c114-494e-b28e-d7a0aff13d51",
   "metadata": {},
   "source": [
    "### Random Great Circle Arc (GCA)\n",
    "\n",
    "Let us use UXarray's vertical cross-section function to get a cross-section over a great circle arc:"
   ]
  },
  {
   "cell_type": "code",
   "execution_count": null,
   "id": "1a7c6c9e-51d7-4324-b200-565fca7625e6",
   "metadata": {},
   "outputs": [],
   "source": [
    "%%time\n",
    "\n",
    "start_point = (-60.,20.) # (start_lon, start_lat)\n",
    "end_point = (-40., 50.) # (end_lon,end_lat)\n",
    "step_between_points = 100\n",
    "\n",
    "cross_section_gca = uxvar.cross_section(start=start_point, end=end_point, steps=step_between_points)\n",
    "cross_section_gca"
   ]
  },
  {
   "cell_type": "code",
   "execution_count": null,
   "id": "732af46b-3a37-45e0-9be3-981614199f93",
   "metadata": {},
   "outputs": [],
   "source": [
    "hlabelticks = [\n",
    "    f\"{abs(lat):.1f}°{'N' if lat >= 0 else 'S'}\\n{abs(lon):.1f}°{'E' if lon >= 0 else 'W'}\"\n",
    "    for lat, lon in zip(cross_section_gca['lat'], cross_section_gca['lon'])\n",
    "]"
   ]
  },
  {
   "cell_type": "markdown",
   "id": "7176b6e0-a913-4f5e-93cc-805f6f4efc46",
   "metadata": {},
   "source": [
    "UXarray's cross-section returns an `xarray.DataArray` that can then be plotted:"
   ]
  },
  {
   "cell_type": "code",
   "execution_count": null,
   "id": "4c931b8d-6876-41a7-8a3d-9c7b1e04fbf4",
   "metadata": {},
   "outputs": [],
   "source": [
    "%matplotlib inline\n",
    "\n",
    "\n",
    "fig= plt.figure(figsize=(8,3))\n",
    "gs= fig.add_gridspec(1,1)\n",
    "ax = fig.add_subplot(gs[0,0])\n",
    "cf=ax.contourf(cross_section_gca.transpose(),cmap='Reds',extend='both')\n",
    "\n",
    "ax.set_xticks(cross_section_gca['steps'][::tick_stride])\n",
    "ax.set_xticklabels(hlabelticks[::tick_stride])"
   ]
  },
  {
   "cell_type": "markdown",
   "id": "1456f39d-6bf5-46b7-ae1b-88f9bc1bde25",
   "metadata": {},
   "source": [
    "### Constant Latitude"
   ]
  },
  {
   "cell_type": "code",
   "execution_count": null,
   "id": "ce8fa335-814e-4454-b4d7-4626244b9d5e",
   "metadata": {},
   "outputs": [],
   "source": [
    "lat=43.3\n",
    "step_between_points = 100\n",
    "\n",
    "cross_section_lat = uxvar.cross_section(lat=lat, steps=step_between_points)\n",
    "\n",
    "hlabelticks = [\n",
    "    f\"{abs(lon):.1f}°{'E' if lon >= 0 else 'W'}\" for lon in cross_section_lat['lon']\n",
    "]\n",
    "\n",
    "%matplotlib inline\n",
    "fig= plt.figure(figsize=(8,3))\n",
    "gs= fig.add_gridspec(1,1)\n",
    "ax = fig.add_subplot(gs[0,0])\n",
    "cf=ax.contourf(cross_section_lat.transpose(),cmap='Reds',extend='both')\n",
    "\n",
    "\n",
    "ax.set_xticks(cross_section_lat['steps'][::tick_stride])\n",
    "ax.set_xticklabels(hlabelticks[::tick_stride])"
   ]
  },
  {
   "cell_type": "code",
   "execution_count": null,
   "id": "20d627ac-591e-4c62-8c71-d9de3474eb08",
   "metadata": {},
   "outputs": [],
   "source": [
    "\n",
    "cross_section_lat.assign_coords({'steps':range(len(hlabelticks)),'nVertLevels':range(cross_section_lat.shape[1])}).hvplot.contourf(\n",
    "        x=cross_section_lat.dims[0],y=cross_section_lat.dims[1],\n",
    "        ) "
   ]
  },
  {
   "cell_type": "markdown",
   "id": "f4401882-a72a-4a73-ad9f-2c74f636853c",
   "metadata": {},
   "source": [
    "### COnst"
   ]
  },
  {
   "cell_type": "code",
   "execution_count": null,
   "id": "6a360c21-cb79-4e9d-9c45-92e680ae09ba",
   "metadata": {},
   "outputs": [],
   "source": [
    "lon=-83.3\n",
    "cross_section_lon = uxvar.cross_section(lon=lon, steps=step_between_points)\n",
    "\n",
    "hlabelticks = [\n",
    "    f\"{abs(lat):.1f}°{'N' if lat >= 0 else 'S'}\" for lat in cross_section_lon['lat']\n",
    "]\n",
    "\n",
    "%matplotlib inline\n",
    "fig= plt.figure(figsize=(8,3))\n",
    "gs= fig.add_gridspec(1,1)\n",
    "ax = fig.add_subplot(gs[0,0])\n",
    "cf=ax.contourf(cross_section_lon.transpose(),cmap='Reds',extend='both')\n",
    "\n",
    "ax.set_xticks(cross_section_lon['steps'][::tick_stride])\n",
    "ax.set_xticklabels(hlabelticks[::tick_stride])"
   ]
  },
  {
   "cell_type": "code",
   "execution_count": null,
   "id": "b50fa21d-0a15-455a-a857-3a53b2257cde",
   "metadata": {},
   "outputs": [],
   "source": [
    "cross_section_lon = uxvar.cross_section(lon=-60., steps=100)\n",
    "cross_section_lon"
   ]
  },
  {
   "cell_type": "code",
   "execution_count": null,
   "id": "81b28d1f-c9cf-414a-8c0a-eb456e9b514f",
   "metadata": {},
   "outputs": [],
   "source": [
    "cross_section_lat = uxvar.cross_section(lat=40., steps=100)\n",
    "cross_section_lat"
   ]
  },
  {
   "cell_type": "code",
   "execution_count": null,
   "id": "9a5df3c8-6ac5-440c-b895-59629cf82c38",
   "metadata": {},
   "outputs": [],
   "source": []
  }
 ],
 "metadata": {
  "kernelspec": {
   "display_name": "Python 3 (ipykernel)",
   "language": "python",
   "name": "python3"
  },
  "language_info": {
   "codemirror_mode": {
    "name": "ipython",
    "version": 3
   },
   "file_extension": ".py",
   "mimetype": "text/x-python",
   "name": "python",
   "nbconvert_exporter": "python",
   "pygments_lexer": "ipython3",
   "version": "3.11.11"
  },
  "widgets": {
   "application/vnd.jupyter.widget-state+json": {
    "state": {},
    "version_major": 2,
    "version_minor": 0
   }
  }
 },
 "nbformat": 4,
 "nbformat_minor": 5
}
