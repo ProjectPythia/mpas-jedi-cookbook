{
 "cells": [
  {
   "cell_type": "markdown",
   "id": "d42403d2-1f38-40d8-8a16-bce3c99b59f8",
   "metadata": {},
   "source": [
    "# Basic MPAS Analysis & Visualization with UXarray"
   ]
  },
  {
   "cell_type": "markdown",
   "id": "c4291d90-50a8-48b4-a763-7ece16499cdb",
   "metadata": {},
   "source": [
    "<img src=\"path or URL to some visual here\"\n",
    "     width=\"30%\"\n",
    "     alt=\"MPAS visual\"\n",
    "     align=\"right\"\n",
    "/>\n",
    "\n",
    "### In this section, you'll learn:\n",
    "\n",
    "* Utilizing ...\n",
    "\n",
    "### Related Documentation\n",
    "\n",
    "* [URL title](URL)\n",
    "* \n",
    "\n",
    "### Prerequisites\n",
    "\n",
    "| Concepts | Importance | Notes |\n",
    "| --- | --- | --- |\n",
    "| [URL title](URL) | Necessary OR Helpful?  | |\n",
    "\n",
    "**Time to learn**: 30 minutes?\n",
    "\n",
    "-----"
   ]
  },
  {
   "cell_type": "markdown",
   "id": "45ab765a-e1ea-4fe3-ab57-5c51179d6e7b",
   "metadata": {},
   "source": [
    "## Import packages"
   ]
  },
  {
   "cell_type": "code",
   "execution_count": null,
   "id": "e5786447-ca78-45ed-be6e-fc43fcce58b3",
   "metadata": {},
   "outputs": [],
   "source": [
    "%%time \n",
    "\n",
    "# autoload external python modules if they changed\n",
    "%load_ext autoreload\n",
    "%autoreload 2\n",
    "\n",
    "# add ../funcs to the current path\n",
    "import sys, os\n",
    "sys.path.append(os.path.join(os.getcwd(), \"..\")) \n",
    "\n",
    "# import modules\n",
    "import warnings\n",
    "import math\n",
    "\n",
    "import cartopy.crs as ccrs\n",
    "import geoviews as gv\n",
    "import geoviews.feature as gf\n",
    "import holoviews as hv\n",
    "import hvplot.xarray\n",
    "from holoviews import opts\n",
    "import matplotlib.pyplot as plt\n",
    "\n",
    "import s3fs\n",
    "\n",
    "import geopandas as gp\n",
    "import numpy as np\n",
    "import uxarray as ux\n",
    "import xarray as xr"
   ]
  },
  {
   "cell_type": "markdown",
   "id": "5e00234e-3984-47b5-9968-5485f9a94e38",
   "metadata": {},
   "source": [
    "## Configure visualization tools"
   ]
  },
  {
   "cell_type": "code",
   "execution_count": null,
   "id": "b654be71-a194-4c61-8e47-ae78bcef07cb",
   "metadata": {},
   "outputs": [],
   "source": [
    "# hv.extension(\"bokeh\")\n",
    "# hv.extension(\"matplotlib\")\n",
    "\n",
    "\n",
    "# common border lines\n",
    "coast_lines = gf.coastline(projection=ccrs.PlateCarree(), line_width=1, scale=\"50m\")\n",
    "state_lines = gf.states(projection=ccrs.PlateCarree(), line_width=1, line_color='gray', scale=\"50m\")"
   ]
  },
  {
   "cell_type": "markdown",
   "id": "7e3dc6e4-05b4-4c94-b046-29560ec0375c",
   "metadata": {},
   "source": [
    "## Convenience functions"
   ]
  },
  {
   "cell_type": "code",
   "execution_count": 1,
   "id": "784472d9-2439-49e9-8e20-82859442b884",
   "metadata": {},
   "outputs": [],
   "source": [
    "# contour horizontal cross sections\n",
    "def hslice_contour(ux_hslice, title, cmin=None, cmax=None, width=800, height=500, clevs=20, cmap=\"coolwarm\", symmetric_cmap=False):\n",
    "    # Get min and max\n",
    "    amin = ux_hslice.min().item()\n",
    "    amax = ux_hslice.max().item()\n",
    "    title += f\" min={amin:.1f} max={amax:.1f}\"\n",
    "    if cmin is None:\n",
    "        cmin = math.floor(amin)\n",
    "    if cmax is None:\n",
    "        cmax = math.ceil(amax)\n",
    "    if symmetric_cmap:  # to get a symmetric color map when cmin < 0, cmax >0\n",
    "        cmax = max(abs(cmin), cmax)\n",
    "        cmin = -cmax\n",
    "\n",
    "    if isinstance(cmap, str):\n",
    "        cmap = plt.get_cmap(cmap)\n",
    "\n",
    "    # generate contour plot\n",
    "    contour_plot = hv.operation.contours(\n",
    "        ux_hslice.plot(),\n",
    "        levels=np.linspace(cmin, cmax, num=clevs),  # levels=np.arange(cmin, cmax, 0.5)\n",
    "        filled=True\n",
    "    ).opts(\n",
    "        line_color=None,  # line_width=0.001\n",
    "        width=width, height=height,\n",
    "        cmap='coolwarm',\n",
    "        clim=(cmin, cmax),\n",
    "        colorbar=True,  # cmap=\"inferno\"\n",
    "        show_legend=False, tools=['hover'], title=title,\n",
    "    )\n",
    "\n",
    "    return contour_plot"
   ]
  },
  {
   "cell_type": "markdown",
   "id": "6fdf6ee5-3639-4d57-894f-6cd047f7a2ce",
   "metadata": {},
   "source": [
    "## Load MPAS data\n",
    "Depending on the network, the data loading process may take a few minutes"
   ]
  },
  {
   "cell_type": "markdown",
   "id": "d77d663d-79a7-45b1-9ff3-8752f6853f3b",
   "metadata": {},
   "source": [
    "### Data paths to the JetStream2 and S3 objects"
   ]
  },
  {
   "cell_type": "code",
   "execution_count": null,
   "id": "03124b28-8ea3-4c7b-91c2-a9f2919f3021",
   "metadata": {},
   "outputs": [],
   "source": [
    "%%time\n",
    "\n",
    "jetstream_url = 'https://js2.jetstream-cloud.org:8001/'\n",
    "fs = s3fs.S3FileSystem(anon=True, asynchronous=False,client_kwargs=dict(endpoint_url=jetstream_url))\n",
    "conus12_path = 's3://pythia/mpas/conus12km'\n",
    "\n",
    "grid_url=f\"{conus12_path}/conus12km.invariant.nc_L60_GFS\"\n",
    "bkg_url=f\"{conus12_path}/bkg/mpasout.2024-05-06_01.00.00.nc\"\n",
    "ana_url=f\"{conus12_path}/ana/mpasout.2024-05-06_01.00.00.nc\"\n",
    "\n",
    "grid_file = fs.open(grid_url)\n",
    "ana_file = fs.open(ana_url)\n",
    "bkg_file = fs.open(bkg_url)"
   ]
  },
  {
   "cell_type": "markdown",
   "id": "21553ae5-4686-4f12-8fa8-e31d359f2156",
   "metadata": {},
   "source": [
    "### Open UXarray datasets"
   ]
  },
  {
   "cell_type": "code",
   "execution_count": null,
   "id": "f629cbc1-9f14-41f6-b41e-179a0724fc70",
   "metadata": {},
   "outputs": [],
   "source": [
    "%%time \n",
    "\n",
    "uxds_a = ux.open_dataset(grid_file, ana_file)\n",
    "uxds_b = ux.open_dataset(grid_file, bkg_file)"
   ]
  },
  {
   "cell_type": "markdown",
   "id": "0c49ff2c-6a5d-46f9-ab3a-e33f02101954",
   "metadata": {},
   "source": [
    "## Regional temperature contour"
   ]
  },
  {
   "cell_type": "markdown",
   "id": "9ca5cb63-17db-4c31-bc03-75da72ff867f",
   "metadata": {},
   "source": [
    "Let us use the `theta` (potential temperature) variable from this dataset, which has a `(Time, n_face, nVertLevels)`, i.e. `Time * Number of grid faces * Number of vertical levels` dimensionality to have a look at a regional, horizontal plot."
   ]
  },
  {
   "cell_type": "code",
   "execution_count": null,
   "id": "cf654237-7bda-4c08-9dda-413e9a159a06",
   "metadata": {},
   "outputs": [],
   "source": [
    "uxvar = uxds_a['theta'] - 273.15   ## Kelvin to Celsius"
   ]
  },
  {
   "cell_type": "markdown",
   "id": "3272fe80-0e8a-458e-891e-4880271aee7f",
   "metadata": {},
   "source": [
    "Also, for simplicity, let's focus at the vertical level and time indices of 0. "
   ]
  },
  {
   "cell_type": "code",
   "execution_count": null,
   "id": "20f70a26-bf17-466a-b9a8-8d3e335cb782",
   "metadata": {},
   "outputs": [],
   "source": [
    "i_lev = 0   # `nVertLevels` index\n",
    "i_time = 0  # `Time` index"
   ]
  },
  {
   "cell_type": "code",
   "execution_count": null,
   "id": "7d2e7583-db70-4c47-8c90-6fbaa248dcfb",
   "metadata": {},
   "outputs": [],
   "source": [
    "%%time\n",
    "\n",
    "plot = hslice_contour(uxvar.isel(Time=0, nVertLevels=i_lev), title=f'Contour plot for potential temperature over a region (lev={i_lev}') #, symmetric_cmap=True)\n",
    "plot * coast_lines * state_lines"
   ]
  }
 ],
 "metadata": {
  "kernelspec": {
   "display_name": "Python 3 (ipykernel)",
   "language": "python",
   "name": "python3"
  },
  "language_info": {
   "codemirror_mode": {
    "name": "ipython",
    "version": 3
   },
   "file_extension": ".py",
   "mimetype": "text/x-python",
   "name": "python",
   "nbconvert_exporter": "python",
   "pygments_lexer": "ipython3",
   "version": "3.11.11"
  }
 },
 "nbformat": 4,
 "nbformat_minor": 5
}
